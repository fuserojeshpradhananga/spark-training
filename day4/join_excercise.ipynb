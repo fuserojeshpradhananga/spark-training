{
 "cells": [
  {
   "cell_type": "code",
   "execution_count": 4,
   "metadata": {},
   "outputs": [
    {
     "name": "stderr",
     "output_type": "stream",
     "text": [
      "23/09/03 19:57:16 WARN Utils: Your hostname, rojesh-Predator-PHN16-71 resolves to a loopback address: 127.0.1.1; using 192.168.18.4 instead (on interface wlp0s20f3)\n",
      "23/09/03 19:57:16 WARN Utils: Set SPARK_LOCAL_IP if you need to bind to another address\n",
      "Setting default log level to \"WARN\".\n",
      "To adjust logging level use sc.setLogLevel(newLevel). For SparkR, use setLogLevel(newLevel).\n",
      "23/09/03 19:57:17 WARN NativeCodeLoader: Unable to load native-hadoop library for your platform... using builtin-java classes where applicable\n",
      "23/09/03 19:57:17 WARN Utils: Service 'SparkUI' could not bind on port 4040. Attempting port 4041.\n",
      "23/09/03 19:57:17 WARN Utils: Service 'SparkUI' could not bind on port 4041. Attempting port 4042.\n"
     ]
    }
   ],
   "source": [
    "from pyspark.sql import SparkSession\n",
    "from pyspark.sql.functions import col, count, when, lit , avg, coalesce , struct,array , explode, create_map\n",
    "from pyspark.sql.types import StructType, StructField, StringType, IntegerType, FloatType\n",
    "\n",
    "\n",
    "# Create a Spark session\n",
    "spark = SparkSession.builder.appName(\"day4\").getOrCreate()\n"
   ]
  },
  {
   "cell_type": "code",
   "execution_count": 5,
   "metadata": {},
   "outputs": [
    {
     "name": "stdout",
     "output_type": "stream",
     "text": [
      "Employee Dataframe\n",
      "root\n",
      " |-- Employee_Id: integer (nullable = true)\n",
      " |-- Employee_name: string (nullable = true)\n",
      " |-- department_id: integer (nullable = true)\n",
      "\n"
     ]
    },
    {
     "name": "stderr",
     "output_type": "stream",
     "text": [
      "                                                                                \r"
     ]
    },
    {
     "name": "stdout",
     "output_type": "stream",
     "text": [
      "+-----------+-------------+-------------+\n",
      "|Employee_Id|Employee_name|department_id|\n",
      "+-----------+-------------+-------------+\n",
      "|          1|  Pallavi mam|          101|\n",
      "|          2|          Bob|          102|\n",
      "|          3|        Cathy|          101|\n",
      "|          4|        David|          103|\n",
      "|          5|    Amrit Sir|          104|\n",
      "|          6|        Alice|         null|\n",
      "|          7|          Eva|         null|\n",
      "|          8|        Frank|          110|\n",
      "|          9|        Grace|          109|\n",
      "|         10|        Henry|         null|\n",
      "+-----------+-------------+-------------+\n",
      "\n",
      "Department Dataframe\n",
      "root\n",
      " |-- department_id: integer (nullable = true)\n",
      " |-- department_name: string (nullable = true)\n",
      "\n",
      "+-------------+------------------------+\n",
      "|department_id|department_name         |\n",
      "+-------------+------------------------+\n",
      "|101          |Hr                      |\n",
      "|102          |Engineering             |\n",
      "|103          |Finance                 |\n",
      "|104          |Marketing               |\n",
      "|105          |Operation               |\n",
      "|106          |null                    |\n",
      "|107          |Operations              |\n",
      "|108          |Production              |\n",
      "|null         |Finance                 |\n",
      "|110          |Research and Development|\n",
      "+-------------+------------------------+\n",
      "\n"
     ]
    }
   ],
   "source": [
    "\n",
    "\n",
    "employee_data = [(1,'Pallavi mam',101),\n",
    "                 (2,'Bob',102),\n",
    "                 (3,'Cathy',101),\n",
    "                 (4,'David',103),\n",
    "                 (5,'Amrit Sir',104),\n",
    "                 (6,'Alice',None),\n",
    "                 (7,'Eva',None),\n",
    "                 (8,'Frank',110),\n",
    "                 (9,'Grace',109),\n",
    "                 (10,'Henry',None)]\n",
    "\n",
    "Department_Data = [(101,'Hr'),\n",
    "                   (102,'Engineering'),\n",
    "                   (103,'Finance'),\n",
    "                   (104,'Marketing'),\n",
    "                   (105,'Operation'),\n",
    "                   (106,None),\n",
    "                   (107,'Operations'),\n",
    "                   (108,'Production'),\n",
    "                   (None,'Finance'),\n",
    "                   (110,'Research and Development')]\n",
    "\n",
    "employee_schema = StructType([\n",
    "    StructField(\"Employee_Id\",IntegerType(),True),\n",
    "    StructField(\"Employee_name\",StringType(),True),\n",
    "    StructField(\"department_id\",IntegerType(),True)\n",
    "])\n",
    "\n",
    "department_schema = StructType([\n",
    "    StructField(\"department_id\",IntegerType(),True),\n",
    "    StructField(\"department_name\",StringType(),True)\n",
    "])\n",
    "\n",
    "employee_df  = spark.createDataFrame(data=employee_data,schema=employee_schema)\n",
    "department_df = spark.createDataFrame(data=Department_Data, schema=department_schema)\n",
    "\n",
    "print(\"Employee Dataframe\")\n",
    "employee_df.printSchema()\n",
    "employee_df.show()\n",
    "\n",
    "print(\"Department Dataframe\")\n",
    "department_df.printSchema()\n",
    "department_df.show(truncate=False)"
   ]
  },
  {
   "cell_type": "code",
   "execution_count": 6,
   "metadata": {},
   "outputs": [
    {
     "name": "stdout",
     "output_type": "stream",
     "text": [
      "root\n",
      " |-- Employee_Id: integer (nullable = true)\n",
      " |-- Employee_name: string (nullable = true)\n",
      " |-- department_id: integer (nullable = true)\n",
      "\n",
      "root\n",
      " |-- department_id: integer (nullable = true)\n",
      " |-- department_name: string (nullable = true)\n",
      "\n"
     ]
    }
   ],
   "source": [
    "employee_df.printSchema()\n",
    "\n",
    "\n",
    "department_df.printSchema()"
   ]
  },
  {
   "cell_type": "markdown",
   "metadata": {},
   "source": [
    "### Join Expressions\n",
    "\n",
    "Question: How can you combine the employees_df and departments_df DataFrames based on the common \"department_id\" column to get a combined DataFrame with employee names and their respective department names?"
   ]
  },
  {
   "cell_type": "code",
   "execution_count": 7,
   "metadata": {},
   "outputs": [
    {
     "name": "stdout",
     "output_type": "stream",
     "text": [
      "+-------------+--------------------+\n",
      "|employee_name|     department_name|\n",
      "+-------------+--------------------+\n",
      "|  Pallavi mam|                  Hr|\n",
      "|        Cathy|                  Hr|\n",
      "|          Bob|         Engineering|\n",
      "|        David|             Finance|\n",
      "|    Amrit Sir|           Marketing|\n",
      "|        Frank|Research and Deve...|\n",
      "+-------------+--------------------+\n",
      "\n"
     ]
    }
   ],
   "source": [
    "\n",
    "#combining the DataFrames using an inner join on the \"department_id\" column\n",
    "combined_df = employee_df.join(department_df, on='department_id', how='inner')\n",
    "\n",
    "#selecting the columns you want to keep in the combined DataFrame\n",
    "selected_columns = [\"employee_name\", \"department_name\"]\n",
    "\n",
    "#selecting only the desired columns\n",
    "result_df = combined_df.select(selected_columns)\n",
    "\n",
    "#showing the result DataFrame\n",
    "result_df.show()"
   ]
  },
  {
   "cell_type": "markdown",
   "metadata": {},
   "source": [
    "### Inner Joins\n",
    "\n",
    "Question: How can you retrieve employee names and their respective department names for employees belonging to the \"Engineering\" department?"
   ]
  },
  {
   "cell_type": "code",
   "execution_count": 9,
   "metadata": {},
   "outputs": [
    {
     "name": "stdout",
     "output_type": "stream",
     "text": [
      "+-------------+---------------+\n",
      "|employee_name|department_name|\n",
      "+-------------+---------------+\n",
      "|          Bob|    Engineering|\n",
      "+-------------+---------------+\n",
      "\n"
     ]
    }
   ],
   "source": [
    "#combining the DataFrames using an inner join on the \"department_id\" column\n",
    "combined_df = employee_df.join(department_df, on='department_id', how='inner')\n",
    "\n",
    "#filtering the combined DataFrame to get employees in the \"Engineering\" department\n",
    "engineering_employees_df = combined_df.filter(combined_df.department_name == \"Engineering\")\n",
    "\n",
    "#selecting employee names and department names\n",
    "result_df = engineering_employees_df.select(\"employee_name\", \"department_name\")\n",
    "\n",
    "#showing the result DataFrame\n",
    "result_df.show()"
   ]
  },
  {
   "cell_type": "markdown",
   "metadata": {},
   "source": [
    "### Outer Joins\n",
    "\n",
    "Question: Retrieve a DataFrame that contains all employees along with their department names. If an employee doesn't have a department assigned, display \"No Department\"."
   ]
  },
  {
   "cell_type": "code",
   "execution_count": 12,
   "metadata": {},
   "outputs": [
    {
     "name": "stdout",
     "output_type": "stream",
     "text": [
      "+-------------+--------------------+\n",
      "|employee_name|     department_name|\n",
      "+-------------+--------------------+\n",
      "|No Department|             Finance|\n",
      "|        Alice|       No Department|\n",
      "|          Eva|       No Department|\n",
      "|        Henry|       No Department|\n",
      "|  Pallavi mam|                  Hr|\n",
      "|        Cathy|                  Hr|\n",
      "|          Bob|         Engineering|\n",
      "|        David|             Finance|\n",
      "|    Amrit Sir|           Marketing|\n",
      "|No Department|           Operation|\n",
      "|No Department|       No Department|\n",
      "|No Department|          Operations|\n",
      "|No Department|          Production|\n",
      "|        Grace|       No Department|\n",
      "|        Frank|Research and Deve...|\n",
      "+-------------+--------------------+\n",
      "\n"
     ]
    }
   ],
   "source": [
    "joinExpression = department_df['department_id'] == employee_df['department_id']\n",
    "joinType = 'outer'\n",
    "\n",
    "#Outer joined two dataframes which returned every value possible and null if any value is not present\n",
    "outer_joined_df = department_df.join(employee_df, joinExpression, joinType).select(employee_df['employee_name'],department_df['department_name'])\n",
    "\n",
    "#filled null with default value as No Department\n",
    "No_dept_filled = outer_joined_df.na.fill('No Department')\n",
    "No_dept_filled.show()"
   ]
  },
  {
   "cell_type": "markdown",
   "metadata": {},
   "source": [
    "### Left Outer Joins\n",
    "\n",
    "Question: List all employees along with their department names. If an employee doesn't have a department assigned, display \"No Department\"."
   ]
  },
  {
   "cell_type": "code",
   "execution_count": 14,
   "metadata": {},
   "outputs": [
    {
     "name": "stdout",
     "output_type": "stream",
     "text": [
      "+-------------+--------------------+\n",
      "|employee_name|     department_name|\n",
      "+-------------+--------------------+\n",
      "|  Pallavi mam|                  Hr|\n",
      "|          Bob|         Engineering|\n",
      "|        Cathy|                  Hr|\n",
      "|        David|             Finance|\n",
      "|    Amrit Sir|           Marketing|\n",
      "|        Alice|       no Department|\n",
      "|          Eva|       no Department|\n",
      "|        Frank|Research and Deve...|\n",
      "|        Grace|       no Department|\n",
      "|        Henry|       no Department|\n",
      "+-------------+--------------------+\n",
      "\n"
     ]
    }
   ],
   "source": [
    "joinType = 'left_outer'\n",
    "employee_df.join(department_df,joinExpression,joinType).select(employee_df['employee_name'],department_df['department_name']).na.fill('no Department').show()"
   ]
  },
  {
   "cell_type": "markdown",
   "metadata": {},
   "source": [
    "### Right Outer Joins\n",
    "\n",
    "Question: Display a list of departments along with employee names. If a department has no employees, display \"No Employees\".\n",
    "\n"
   ]
  },
  {
   "cell_type": "code",
   "execution_count": 18,
   "metadata": {},
   "outputs": [
    {
     "name": "stdout",
     "output_type": "stream",
     "text": [
      "+--------------------+-------------+\n",
      "|     department_name|employee_name|\n",
      "+--------------------+-------------+\n",
      "|                  Hr|        Cathy|\n",
      "|                  Hr|  Pallavi mam|\n",
      "|         Engineering|          Bob|\n",
      "|             Finance|        David|\n",
      "|           Marketing|    Amrit Sir|\n",
      "|           Operation|  No Employee|\n",
      "|                null|  No Employee|\n",
      "|          Operations|  No Employee|\n",
      "|          Production|  No Employee|\n",
      "|             Finance|  No Employee|\n",
      "|Research and Deve...|        Frank|\n",
      "+--------------------+-------------+\n",
      "\n"
     ]
    }
   ],
   "source": [
    "joinType = 'right_outer'\n",
    "\n",
    "employee_df.join(department_df,joinExpression,joinType).select(department_df['department_name'],employee_df['employee_name']).na.fill('No Employee', subset=['employee_name']).show()\n"
   ]
  },
  {
   "cell_type": "markdown",
   "metadata": {},
   "source": [
    "### Left Semi Joins\n",
    "\n",
    "Question: Retrieve a DataFrame that includes employee names for departments that have employees.\n",
    "\n"
   ]
  },
  {
   "cell_type": "code",
   "execution_count": 19,
   "metadata": {},
   "outputs": [
    {
     "name": "stdout",
     "output_type": "stream",
     "text": [
      "+-------------+\n",
      "|employee_name|\n",
      "+-------------+\n",
      "|  Pallavi mam|\n",
      "|        Cathy|\n",
      "|          Bob|\n",
      "|        David|\n",
      "|    Amrit Sir|\n",
      "|        Frank|\n",
      "+-------------+\n",
      "\n"
     ]
    }
   ],
   "source": [
    "joinType = 'left_semi'\n",
    "\n",
    "employee_df.join(department_df,joinExpression,joinType).select(employee_df['employee_name']).show()"
   ]
  },
  {
   "cell_type": "markdown",
   "metadata": {},
   "source": [
    "### Left Anti Joins\n",
    "\n",
    "Question: Find the employees who don't belong to any department."
   ]
  },
  {
   "cell_type": "code",
   "execution_count": 22,
   "metadata": {},
   "outputs": [
    {
     "name": "stdout",
     "output_type": "stream",
     "text": [
      "+-------------+\n",
      "|employee_name|\n",
      "+-------------+\n",
      "|        Alice|\n",
      "|          Eva|\n",
      "|        Grace|\n",
      "|        Henry|\n",
      "+-------------+\n",
      "\n"
     ]
    }
   ],
   "source": [
    "#performing a left anti join to find employees who don't belong to any department\n",
    "employees_without_departments_df = employee_df.join(\n",
    "    department_df,\n",
    "    joinExpression,\n",
    "    \"left_anti\"\n",
    ")\n",
    "\n",
    "#selecting the columns you want to keep\n",
    "result_df = employees_without_departments_df.select(col(\"employee_name\"))\n",
    "\n",
    "#shwoing the employees without departments\n",
    "result_df.show()"
   ]
  },
  {
   "cell_type": "markdown",
   "metadata": {},
   "source": [
    "### Cross (Cartesian) Joins\n",
    "\n",
    "Question: Create a DataFrame that contains all possible combinations of employees and departments."
   ]
  },
  {
   "cell_type": "code",
   "execution_count": 24,
   "metadata": {},
   "outputs": [
    {
     "name": "stderr",
     "output_type": "stream",
     "text": [
      "[Stage 59:==========================================>           (78 + 20) / 100]\r"
     ]
    },
    {
     "name": "stdout",
     "output_type": "stream",
     "text": [
      "+-----------+-------------+-------------+-------------+--------------------+\n",
      "|Employee_Id|Employee_name|department_id|department_id|     department_name|\n",
      "+-----------+-------------+-------------+-------------+--------------------+\n",
      "|          1|  Pallavi mam|          101|          101|                  Hr|\n",
      "|          1|  Pallavi mam|          101|          102|         Engineering|\n",
      "|          1|  Pallavi mam|          101|          103|             Finance|\n",
      "|          1|  Pallavi mam|          101|          104|           Marketing|\n",
      "|          1|  Pallavi mam|          101|          105|           Operation|\n",
      "|          1|  Pallavi mam|          101|          106|                null|\n",
      "|          1|  Pallavi mam|          101|          107|          Operations|\n",
      "|          1|  Pallavi mam|          101|          108|          Production|\n",
      "|          1|  Pallavi mam|          101|         null|             Finance|\n",
      "|          1|  Pallavi mam|          101|          110|Research and Deve...|\n",
      "|          2|          Bob|          102|          101|                  Hr|\n",
      "|          2|          Bob|          102|          102|         Engineering|\n",
      "|          2|          Bob|          102|          103|             Finance|\n",
      "|          2|          Bob|          102|          104|           Marketing|\n",
      "|          2|          Bob|          102|          105|           Operation|\n",
      "|          2|          Bob|          102|          106|                null|\n",
      "|          2|          Bob|          102|          107|          Operations|\n",
      "|          2|          Bob|          102|          108|          Production|\n",
      "|          2|          Bob|          102|         null|             Finance|\n",
      "|          2|          Bob|          102|          110|Research and Deve...|\n",
      "+-----------+-------------+-------------+-------------+--------------------+\n",
      "only showing top 20 rows\n",
      "\n"
     ]
    },
    {
     "name": "stderr",
     "output_type": "stream",
     "text": [
      "                                                                                \r"
     ]
    }
   ],
   "source": [
    "joinType = 'cross'\n",
    "employee_df.crossJoin(department_df).show()\n"
   ]
  },
  {
   "cell_type": "code",
   "execution_count": null,
   "metadata": {},
   "outputs": [],
   "source": []
  }
 ],
 "metadata": {
  "kernelspec": {
   "display_name": "Python 3",
   "language": "python",
   "name": "python3"
  },
  "language_info": {
   "codemirror_mode": {
    "name": "ipython",
    "version": 3
   },
   "file_extension": ".py",
   "mimetype": "text/x-python",
   "name": "python",
   "nbconvert_exporter": "python",
   "pygments_lexer": "ipython3",
   "version": "3.10.12"
  },
  "orig_nbformat": 4
 },
 "nbformat": 4,
 "nbformat_minor": 2
}
