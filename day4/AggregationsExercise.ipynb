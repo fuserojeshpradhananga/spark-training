{
 "cells": [
  {
   "attachments": {},
   "cell_type": "markdown",
   "metadata": {},
   "source": [
    "##  Aggregations\n",
    "\n"
   ]
  },
  {
   "attachments": {},
   "cell_type": "markdown",
   "metadata": {},
   "source": [
    "### Step 1: Initialize PySpark Session\n"
   ]
  },
  {
   "cell_type": "code",
   "execution_count": 45,
   "metadata": {},
   "outputs": [],
   "source": [
    "from pyspark.sql import SparkSession\n",
    "\n",
    "# Create a Spark session\n",
    "spark = SparkSession.builder.appName(\"day3\").getOrCreate()\n"
   ]
  },
  {
   "attachments": {},
   "cell_type": "markdown",
   "metadata": {},
   "source": [
    "### Step 2: Load the Dataset\n"
   ]
  },
  {
   "cell_type": "code",
   "execution_count": 46,
   "metadata": {},
   "outputs": [],
   "source": [
    "# Load the Chipotle dataset into a Spark DataFrame\n",
    "data_path = \"../data/US_Crime_Rates_1960_2014.csv\"  # Replace with the actual path\n",
    "US_Crime_Rates_1960_2014_df = spark.read.csv(data_path, header=True, inferSchema=True)\n",
    "\n",
    "# Load the Chipotle dataset into a Spark DataFrame\n",
    "data_path = \"../data/titanic.csv\"  # Replace with the actual path\n",
    "titanic_df = spark.read.csv(data_path, header=True, inferSchema=True)\n"
   ]
  },
  {
   "cell_type": "code",
   "execution_count": 3,
   "metadata": {},
   "outputs": [
    {
     "name": "stdout",
     "output_type": "stream",
     "text": [
      "root\n",
      " |-- Year: integer (nullable = true)\n",
      " |-- Population: integer (nullable = true)\n",
      " |-- Total: integer (nullable = true)\n",
      " |-- Violent: integer (nullable = true)\n",
      " |-- Property: integer (nullable = true)\n",
      " |-- Murder: integer (nullable = true)\n",
      " |-- Forcible_Rape: integer (nullable = true)\n",
      " |-- Robbery: integer (nullable = true)\n",
      " |-- Aggravated_assault: integer (nullable = true)\n",
      " |-- Burglary: integer (nullable = true)\n",
      " |-- Larceny_Theft: integer (nullable = true)\n",
      " |-- Vehicle_Theft: integer (nullable = true)\n",
      "\n"
     ]
    }
   ],
   "source": [
    "US_Crime_Rates_1960_2014_df.printSchema()"
   ]
  },
  {
   "cell_type": "code",
   "execution_count": 17,
   "metadata": {},
   "outputs": [
    {
     "name": "stdout",
     "output_type": "stream",
     "text": [
      "+----+----------+--------+-------+--------+------+-------------+-------+------------------+--------+-------------+-------------+\n",
      "|Year|Population|   Total|Violent|Property|Murder|Forcible_Rape|Robbery|Aggravated_assault|Burglary|Larceny_Theft|Vehicle_Theft|\n",
      "+----+----------+--------+-------+--------+------+-------------+-------+------------------+--------+-------------+-------------+\n",
      "|1960| 179323175| 3384200| 288460| 3095700|  9110|        17190| 107840|            154320|  912100|      1855400|       328200|\n",
      "|1961| 182992000| 3488000| 289390| 3198600|  8740|        17220| 106670|            156760|  949600|      1913000|       336000|\n",
      "|1962| 185771000| 3752200| 301510| 3450700|  8530|        17550| 110860|            164570|  994300|      2089600|       366800|\n",
      "|1963| 188483000| 4109500| 316970| 3792500|  8640|        17650| 116470|            174210| 1086400|      2297800|       408300|\n",
      "|1964| 191141000| 4564600| 364220| 4200400|  9360|        21420| 130390|            203050| 1213200|      2514400|       472800|\n",
      "|1965| 193526000| 4739400| 387390| 4352000|  9960|        23410| 138690|            215330| 1282500|      2572600|       496900|\n",
      "|1966| 195576000| 5223500| 430180| 4793300| 11040|        25820| 157990|            235330| 1410100|      2822000|       561200|\n",
      "|1967| 197457000| 5903400| 499930| 5403500| 12240|        27620| 202910|            257160| 1632100|      3111600|       659800|\n",
      "|1968| 199399000| 6720200| 595010| 6125200| 13800|        31670| 262840|            286700| 1858900|      3482700|       783600|\n",
      "|1969| 201385000| 7410900| 661870| 6749000| 14760|        37170| 298850|            311090| 1981900|      3888600|       878500|\n",
      "|1970| 203235298| 8098000| 738820| 7359200| 16000|        37990| 349860|            334970| 2205000|      4225800|       928400|\n",
      "|1971| 206212000| 8588200| 816500| 7771700| 17780|        42260| 387700|            368760| 2399300|      4424200|       948200|\n",
      "|1972| 208230000| 8248800| 834900| 7413900| 18670|        46850| 376290|            393090| 2375500|      4151200|       887200|\n",
      "|1973| 209851000| 8718100| 875910| 7842200| 19640|        51400| 384220|            420650| 2565500|      4347900|       928800|\n",
      "|1974| 211392000|10253400| 974720| 9278700| 20710|        55400| 442400|            456210| 3039200|      5262500|       977100|\n",
      "|1975| 213124000|11292400|1039710|10252700| 20510|        56090| 470500|            492620| 3265300|      5977700|      1009600|\n",
      "|1976| 214659000|11349700|1004210|10345500| 18780|        57080| 427810|            500530| 3108700|      6270800|       966000|\n",
      "|1977| 216332000|10984500|1029580| 9955000| 19120|        63500| 412610|            534350| 3071500|      5905700|       977700|\n",
      "|1978| 218059000|11209000|1085550|10123400| 19560|        67610| 426930|            571460| 3128300|      5991000|      1004100|\n",
      "|1979| 220099000|12249500|1208030|11041500| 21460|        76390| 480700|            629480| 3327700|      6601000|      1112800|\n",
      "+----+----------+--------+-------+--------+------+-------------+-------+------------------+--------+-------------+-------------+\n",
      "only showing top 20 rows\n",
      "\n"
     ]
    }
   ],
   "source": [
    "US_Crime_Rates_1960_2014_df.show()"
   ]
  },
  {
   "attachments": {},
   "cell_type": "markdown",
   "metadata": {},
   "source": [
    "### count\n",
    "\n",
    "Question: How many records are there in the US_Crime_Rates_1960_2014_df DataFrame?"
   ]
  },
  {
   "cell_type": "code",
   "execution_count": 4,
   "metadata": {},
   "outputs": [
    {
     "name": "stdout",
     "output_type": "stream",
     "text": [
      "Total number of records: 55\n"
     ]
    }
   ],
   "source": []
  },
  {
   "attachments": {},
   "cell_type": "markdown",
   "metadata": {},
   "source": [
    "### countDistinct\n",
    "Question: How many distinct years are present in the US_Crime_Rates_1960_2014_df DataFrame?\n",
    "Answer:"
   ]
  },
  {
   "cell_type": "code",
   "execution_count": 6,
   "metadata": {},
   "outputs": [
    {
     "name": "stdout",
     "output_type": "stream",
     "text": [
      "Number of distinct years: 55\n"
     ]
    }
   ],
   "source": []
  },
  {
   "attachments": {},
   "cell_type": "markdown",
   "metadata": {},
   "source": [
    "### approx_count_distinct\n",
    "\n",
    "Question: Estimate the approximate number of distinct values in the \"Total\" column of the US_Crime_Rates_1960_2014_df DataFrame."
   ]
  },
  {
   "cell_type": "code",
   "execution_count": 9,
   "metadata": {},
   "outputs": [
    {
     "name": "stderr",
     "output_type": "stream",
     "text": [
      "23/08/22 10:34:44 WARN package: Truncated the string representation of a plan since it was too large. This behavior can be adjusted by setting 'spark.sql.debug.maxToStringFields'.\n"
     ]
    },
    {
     "name": "stdout",
     "output_type": "stream",
     "text": [
      "Approximate distinct values in 'Total' column: 55\n"
     ]
    }
   ],
   "source": []
  },
  {
   "attachments": {},
   "cell_type": "markdown",
   "metadata": {},
   "source": [
    "###  first and last\n",
    "\n",
    "Question: Find the first and last year in the US_Crime_Rates_1960_2014_df DataFrame."
   ]
  },
  {
   "cell_type": "code",
   "execution_count": 10,
   "metadata": {},
   "outputs": [
    {
     "name": "stdout",
     "output_type": "stream",
     "text": [
      "First year: 1960\n",
      "Last year: 2014\n"
     ]
    }
   ],
   "source": []
  },
  {
   "attachments": {},
   "cell_type": "markdown",
   "metadata": {},
   "source": [
    "### min and max\n",
    "\n",
    "Question: Find the minimum and maximum population values in the US_Crime_Rates_1960_2014_df DataFrame."
   ]
  },
  {
   "cell_type": "code",
   "execution_count": 12,
   "metadata": {},
   "outputs": [
    {
     "name": "stdout",
     "output_type": "stream",
     "text": [
      "Minimum population: 179323175\n",
      "Maximum population: 318857056\n"
     ]
    }
   ],
   "source": []
  },
  {
   "attachments": {},
   "cell_type": "markdown",
   "metadata": {},
   "source": [
    "### sumDistinct\n",
    "\n",
    "Question: Calculate the sum of distinct \"Property\" values for each year in the US_Crime_Rates_1960_2014_df DataFrame."
   ]
  },
  {
   "cell_type": "code",
   "execution_count": 14,
   "metadata": {},
   "outputs": [
    {
     "name": "stderr",
     "output_type": "stream",
     "text": [
      "/home/fm-pc-lt-321/Desktop/suyesh/chatbot/test/openai/lib/python3.8/site-packages/pyspark/sql/functions.py:752: FutureWarning: Deprecated in 3.2, use sum_distinct instead.\n",
      "  warnings.warn(\"Deprecated in 3.2, use sum_distinct instead.\", FutureWarning)\n"
     ]
    },
    {
     "name": "stdout",
     "output_type": "stream",
     "text": [
      "+----+-------------------+\n",
      "|Year|SumDistinctProperty|\n",
      "+----+-------------------+\n",
      "|1990|           12655500|\n",
      "|1975|           10252700|\n",
      "|1977|            9955000|\n",
      "|2003|           10442862|\n",
      "|2007|            9843481|\n",
      "|1974|            9278700|\n",
      "|2006|            9983568|\n",
      "|1978|           10123400|\n",
      "|1961|            3198600|\n",
      "|2013|            8650761|\n",
      "|1988|           12356900|\n",
      "|1997|           11558175|\n",
      "|1994|           12131900|\n",
      "|1968|            6125200|\n",
      "|2014|            8277829|\n",
      "|1973|            7842200|\n",
      "|1979|           11041500|\n",
      "|1971|            7771700|\n",
      "|1966|            4793300|\n",
      "|2004|           10319386|\n",
      "+----+-------------------+\n",
      "only showing top 20 rows\n",
      "\n"
     ]
    }
   ],
   "source": []
  },
  {
   "attachments": {},
   "cell_type": "markdown",
   "metadata": {},
   "source": [
    "### avg\n",
    "\n",
    "Question: Calculate the average \"Murder\" rate for the entire dataset in the US_Crime_Rates_1960_2014_df DataFrame.\n",
    "Answer:"
   ]
  },
  {
   "cell_type": "code",
   "execution_count": 19,
   "metadata": {},
   "outputs": [
    {
     "name": "stdout",
     "output_type": "stream",
     "text": [
      "Average murder rate: 17317.236363636363\n"
     ]
    }
   ],
   "source": []
  },
  {
   "attachments": {},
   "cell_type": "markdown",
   "metadata": {},
   "source": [
    "### Aggregating to Complex Types\n",
    "\n",
    "Question: Calculate the total sum of \"Violent\" and \"Property\" crimes for each year in the US_Crime_Rates_1960_2014_df DataFrame. Store the results in a struct type column."
   ]
  },
  {
   "cell_type": "code",
   "execution_count": 21,
   "metadata": {},
   "outputs": [
    {
     "name": "stdout",
     "output_type": "stream",
     "text": [
      "+----+-------------------+\n",
      "|Year|CrimeSums          |\n",
      "+----+-------------------+\n",
      "|1960|{288460, 3095700}  |\n",
      "|1961|{289390, 3198600}  |\n",
      "|1962|{301510, 3450700}  |\n",
      "|1963|{316970, 3792500}  |\n",
      "|1964|{364220, 4200400}  |\n",
      "|1965|{387390, 4352000}  |\n",
      "|1966|{430180, 4793300}  |\n",
      "|1967|{499930, 5403500}  |\n",
      "|1968|{595010, 6125200}  |\n",
      "|1969|{661870, 6749000}  |\n",
      "|1970|{738820, 7359200}  |\n",
      "|1971|{816500, 7771700}  |\n",
      "|1972|{834900, 7413900}  |\n",
      "|1973|{875910, 7842200}  |\n",
      "|1974|{974720, 9278700}  |\n",
      "|1975|{1039710, 10252700}|\n",
      "|1976|{1004210, 10345500}|\n",
      "|1977|{1029580, 9955000} |\n",
      "|1978|{1085550, 10123400}|\n",
      "|1979|{1208030, 11041500}|\n",
      "+----+-------------------+\n",
      "only showing top 20 rows\n",
      "\n"
     ]
    }
   ],
   "source": []
  },
  {
   "attachments": {},
   "cell_type": "markdown",
   "metadata": {},
   "source": [
    "### Grouping\n",
    "\n",
    "Question: In the given US_Crime_Rates_1960_2014_df DataFrame, you are tasked with finding the average of all crimes combined for each year. Calculate the sum of all crime categories (Violent, Property, Murder, Forcible_Rape, Robbery, Aggravated_assault, Burglary, Larceny_Theft, Vehicle_Theft) for each year and then determine the average of these combined crime sums. Provide the result as the average of all crimes across the entire dataset."
   ]
  },
  {
   "cell_type": "code",
   "execution_count": 32,
   "metadata": {},
   "outputs": [
    {
     "name": "stdout",
     "output_type": "stream",
     "text": [
      "Average of all crimes: 21201546.145454545\n",
      "+----+---------+\n",
      "|Year|AVG_Crime|\n",
      "+----+---------+\n",
      "|1960|  6768320|\n",
      "|1961|  6975980|\n",
      "|1962|  7504420|\n",
      "|1963|  8218940|\n",
      "|1964|  9129240|\n",
      "|1965|  9478780|\n",
      "|1966| 10446960|\n",
      "|1967| 11806860|\n",
      "|1968| 13440420|\n",
      "|1969| 14821740|\n",
      "|1970| 16196040|\n",
      "|1971| 17176400|\n",
      "|1972| 16497600|\n",
      "|1973| 17436220|\n",
      "|1974| 20506940|\n",
      "|1975| 22584730|\n",
      "|1976| 22699410|\n",
      "|1977| 21969060|\n",
      "|1978| 22417910|\n",
      "|1979| 24499060|\n",
      "+----+---------+\n",
      "only showing top 20 rows\n",
      "\n"
     ]
    }
   ],
   "source": []
  },
  {
   "attachments": {},
   "cell_type": "markdown",
   "metadata": {},
   "source": [
    "### Window Functions\n",
    "\n",
    "Question: Calculate the cumulative sum of \"Property\" values over the years using a window function in the US_Crime_Rates_1960_2014_df DataFrame."
   ]
  },
  {
   "cell_type": "code",
   "execution_count": 25,
   "metadata": {},
   "outputs": [
    {
     "name": "stdout",
     "output_type": "stream",
     "text": [
      "+----+----------+--------+-------+--------+------+-------------+-------+------------------+--------+-------------+-------------+---------------------+\n",
      "|Year|Population|   Total|Violent|Property|Murder|Forcible_Rape|Robbery|Aggravated_assault|Burglary|Larceny_Theft|Vehicle_Theft|CumulativePropertySum|\n",
      "+----+----------+--------+-------+--------+------+-------------+-------+------------------+--------+-------------+-------------+---------------------+\n",
      "|1960| 179323175| 3384200| 288460| 3095700|  9110|        17190| 107840|            154320|  912100|      1855400|       328200|              3095700|\n",
      "|1961| 182992000| 3488000| 289390| 3198600|  8740|        17220| 106670|            156760|  949600|      1913000|       336000|              3198600|\n",
      "|1962| 185771000| 3752200| 301510| 3450700|  8530|        17550| 110860|            164570|  994300|      2089600|       366800|              3450700|\n",
      "|1963| 188483000| 4109500| 316970| 3792500|  8640|        17650| 116470|            174210| 1086400|      2297800|       408300|              3792500|\n",
      "|1964| 191141000| 4564600| 364220| 4200400|  9360|        21420| 130390|            203050| 1213200|      2514400|       472800|              4200400|\n",
      "|1965| 193526000| 4739400| 387390| 4352000|  9960|        23410| 138690|            215330| 1282500|      2572600|       496900|              4352000|\n",
      "|1966| 195576000| 5223500| 430180| 4793300| 11040|        25820| 157990|            235330| 1410100|      2822000|       561200|              4793300|\n",
      "|1967| 197457000| 5903400| 499930| 5403500| 12240|        27620| 202910|            257160| 1632100|      3111600|       659800|              5403500|\n",
      "|1968| 199399000| 6720200| 595010| 6125200| 13800|        31670| 262840|            286700| 1858900|      3482700|       783600|              6125200|\n",
      "|1969| 201385000| 7410900| 661870| 6749000| 14760|        37170| 298850|            311090| 1981900|      3888600|       878500|              6749000|\n",
      "|1970| 203235298| 8098000| 738820| 7359200| 16000|        37990| 349860|            334970| 2205000|      4225800|       928400|              7359200|\n",
      "|1971| 206212000| 8588200| 816500| 7771700| 17780|        42260| 387700|            368760| 2399300|      4424200|       948200|              7771700|\n",
      "|1972| 208230000| 8248800| 834900| 7413900| 18670|        46850| 376290|            393090| 2375500|      4151200|       887200|              7413900|\n",
      "|1973| 209851000| 8718100| 875910| 7842200| 19640|        51400| 384220|            420650| 2565500|      4347900|       928800|              7842200|\n",
      "|1974| 211392000|10253400| 974720| 9278700| 20710|        55400| 442400|            456210| 3039200|      5262500|       977100|              9278700|\n",
      "|1975| 213124000|11292400|1039710|10252700| 20510|        56090| 470500|            492620| 3265300|      5977700|      1009600|             10252700|\n",
      "|1976| 214659000|11349700|1004210|10345500| 18780|        57080| 427810|            500530| 3108700|      6270800|       966000|             10345500|\n",
      "|1977| 216332000|10984500|1029580| 9955000| 19120|        63500| 412610|            534350| 3071500|      5905700|       977700|              9955000|\n",
      "|1978| 218059000|11209000|1085550|10123400| 19560|        67610| 426930|            571460| 3128300|      5991000|      1004100|             10123400|\n",
      "|1979| 220099000|12249500|1208030|11041500| 21460|        76390| 480700|            629480| 3327700|      6601000|      1112800|             11041500|\n",
      "+----+----------+--------+-------+--------+------+-------------+-------+------------------+--------+-------------+-------------+---------------------+\n",
      "only showing top 20 rows\n",
      "\n"
     ]
    }
   ],
   "source": []
  },
  {
   "attachments": {},
   "cell_type": "markdown",
   "metadata": {},
   "source": [
    "### Pivot\n",
    "Question: You are working with a DataFrame named US_Crime_Rates_1960_2014_df that contains crime data for different crime types over the years. "
   ]
  },
  {
   "cell_type": "code",
   "execution_count": 52,
   "metadata": {},
   "outputs": [
    {
     "name": "stderr",
     "output_type": "stream",
     "text": [
      "                                                                                \r"
     ]
    },
    {
     "name": "stdout",
     "output_type": "stream",
     "text": [
      "+----+------+------+------+------+------+------+------+------+------+------+------+------+------+------+------+------+------+------+------+------+----+----+----+----+----+----+----+----+----+----+----+----+----+----+----+----+----+----+----+----+----+----+----+----+----+----+----+----+----+----+----+----+----+----+----+\n",
      "|Year|  1960|  1961|  1962|  1963|  1964|  1965|  1966|  1967|  1968|  1969|  1970|  1971|  1972|  1973|  1974|  1975|  1976|  1977|  1978|  1979|1980|1981|1982|1983|1984|1985|1986|1987|1988|1989|1990|1991|1992|1993|1994|1995|1996|1997|1998|1999|2000|2001|2002|2003|2004|2005|2006|2007|2008|2009|2010|2011|2012|2013|2014|\n",
      "+----+------+------+------+------+------+------+------+------+------+------+------+------+------+------+------+------+------+------+------+------+----+----+----+----+----+----+----+----+----+----+----+----+----+----+----+----+----+----+----+----+----+----+----+----+----+----+----+----+----+----+----+----+----+----+----+\n",
      "|1960|107840|  null|  null|  null|  null|  null|  null|  null|  null|  null|  null|  null|  null|  null|  null|  null|  null|  null|  null|  null|null|null|null|null|null|null|null|null|null|null|null|null|null|null|null|null|null|null|null|null|null|null|null|null|null|null|null|null|null|null|null|null|null|null|null|\n",
      "|1961|  null|106670|  null|  null|  null|  null|  null|  null|  null|  null|  null|  null|  null|  null|  null|  null|  null|  null|  null|  null|null|null|null|null|null|null|null|null|null|null|null|null|null|null|null|null|null|null|null|null|null|null|null|null|null|null|null|null|null|null|null|null|null|null|null|\n",
      "|1962|  null|  null|110860|  null|  null|  null|  null|  null|  null|  null|  null|  null|  null|  null|  null|  null|  null|  null|  null|  null|null|null|null|null|null|null|null|null|null|null|null|null|null|null|null|null|null|null|null|null|null|null|null|null|null|null|null|null|null|null|null|null|null|null|null|\n",
      "|1963|  null|  null|  null|116470|  null|  null|  null|  null|  null|  null|  null|  null|  null|  null|  null|  null|  null|  null|  null|  null|null|null|null|null|null|null|null|null|null|null|null|null|null|null|null|null|null|null|null|null|null|null|null|null|null|null|null|null|null|null|null|null|null|null|null|\n",
      "|1964|  null|  null|  null|  null|130390|  null|  null|  null|  null|  null|  null|  null|  null|  null|  null|  null|  null|  null|  null|  null|null|null|null|null|null|null|null|null|null|null|null|null|null|null|null|null|null|null|null|null|null|null|null|null|null|null|null|null|null|null|null|null|null|null|null|\n",
      "|1965|  null|  null|  null|  null|  null|138690|  null|  null|  null|  null|  null|  null|  null|  null|  null|  null|  null|  null|  null|  null|null|null|null|null|null|null|null|null|null|null|null|null|null|null|null|null|null|null|null|null|null|null|null|null|null|null|null|null|null|null|null|null|null|null|null|\n",
      "|1966|  null|  null|  null|  null|  null|  null|157990|  null|  null|  null|  null|  null|  null|  null|  null|  null|  null|  null|  null|  null|null|null|null|null|null|null|null|null|null|null|null|null|null|null|null|null|null|null|null|null|null|null|null|null|null|null|null|null|null|null|null|null|null|null|null|\n",
      "|1967|  null|  null|  null|  null|  null|  null|  null|202910|  null|  null|  null|  null|  null|  null|  null|  null|  null|  null|  null|  null|null|null|null|null|null|null|null|null|null|null|null|null|null|null|null|null|null|null|null|null|null|null|null|null|null|null|null|null|null|null|null|null|null|null|null|\n",
      "|1968|  null|  null|  null|  null|  null|  null|  null|  null|262840|  null|  null|  null|  null|  null|  null|  null|  null|  null|  null|  null|null|null|null|null|null|null|null|null|null|null|null|null|null|null|null|null|null|null|null|null|null|null|null|null|null|null|null|null|null|null|null|null|null|null|null|\n",
      "|1969|  null|  null|  null|  null|  null|  null|  null|  null|  null|298850|  null|  null|  null|  null|  null|  null|  null|  null|  null|  null|null|null|null|null|null|null|null|null|null|null|null|null|null|null|null|null|null|null|null|null|null|null|null|null|null|null|null|null|null|null|null|null|null|null|null|\n",
      "|1970|  null|  null|  null|  null|  null|  null|  null|  null|  null|  null|349860|  null|  null|  null|  null|  null|  null|  null|  null|  null|null|null|null|null|null|null|null|null|null|null|null|null|null|null|null|null|null|null|null|null|null|null|null|null|null|null|null|null|null|null|null|null|null|null|null|\n",
      "|1971|  null|  null|  null|  null|  null|  null|  null|  null|  null|  null|  null|387700|  null|  null|  null|  null|  null|  null|  null|  null|null|null|null|null|null|null|null|null|null|null|null|null|null|null|null|null|null|null|null|null|null|null|null|null|null|null|null|null|null|null|null|null|null|null|null|\n",
      "|1972|  null|  null|  null|  null|  null|  null|  null|  null|  null|  null|  null|  null|376290|  null|  null|  null|  null|  null|  null|  null|null|null|null|null|null|null|null|null|null|null|null|null|null|null|null|null|null|null|null|null|null|null|null|null|null|null|null|null|null|null|null|null|null|null|null|\n",
      "|1973|  null|  null|  null|  null|  null|  null|  null|  null|  null|  null|  null|  null|  null|384220|  null|  null|  null|  null|  null|  null|null|null|null|null|null|null|null|null|null|null|null|null|null|null|null|null|null|null|null|null|null|null|null|null|null|null|null|null|null|null|null|null|null|null|null|\n",
      "|1974|  null|  null|  null|  null|  null|  null|  null|  null|  null|  null|  null|  null|  null|  null|442400|  null|  null|  null|  null|  null|null|null|null|null|null|null|null|null|null|null|null|null|null|null|null|null|null|null|null|null|null|null|null|null|null|null|null|null|null|null|null|null|null|null|null|\n",
      "|1975|  null|  null|  null|  null|  null|  null|  null|  null|  null|  null|  null|  null|  null|  null|  null|470500|  null|  null|  null|  null|null|null|null|null|null|null|null|null|null|null|null|null|null|null|null|null|null|null|null|null|null|null|null|null|null|null|null|null|null|null|null|null|null|null|null|\n",
      "|1976|  null|  null|  null|  null|  null|  null|  null|  null|  null|  null|  null|  null|  null|  null|  null|  null|427810|  null|  null|  null|null|null|null|null|null|null|null|null|null|null|null|null|null|null|null|null|null|null|null|null|null|null|null|null|null|null|null|null|null|null|null|null|null|null|null|\n",
      "|1977|  null|  null|  null|  null|  null|  null|  null|  null|  null|  null|  null|  null|  null|  null|  null|  null|  null|412610|  null|  null|null|null|null|null|null|null|null|null|null|null|null|null|null|null|null|null|null|null|null|null|null|null|null|null|null|null|null|null|null|null|null|null|null|null|null|\n",
      "|1978|  null|  null|  null|  null|  null|  null|  null|  null|  null|  null|  null|  null|  null|  null|  null|  null|  null|  null|426930|  null|null|null|null|null|null|null|null|null|null|null|null|null|null|null|null|null|null|null|null|null|null|null|null|null|null|null|null|null|null|null|null|null|null|null|null|\n",
      "|1979|  null|  null|  null|  null|  null|  null|  null|  null|  null|  null|  null|  null|  null|  null|  null|  null|  null|  null|  null|480700|null|null|null|null|null|null|null|null|null|null|null|null|null|null|null|null|null|null|null|null|null|null|null|null|null|null|null|null|null|null|null|null|null|null|null|\n",
      "+----+------+------+------+------+------+------+------+------+------+------+------+------+------+------+------+------+------+------+------+------+----+----+----+----+----+----+----+----+----+----+----+----+----+----+----+----+----+----+----+----+----+----+----+----+----+----+----+----+----+----+----+----+----+----+----+\n",
      "only showing top 20 rows\n",
      "\n"
     ]
    }
   ],
   "source": []
  },
  {
   "cell_type": "code",
   "execution_count": null,
   "metadata": {},
   "outputs": [],
   "source": []
  },
  {
   "cell_type": "code",
   "execution_count": null,
   "metadata": {},
   "outputs": [],
   "source": []
  }
 ],
 "metadata": {
  "kernelspec": {
   "display_name": "openai",
   "language": "python",
   "name": "python3"
  },
  "language_info": {
   "codemirror_mode": {
    "name": "ipython",
    "version": 3
   },
   "file_extension": ".py",
   "mimetype": "text/x-python",
   "name": "python",
   "nbconvert_exporter": "python",
   "pygments_lexer": "ipython3",
   "version": "3.8.10"
  },
  "orig_nbformat": 4
 },
 "nbformat": 4,
 "nbformat_minor": 2
}
