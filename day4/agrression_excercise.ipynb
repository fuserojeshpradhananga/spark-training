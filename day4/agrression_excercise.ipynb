{
 "cells": [
  {
   "cell_type": "markdown",
   "metadata": {},
   "source": [
    "##  Aggregations\n"
   ]
  },
  {
   "cell_type": "markdown",
   "metadata": {},
   "source": [
    "### Step 1: Initialize PySpark Session\n"
   ]
  },
  {
   "cell_type": "code",
   "execution_count": 1,
   "metadata": {},
   "outputs": [
    {
     "name": "stderr",
     "output_type": "stream",
     "text": [
      "23/09/03 09:35:15 WARN Utils: Your hostname, rojesh-Predator-PHN16-71 resolves to a loopback address: 127.0.1.1; using 192.168.254.218 instead (on interface wlp0s20f3)\n",
      "23/09/03 09:35:15 WARN Utils: Set SPARK_LOCAL_IP if you need to bind to another address\n",
      "Setting default log level to \"WARN\".\n",
      "To adjust logging level use sc.setLogLevel(newLevel). For SparkR, use setLogLevel(newLevel).\n",
      "23/09/03 09:35:15 WARN NativeCodeLoader: Unable to load native-hadoop library for your platform... using builtin-java classes where applicable\n",
      "23/09/03 09:35:16 WARN Utils: Service 'SparkUI' could not bind on port 4040. Attempting port 4041.\n"
     ]
    }
   ],
   "source": [
    "from pyspark.sql import SparkSession\n",
    "from pyspark.sql.functions import col, count, when, lit , avg, coalesce , struct,array , explode, create_map,approx_count_distinct,sumDistinct, sum, mean\n",
    "from pyspark.sql.types import StructType, StructField, StringType, IntegerType, FloatType\n",
    "\n",
    "from pyspark.sql.window import Window\n",
    "\n",
    "from pyspark.sql import functions as F\n",
    "\n",
    "# Create a Spark session\n",
    "spark = SparkSession.builder.appName(\"day4\").getOrCreate()\n"
   ]
  },
  {
   "cell_type": "code",
   "execution_count": 2,
   "metadata": {},
   "outputs": [
    {
     "name": "stderr",
     "output_type": "stream",
     "text": [
      "                                                                                \r"
     ]
    }
   ],
   "source": [
    "# Load the Chipotle dataset into a Spark DataFrame\n",
    "data_path = \"./US_Crime_Rates_1960_2014.csv\"  # Replace with the actual path\n",
    "US_df = spark.read.csv(data_path, header=True, inferSchema=True)\n",
    "\n",
    "data_path = \"./US_Crime_Rates_1960_2014.csv\"  # Replace with the actual path\n",
    "df = spark.read.csv(data_path, header=True, inferSchema=True)\n",
    "\n",
    "# Load the Chipotle dataset into a Spark DataFrame\n",
    "data_path = \"./titanic.csv\"  # Replace with the actual path\n",
    "titanic_df = spark.read.csv(data_path, header=True, inferSchema=True)\n"
   ]
  },
  {
   "cell_type": "code",
   "execution_count": 3,
   "metadata": {},
   "outputs": [
    {
     "name": "stdout",
     "output_type": "stream",
     "text": [
      "root\n",
      " |-- Year: integer (nullable = true)\n",
      " |-- Population: integer (nullable = true)\n",
      " |-- Total: integer (nullable = true)\n",
      " |-- Violent: integer (nullable = true)\n",
      " |-- Property: integer (nullable = true)\n",
      " |-- Murder: integer (nullable = true)\n",
      " |-- Forcible_Rape: integer (nullable = true)\n",
      " |-- Robbery: integer (nullable = true)\n",
      " |-- Aggravated_assault: integer (nullable = true)\n",
      " |-- Burglary: integer (nullable = true)\n",
      " |-- Larceny_Theft: integer (nullable = true)\n",
      " |-- Vehicle_Theft: integer (nullable = true)\n",
      "\n"
     ]
    }
   ],
   "source": [
    "US_df.printSchema()"
   ]
  },
  {
   "cell_type": "code",
   "execution_count": 4,
   "metadata": {},
   "outputs": [
    {
     "name": "stdout",
     "output_type": "stream",
     "text": [
      "+----+----------+--------+-------+--------+------+-------------+-------+------------------+--------+-------------+-------------+\n",
      "|Year|Population|   Total|Violent|Property|Murder|Forcible_Rape|Robbery|Aggravated_assault|Burglary|Larceny_Theft|Vehicle_Theft|\n",
      "+----+----------+--------+-------+--------+------+-------------+-------+------------------+--------+-------------+-------------+\n",
      "|1960| 179323175| 3384200| 288460| 3095700|  9110|        17190| 107840|            154320|  912100|      1855400|       328200|\n",
      "|1961| 182992000| 3488000| 289390| 3198600|  8740|        17220| 106670|            156760|  949600|      1913000|       336000|\n",
      "|1962| 185771000| 3752200| 301510| 3450700|  8530|        17550| 110860|            164570|  994300|      2089600|       366800|\n",
      "|1963| 188483000| 4109500| 316970| 3792500|  8640|        17650| 116470|            174210| 1086400|      2297800|       408300|\n",
      "|1964| 191141000| 4564600| 364220| 4200400|  9360|        21420| 130390|            203050| 1213200|      2514400|       472800|\n",
      "|1965| 193526000| 4739400| 387390| 4352000|  9960|        23410| 138690|            215330| 1282500|      2572600|       496900|\n",
      "|1966| 195576000| 5223500| 430180| 4793300| 11040|        25820| 157990|            235330| 1410100|      2822000|       561200|\n",
      "|1967| 197457000| 5903400| 499930| 5403500| 12240|        27620| 202910|            257160| 1632100|      3111600|       659800|\n",
      "|1968| 199399000| 6720200| 595010| 6125200| 13800|        31670| 262840|            286700| 1858900|      3482700|       783600|\n",
      "|1969| 201385000| 7410900| 661870| 6749000| 14760|        37170| 298850|            311090| 1981900|      3888600|       878500|\n",
      "|1970| 203235298| 8098000| 738820| 7359200| 16000|        37990| 349860|            334970| 2205000|      4225800|       928400|\n",
      "|1971| 206212000| 8588200| 816500| 7771700| 17780|        42260| 387700|            368760| 2399300|      4424200|       948200|\n",
      "|1972| 208230000| 8248800| 834900| 7413900| 18670|        46850| 376290|            393090| 2375500|      4151200|       887200|\n",
      "|1973| 209851000| 8718100| 875910| 7842200| 19640|        51400| 384220|            420650| 2565500|      4347900|       928800|\n",
      "|1974| 211392000|10253400| 974720| 9278700| 20710|        55400| 442400|            456210| 3039200|      5262500|       977100|\n",
      "|1975| 213124000|11292400|1039710|10252700| 20510|        56090| 470500|            492620| 3265300|      5977700|      1009600|\n",
      "|1976| 214659000|11349700|1004210|10345500| 18780|        57080| 427810|            500530| 3108700|      6270800|       966000|\n",
      "|1977| 216332000|10984500|1029580| 9955000| 19120|        63500| 412610|            534350| 3071500|      5905700|       977700|\n",
      "|1978| 218059000|11209000|1085550|10123400| 19560|        67610| 426930|            571460| 3128300|      5991000|      1004100|\n",
      "|1979| 220099000|12249500|1208030|11041500| 21460|        76390| 480700|            629480| 3327700|      6601000|      1112800|\n",
      "+----+----------+--------+-------+--------+------+-------------+-------+------------------+--------+-------------+-------------+\n",
      "only showing top 20 rows\n",
      "\n"
     ]
    }
   ],
   "source": [
    "US_df.show()"
   ]
  },
  {
   "cell_type": "markdown",
   "metadata": {},
   "source": [
    "### count\n",
    "\n",
    "Question: How many records are there in the US_Crime_Rates_1960_2014_df DataFrame?"
   ]
  },
  {
   "cell_type": "code",
   "execution_count": 5,
   "metadata": {},
   "outputs": [
    {
     "name": "stdout",
     "output_type": "stream",
     "text": [
      "Total number of records :  55\n"
     ]
    }
   ],
   "source": [
    "count_us = US_df.count()\n",
    "\n",
    "print(f\"Total number of records : \", count_us)"
   ]
  },
  {
   "cell_type": "markdown",
   "metadata": {},
   "source": [
    "### countDistinct\n",
    "Question: How many distinct years are present in the US_Crime_Rates_1960_2014_df DataFrame?\n",
    "Answer:"
   ]
  },
  {
   "cell_type": "code",
   "execution_count": 6,
   "metadata": {},
   "outputs": [
    {
     "name": "stdout",
     "output_type": "stream",
     "text": [
      "Number of distinct years: 55\n"
     ]
    }
   ],
   "source": [
    "#findinf the distinct values in the \"Year\" column:\n",
    "distinct_years = US_df.select(\"Year\").distinct().count()\n",
    "\n",
    "#printing the result\n",
    "print(f\"Number of distinct years:\" , distinct_years)"
   ]
  },
  {
   "cell_type": "markdown",
   "metadata": {},
   "source": [
    "### approx_count_distinct\n",
    "\n",
    "Question: Estimate the approximate number of distinct values in the \"Total\" column of the US_Crime_Rates_1960_2014_df DataFrame."
   ]
  },
  {
   "cell_type": "code",
   "execution_count": 7,
   "metadata": {},
   "outputs": [
    {
     "name": "stderr",
     "output_type": "stream",
     "text": [
      "23/09/03 09:35:26 WARN package: Truncated the string representation of a plan since it was too large. This behavior can be adjusted by setting 'spark.sql.debug.maxToStringFields'.\n"
     ]
    },
    {
     "name": "stdout",
     "output_type": "stream",
     "text": [
      "Approximate distinct values in 'Total' column: 55\n"
     ]
    }
   ],
   "source": [
    "#calculating the approximate count of distinct values in the given column\n",
    "\n",
    "\n",
    "approx_distinct_total = US_df.select(approx_count_distinct(\"Total\").alias(\"ApproxDistinctTotal\")).first()[0]\n",
    "\n",
    "#printing the outcome\n",
    "print(f\"Approximate distinct values in 'Total' column:\", approx_distinct_total)\n"
   ]
  },
  {
   "cell_type": "markdown",
   "metadata": {},
   "source": [
    "###  first and last\n",
    "\n",
    "Question: Find the first and last year in the US_Crime_Rates_1960_2014_df DataFrame."
   ]
  },
  {
   "cell_type": "code",
   "execution_count": 8,
   "metadata": {},
   "outputs": [
    {
     "name": "stdout",
     "output_type": "stream",
     "text": [
      "First Year: 1960\n",
      "Last Year: 2014\n"
     ]
    }
   ],
   "source": [
    "#calculating the minimum year in the us_df and alias it as first_year\n",
    "first_year = US_df.selectExpr(\"min(Year) as FirstYear\").first()[\"FirstYear\"]\n",
    "\n",
    "#calculating the minimum year in the us_df and alias it as first_year\n",
    "last_year = US_df.selectExpr(\"max(Year) as LastYear\").first()[\"LastYear\"]\n",
    "\n",
    "\n",
    "#printing the outcome\n",
    "\n",
    "print(f\"First Year:\", first_year)\n",
    "print(f\"Last Year:\", last_year)"
   ]
  },
  {
   "cell_type": "markdown",
   "metadata": {},
   "source": [
    "### min and max\n",
    "\n",
    "Question: Find the minimum and maximum population values in the US_Crime_Rates_1960_2014_df DataFrame."
   ]
  },
  {
   "cell_type": "code",
   "execution_count": 9,
   "metadata": {},
   "outputs": [
    {
     "name": "stdout",
     "output_type": "stream",
     "text": [
      "Minimum Population: 179323175\n",
      "Maximum Population: 318857056\n"
     ]
    }
   ],
   "source": [
    "#calculating the minimum population in the dataframe and alias it as \"MinPopulation\"\n",
    "min_population = US_df.selectExpr(\"min(Population) as MinPopulation\").first()[\"MinPopulation\"]\n",
    "\n",
    "#calculating the maximum population in the dataframe and alias it as \"MaxPopulation\"\n",
    "\n",
    "max_population = US_df.selectExpr(\"max(Population) as MaxPopulation\").first()[\"MaxPopulation\"]\n",
    "\n",
    "print(f\"Minimum Population: {min_population}\")\n",
    "print(f\"Maximum Population: {max_population}\")"
   ]
  },
  {
   "cell_type": "markdown",
   "metadata": {},
   "source": [
    "### sumDistinct\n",
    "\n",
    "Question: Calculate the sum of distinct \"Property\" values for each year in the US_Crime_Rates_1960_2014_df DataFrame."
   ]
  },
  {
   "cell_type": "code",
   "execution_count": 10,
   "metadata": {},
   "outputs": [
    {
     "name": "stderr",
     "output_type": "stream",
     "text": [
      "/home/rojesh/.local/lib/python3.10/site-packages/pyspark/sql/functions.py:752: FutureWarning: Deprecated in 3.2, use sum_distinct instead.\n",
      "  warnings.warn(\"Deprecated in 3.2, use sum_distinct instead.\", FutureWarning)\n"
     ]
    },
    {
     "name": "stdout",
     "output_type": "stream",
     "text": [
      "+----+-------------------+\n",
      "|Year|SumDistinctProperty|\n",
      "+----+-------------------+\n",
      "|1990|           12655500|\n",
      "|1975|           10252700|\n",
      "|1977|            9955000|\n",
      "|2003|           10442862|\n",
      "|2007|            9843481|\n",
      "|1974|            9278700|\n",
      "|2006|            9983568|\n",
      "|1978|           10123400|\n",
      "|1961|            3198600|\n",
      "|2013|            8650761|\n",
      "|1988|           12356900|\n",
      "|1997|           11558175|\n",
      "|1994|           12131900|\n",
      "|1968|            6125200|\n",
      "|2014|            8277829|\n",
      "|1973|            7842200|\n",
      "|1979|           11041500|\n",
      "|1971|            7771700|\n",
      "|1966|            4793300|\n",
      "|2004|           10319386|\n",
      "+----+-------------------+\n",
      "only showing top 20 rows\n",
      "\n"
     ]
    }
   ],
   "source": [
    "#calculating the sum of distinct values in the \"Property\" column for each year and aliasing the result as \"SumDistinctProperty\"\n",
    "distinct_property_sum = US_df.groupBy(\"Year\").agg(sumDistinct(\"Property\").alias(\"SumDistinctProperty\"))\n",
    "\n",
    "#displaying the resulting dataframe\n",
    "distinct_property_sum.show()\n",
    "\n"
   ]
  },
  {
   "cell_type": "markdown",
   "metadata": {},
   "source": [
    "### avg\n",
    "\n",
    "Question: Calculate the average \"Murder\" rate for the entire dataset in the US_Crime_Rates_1960_2014_df DataFrame.\n",
    "Answer:"
   ]
  },
  {
   "cell_type": "code",
   "execution_count": 11,
   "metadata": {},
   "outputs": [
    {
     "name": "stdout",
     "output_type": "stream",
     "text": [
      "Average murder rate: 17317.236363636363\n"
     ]
    }
   ],
   "source": [
    "average_murder_rate = US_df.select(avg(\"Murder\")).first()[0]\n",
    "\n",
    "print(f\"Average murder rate: {average_murder_rate}\")"
   ]
  },
  {
   "cell_type": "markdown",
   "metadata": {},
   "source": [
    "### Aggregating to Complex Types\n",
    "\n",
    "Question: Calculate the total sum of \"Violent\" and \"Property\" crimes for each year in the US_Crime_Rates_1960_2014_df DataFrame. Store the results in a struct type column."
   ]
  },
  {
   "cell_type": "code",
   "execution_count": 12,
   "metadata": {},
   "outputs": [
    {
     "name": "stdout",
     "output_type": "stream",
     "text": [
      "+----+-------------------+\n",
      "|Year|CrimeSums          |\n",
      "+----+-------------------+\n",
      "|1960|{288460, 3095700}  |\n",
      "|1961|{289390, 3198600}  |\n",
      "|1962|{301510, 3450700}  |\n",
      "|1963|{316970, 3792500}  |\n",
      "|1964|{364220, 4200400}  |\n",
      "|1965|{387390, 4352000}  |\n",
      "|1966|{430180, 4793300}  |\n",
      "|1967|{499930, 5403500}  |\n",
      "|1968|{595010, 6125200}  |\n",
      "|1969|{661870, 6749000}  |\n",
      "|1970|{738820, 7359200}  |\n",
      "|1971|{816500, 7771700}  |\n",
      "|1972|{834900, 7413900}  |\n",
      "|1973|{875910, 7842200}  |\n",
      "|1974|{974720, 9278700}  |\n",
      "|1975|{1039710, 10252700}|\n",
      "|1976|{1004210, 10345500}|\n",
      "|1977|{1029580, 9955000} |\n",
      "|1978|{1085550, 10123400}|\n",
      "|1979|{1208030, 11041500}|\n",
      "+----+-------------------+\n",
      "only showing top 20 rows\n",
      "\n"
     ]
    }
   ],
   "source": [
    "# Group the DataFrame 'US_df' by the \"Year\" column and calculate the sum of \"Violent\" crimes for each yearaliasing the result as \"TotalViolentCrimes\"\n",
    "\n",
    "violent_crimes = US_df.groupBy(\"Year\").agg(sum(col(\"Violent\")).alias(\"TotalViolentCrimes\"))\n",
    "property_crimes = US_df.groupBy(\"Year\").agg(sum(col(\"Property\")).alias(\"TotalPropertyCrimes\"))\n",
    "\n",
    "#joining the two DataFrames on the \"Year\" column and create a struct column\n",
    "crime_totals = violent_crimes.join(property_crimes, \"Year\", \"inner\") \\\n",
    "    .select(\"Year\", struct(col(\"TotalViolentCrimes\"), col(\"TotalPropertyCrimes\")).alias(\"CrimeSums\")) \\\n",
    "    .orderBy(\"Year\")  # Sort by Year in ascending order\n",
    "\n",
    "# Show the resulting DataFrame\n",
    "crime_totals.show(truncate=False)"
   ]
  },
  {
   "cell_type": "markdown",
   "metadata": {},
   "source": [
    "### Grouping\n",
    "\n",
    "Question: In the given US_Crime_Rates_1960_2014_df DataFrame, you are tasked with finding the average of all crimes combined for each year. Calculate the sum of all crime categories (Violent, Property, Murder, Forcible_Rape, Robbery, Aggravated_assault, Burglary, Larceny_Theft, Vehicle_Theft) for each year and then determine the average of these combined crime sums. Provide the result as the average of all crimes across the entire dataset."
   ]
  },
  {
   "cell_type": "code",
   "execution_count": 13,
   "metadata": {},
   "outputs": [
    {
     "ename": "TypeError",
     "evalue": "Invalid argument, not a string or column: <generator object <genexpr> at 0x7f06379be340> of type <class 'generator'>. For column literals, use 'lit', 'array', 'struct' or 'create_map' function.",
     "output_type": "error",
     "traceback": [
      "\u001b[0;31m---------------------------------------------------------------------------\u001b[0m",
      "\u001b[0;31mTypeError\u001b[0m                                 Traceback (most recent call last)",
      "Cell \u001b[0;32mIn[13], line 7\u001b[0m\n\u001b[1;32m      4\u001b[0m crime_categories \u001b[39m=\u001b[39m [\u001b[39m\"\u001b[39m\u001b[39mViolent\u001b[39m\u001b[39m\"\u001b[39m, \u001b[39m\"\u001b[39m\u001b[39mProperty\u001b[39m\u001b[39m\"\u001b[39m, \u001b[39m\"\u001b[39m\u001b[39mMurder\u001b[39m\u001b[39m\"\u001b[39m, \u001b[39m\"\u001b[39m\u001b[39mForcible_Rape\u001b[39m\u001b[39m\"\u001b[39m, \u001b[39m\"\u001b[39m\u001b[39mRobbery\u001b[39m\u001b[39m\"\u001b[39m, \u001b[39m\"\u001b[39m\u001b[39mAggravated_assault\u001b[39m\u001b[39m\"\u001b[39m, \u001b[39m\"\u001b[39m\u001b[39mBurglary\u001b[39m\u001b[39m\"\u001b[39m, \u001b[39m\"\u001b[39m\u001b[39mLarceny_Theft\u001b[39m\u001b[39m\"\u001b[39m, \u001b[39m\"\u001b[39m\u001b[39mVehicle_Theft\u001b[39m\u001b[39m\"\u001b[39m]\n\u001b[1;32m      6\u001b[0m \u001b[39m# Calculate the sum of all crime categories for each year and create a new column \"Total_Crime\"\u001b[39;00m\n\u001b[0;32m----> 7\u001b[0m df \u001b[39m=\u001b[39m df\u001b[39m.\u001b[39mwithColumn(\u001b[39m\"\u001b[39m\u001b[39mTotal_Crime\u001b[39m\u001b[39m\"\u001b[39m, \u001b[39msum\u001b[39;49m(col(category) \u001b[39mfor\u001b[39;49;00m category \u001b[39min\u001b[39;49;00m crime_categories))\n\u001b[1;32m      9\u001b[0m \u001b[39m# Calculate the average of \"Total_Crime\" for the entire dataset\u001b[39;00m\n\u001b[1;32m     10\u001b[0m overall_average \u001b[39m=\u001b[39m df\u001b[39m.\u001b[39mselect(avg(col(\u001b[39m\"\u001b[39m\u001b[39mTotal_Crime\u001b[39m\u001b[39m\"\u001b[39m))\u001b[39m.\u001b[39malias(\u001b[39m\"\u001b[39m\u001b[39mAVG_Crime\u001b[39m\u001b[39m\"\u001b[39m))\n",
      "File \u001b[0;32m~/.local/lib/python3.10/site-packages/pyspark/sql/utils.py:160\u001b[0m, in \u001b[0;36mtry_remote_functions.<locals>.wrapped\u001b[0;34m(*args, **kwargs)\u001b[0m\n\u001b[1;32m    158\u001b[0m     \u001b[39mreturn\u001b[39;00m \u001b[39mgetattr\u001b[39m(functions, f\u001b[39m.\u001b[39m\u001b[39m__name__\u001b[39m)(\u001b[39m*\u001b[39margs, \u001b[39m*\u001b[39m\u001b[39m*\u001b[39mkwargs)\n\u001b[1;32m    159\u001b[0m \u001b[39melse\u001b[39;00m:\n\u001b[0;32m--> 160\u001b[0m     \u001b[39mreturn\u001b[39;00m f(\u001b[39m*\u001b[39;49margs, \u001b[39m*\u001b[39;49m\u001b[39m*\u001b[39;49mkwargs)\n",
      "File \u001b[0;32m~/.local/lib/python3.10/site-packages/pyspark/sql/functions.py:631\u001b[0m, in \u001b[0;36msum\u001b[0;34m(col)\u001b[0m\n\u001b[1;32m    601\u001b[0m \u001b[39m@try_remote_functions\u001b[39m\n\u001b[1;32m    602\u001b[0m \u001b[39mdef\u001b[39;00m \u001b[39msum\u001b[39m(col: \u001b[39m\"\u001b[39m\u001b[39mColumnOrName\u001b[39m\u001b[39m\"\u001b[39m) \u001b[39m-\u001b[39m\u001b[39m>\u001b[39m Column:\n\u001b[1;32m    603\u001b[0m \u001b[39m    \u001b[39m\u001b[39m\"\"\"\u001b[39;00m\n\u001b[1;32m    604\u001b[0m \u001b[39m    Aggregate function: returns the sum of all values in the expression.\u001b[39;00m\n\u001b[1;32m    605\u001b[0m \n\u001b[0;32m   (...)\u001b[0m\n\u001b[1;32m    629\u001b[0m \u001b[39m    +-------+\u001b[39;00m\n\u001b[1;32m    630\u001b[0m \u001b[39m    \"\"\"\u001b[39;00m\n\u001b[0;32m--> 631\u001b[0m     \u001b[39mreturn\u001b[39;00m _invoke_function_over_columns(\u001b[39m\"\u001b[39;49m\u001b[39msum\u001b[39;49m\u001b[39m\"\u001b[39;49m, col)\n",
      "File \u001b[0;32m~/.local/lib/python3.10/site-packages/pyspark/sql/functions.py:103\u001b[0m, in \u001b[0;36m_invoke_function_over_columns\u001b[0;34m(name, *cols)\u001b[0m\n\u001b[1;32m     98\u001b[0m \u001b[39mdef\u001b[39;00m \u001b[39m_invoke_function_over_columns\u001b[39m(name: \u001b[39mstr\u001b[39m, \u001b[39m*\u001b[39mcols: \u001b[39m\"\u001b[39m\u001b[39mColumnOrName\u001b[39m\u001b[39m\"\u001b[39m) \u001b[39m-\u001b[39m\u001b[39m>\u001b[39m Column:\n\u001b[1;32m     99\u001b[0m \u001b[39m    \u001b[39m\u001b[39m\"\"\"\u001b[39;00m\n\u001b[1;32m    100\u001b[0m \u001b[39m    Invokes n-ary JVM function identified by name\u001b[39;00m\n\u001b[1;32m    101\u001b[0m \u001b[39m    and wraps the result with :class:`~pyspark.sql.Column`.\u001b[39;00m\n\u001b[1;32m    102\u001b[0m \u001b[39m    \"\"\"\u001b[39;00m\n\u001b[0;32m--> 103\u001b[0m     \u001b[39mreturn\u001b[39;00m _invoke_function(name, \u001b[39m*\u001b[39m(_to_java_column(col) \u001b[39mfor\u001b[39;00m col \u001b[39min\u001b[39;00m cols))\n",
      "File \u001b[0;32m~/.local/lib/python3.10/site-packages/pyspark/sql/functions.py:103\u001b[0m, in \u001b[0;36m<genexpr>\u001b[0;34m(.0)\u001b[0m\n\u001b[1;32m     98\u001b[0m \u001b[39mdef\u001b[39;00m \u001b[39m_invoke_function_over_columns\u001b[39m(name: \u001b[39mstr\u001b[39m, \u001b[39m*\u001b[39mcols: \u001b[39m\"\u001b[39m\u001b[39mColumnOrName\u001b[39m\u001b[39m\"\u001b[39m) \u001b[39m-\u001b[39m\u001b[39m>\u001b[39m Column:\n\u001b[1;32m     99\u001b[0m \u001b[39m    \u001b[39m\u001b[39m\"\"\"\u001b[39;00m\n\u001b[1;32m    100\u001b[0m \u001b[39m    Invokes n-ary JVM function identified by name\u001b[39;00m\n\u001b[1;32m    101\u001b[0m \u001b[39m    and wraps the result with :class:`~pyspark.sql.Column`.\u001b[39;00m\n\u001b[1;32m    102\u001b[0m \u001b[39m    \"\"\"\u001b[39;00m\n\u001b[0;32m--> 103\u001b[0m     \u001b[39mreturn\u001b[39;00m _invoke_function(name, \u001b[39m*\u001b[39m(_to_java_column(col) \u001b[39mfor\u001b[39;00m col \u001b[39min\u001b[39;00m cols))\n",
      "File \u001b[0;32m~/.local/lib/python3.10/site-packages/pyspark/sql/column.py:65\u001b[0m, in \u001b[0;36m_to_java_column\u001b[0;34m(col)\u001b[0m\n\u001b[1;32m     63\u001b[0m     jcol \u001b[39m=\u001b[39m _create_column_from_name(col)\n\u001b[1;32m     64\u001b[0m \u001b[39melse\u001b[39;00m:\n\u001b[0;32m---> 65\u001b[0m     \u001b[39mraise\u001b[39;00m \u001b[39mTypeError\u001b[39;00m(\n\u001b[1;32m     66\u001b[0m         \u001b[39m\"\u001b[39m\u001b[39mInvalid argument, not a string or column: \u001b[39m\u001b[39m\"\u001b[39m\n\u001b[1;32m     67\u001b[0m         \u001b[39m\"\u001b[39m\u001b[39m{0}\u001b[39;00m\u001b[39m of type \u001b[39m\u001b[39m{1}\u001b[39;00m\u001b[39m. \u001b[39m\u001b[39m\"\u001b[39m\n\u001b[1;32m     68\u001b[0m         \u001b[39m\"\u001b[39m\u001b[39mFor column literals, use \u001b[39m\u001b[39m'\u001b[39m\u001b[39mlit\u001b[39m\u001b[39m'\u001b[39m\u001b[39m, \u001b[39m\u001b[39m'\u001b[39m\u001b[39marray\u001b[39m\u001b[39m'\u001b[39m\u001b[39m, \u001b[39m\u001b[39m'\u001b[39m\u001b[39mstruct\u001b[39m\u001b[39m'\u001b[39m\u001b[39m or \u001b[39m\u001b[39m'\u001b[39m\u001b[39mcreate_map\u001b[39m\u001b[39m'\u001b[39m\u001b[39m \u001b[39m\u001b[39m\"\u001b[39m\n\u001b[1;32m     69\u001b[0m         \u001b[39m\"\u001b[39m\u001b[39mfunction.\u001b[39m\u001b[39m\"\u001b[39m\u001b[39m.\u001b[39mformat(col, \u001b[39mtype\u001b[39m(col))\n\u001b[1;32m     70\u001b[0m     )\n\u001b[1;32m     71\u001b[0m \u001b[39mreturn\u001b[39;00m jcol\n",
      "\u001b[0;31mTypeError\u001b[0m: Invalid argument, not a string or column: <generator object <genexpr> at 0x7f06379be340> of type <class 'generator'>. For column literals, use 'lit', 'array', 'struct' or 'create_map' function."
     ]
    }
   ],
   "source": [
    "from pyspark.sql.functions import col, sum, avg\n",
    "\n",
    "# Define the list of crime categories\n",
    "crime_categories = [\"Violent\", \"Property\", \"Murder\", \"Forcible_Rape\", \"Robbery\", \"Aggravated_assault\", \"Burglary\", \"Larceny_Theft\", \"Vehicle_Theft\"]\n",
    "\n",
    "# Calculate the sum of all crime categories for each year and create a new column \"Total_Crime\"\n",
    "df = df.withColumn(\"Total_Crime\", sum(col(category) for category in crime_categories))\n",
    "\n",
    "# Calculate the average of \"Total_Crime\" for the entire dataset\n",
    "overall_average = df.select(avg(col(\"Total_Crime\")).alias(\"AVG_Crime\"))\n",
    "\n",
    "# Show the average of all crimes\n",
    "overall_average.show()\n"
   ]
  },
  {
   "cell_type": "markdown",
   "metadata": {},
   "source": [
    "### Window Functions\n",
    "\n",
    "Question: Calculate the cumulative sum of \"Property\" values over the years using a window function in the US_Crime_Rates_1960_2014_df DataFrame."
   ]
  },
  {
   "cell_type": "code",
   "execution_count": 14,
   "metadata": {},
   "outputs": [
    {
     "name": "stdout",
     "output_type": "stream",
     "text": [
      "+----+----------+--------+-------+--------+------+-------------+-------+------------------+--------+-------------+-------------+---------------------+\n",
      "|Year|Population|   Total|Violent|Property|Murder|Forcible_Rape|Robbery|Aggravated_assault|Burglary|Larceny_Theft|Vehicle_Theft|CumulativePropertySum|\n",
      "+----+----------+--------+-------+--------+------+-------------+-------+------------------+--------+-------------+-------------+---------------------+\n",
      "|1960| 179323175| 3384200| 288460| 3095700|  9110|        17190| 107840|            154320|  912100|      1855400|       328200|              3095700|\n",
      "|1961| 182992000| 3488000| 289390| 3198600|  8740|        17220| 106670|            156760|  949600|      1913000|       336000|              3198600|\n",
      "|1962| 185771000| 3752200| 301510| 3450700|  8530|        17550| 110860|            164570|  994300|      2089600|       366800|              3450700|\n",
      "|1963| 188483000| 4109500| 316970| 3792500|  8640|        17650| 116470|            174210| 1086400|      2297800|       408300|              3792500|\n",
      "|1964| 191141000| 4564600| 364220| 4200400|  9360|        21420| 130390|            203050| 1213200|      2514400|       472800|              4200400|\n",
      "|1965| 193526000| 4739400| 387390| 4352000|  9960|        23410| 138690|            215330| 1282500|      2572600|       496900|              4352000|\n",
      "|1966| 195576000| 5223500| 430180| 4793300| 11040|        25820| 157990|            235330| 1410100|      2822000|       561200|              4793300|\n",
      "|1967| 197457000| 5903400| 499930| 5403500| 12240|        27620| 202910|            257160| 1632100|      3111600|       659800|              5403500|\n",
      "|1968| 199399000| 6720200| 595010| 6125200| 13800|        31670| 262840|            286700| 1858900|      3482700|       783600|              6125200|\n",
      "|1969| 201385000| 7410900| 661870| 6749000| 14760|        37170| 298850|            311090| 1981900|      3888600|       878500|              6749000|\n",
      "|1970| 203235298| 8098000| 738820| 7359200| 16000|        37990| 349860|            334970| 2205000|      4225800|       928400|              7359200|\n",
      "|1971| 206212000| 8588200| 816500| 7771700| 17780|        42260| 387700|            368760| 2399300|      4424200|       948200|              7771700|\n",
      "|1972| 208230000| 8248800| 834900| 7413900| 18670|        46850| 376290|            393090| 2375500|      4151200|       887200|              7413900|\n",
      "|1973| 209851000| 8718100| 875910| 7842200| 19640|        51400| 384220|            420650| 2565500|      4347900|       928800|              7842200|\n",
      "|1974| 211392000|10253400| 974720| 9278700| 20710|        55400| 442400|            456210| 3039200|      5262500|       977100|              9278700|\n",
      "|1975| 213124000|11292400|1039710|10252700| 20510|        56090| 470500|            492620| 3265300|      5977700|      1009600|             10252700|\n",
      "|1976| 214659000|11349700|1004210|10345500| 18780|        57080| 427810|            500530| 3108700|      6270800|       966000|             10345500|\n",
      "|1977| 216332000|10984500|1029580| 9955000| 19120|        63500| 412610|            534350| 3071500|      5905700|       977700|              9955000|\n",
      "|1978| 218059000|11209000|1085550|10123400| 19560|        67610| 426930|            571460| 3128300|      5991000|      1004100|             10123400|\n",
      "|1979| 220099000|12249500|1208030|11041500| 21460|        76390| 480700|            629480| 3327700|      6601000|      1112800|             11041500|\n",
      "+----+----------+--------+-------+--------+------+-------------+-------+------------------+--------+-------------+-------------+---------------------+\n",
      "only showing top 20 rows\n",
      "\n"
     ]
    }
   ],
   "source": [
    "#Creating a window specification\n",
    "window_spec = Window.partitionBy(\"Year\").orderBy(\"Year\")\n",
    "\n",
    "# Calculate the cumulative sum of \"Property\" values using the window function\n",
    "US_df = US_df.withColumn(\n",
    "    \"CumulativePropertySum\",\n",
    "    sum(\"Property\").over(window_spec)\n",
    ")\n",
    "\n",
    "# Select only the columns you want in the final DataFrame\n",
    "US_df = US_df.select(\"Year\", \"Population\", \"Total\", \"Violent\", \"Property\", \"Murder\", \"Forcible_Rape\", \"Robbery\", \"Aggravated_assault\", \"Burglary\", \"Larceny_Theft\", \"Vehicle_Theft\",\"CumulativePropertySum\")\n",
    "\n",
    "# Show the DataFrame\n",
    "US_df.show()"
   ]
  },
  {
   "cell_type": "code",
   "execution_count": 135,
   "metadata": {},
   "outputs": [
    {
     "ename": "AnalysisException",
     "evalue": "[UNRESOLVED_COLUMN.WITH_SUGGESTION] A column or function parameter with name `Crime_Type` cannot be resolved. Did you mean one of the following? [`Forcible_Rape`, `Property`, `Robbery`, `Burglary`, `Murder`].;\n'Project ['Crime_Type]\n+- Project [Year#7691, Population#7692, Total#7693, Violent#7694, Property#7695, Murder#7696, Forcible_Rape#7697, Robbery#7698, Aggravated_assault#7699, Burglary#7700, Larceny_Theft#7701, Vehicle_Theft#7702, CumulativePropertySum#8978L]\n   +- Project [Year#7691, Population#7692, Total#7693, Violent#7694, Property#7695, Murder#7696, Forcible_Rape#7697, Robbery#7698, Aggravated_assault#7699, Burglary#7700, Larceny_Theft#7701, Vehicle_Theft#7702, CumulativePropertySum#8978L, CumulativePropertySum#8978L]\n      +- Window [sum(Property#7695) windowspecdefinition(Year#7691, Year#7691 ASC NULLS FIRST, specifiedwindowframe(RangeFrame, unboundedpreceding$(), currentrow$())) AS CumulativePropertySum#8978L], [Year#7691], [Year#7691 ASC NULLS FIRST]\n         +- Project [Year#7691, Population#7692, Total#7693, Violent#7694, Property#7695, Murder#7696, Forcible_Rape#7697, Robbery#7698, Aggravated_assault#7699, Burglary#7700, Larceny_Theft#7701, Vehicle_Theft#7702]\n            +- Relation [Year#7691,Population#7692,Total#7693,Violent#7694,Property#7695,Murder#7696,Forcible_Rape#7697,Robbery#7698,Aggravated_assault#7699,Burglary#7700,Larceny_Theft#7701,Vehicle_Theft#7702] csv\n",
     "output_type": "error",
     "traceback": [
      "\u001b[0;31m---------------------------------------------------------------------------\u001b[0m",
      "\u001b[0;31mAnalysisException\u001b[0m                         Traceback (most recent call last)",
      "Cell \u001b[0;32mIn[135], line 1\u001b[0m\n\u001b[0;32m----> 1\u001b[0m pivoted_df \u001b[39m=\u001b[39m US_df\u001b[39m.\u001b[39;49mgroupBy(\u001b[39m\"\u001b[39;49m\u001b[39mYear\u001b[39;49m\u001b[39m\"\u001b[39;49m)\u001b[39m.\u001b[39;49mpivot(\u001b[39m\"\u001b[39;49m\u001b[39mCrime_Type\u001b[39;49m\u001b[39m\"\u001b[39;49m)\u001b[39m.\u001b[39magg(\n\u001b[1;32m      2\u001b[0m     \u001b[39msum\u001b[39m(\u001b[39m\"\u001b[39m\u001b[39mTotal\u001b[39m\u001b[39m\"\u001b[39m)\u001b[39m.\u001b[39malias(\u001b[39m\"\u001b[39m\u001b[39mTotal\u001b[39m\u001b[39m\"\u001b[39m),\n\u001b[1;32m      3\u001b[0m     \u001b[39msum\u001b[39m(\u001b[39m\"\u001b[39m\u001b[39mViolent\u001b[39m\u001b[39m\"\u001b[39m)\u001b[39m.\u001b[39malias(\u001b[39m\"\u001b[39m\u001b[39mViolent\u001b[39m\u001b[39m\"\u001b[39m),\n\u001b[1;32m      4\u001b[0m     \u001b[39msum\u001b[39m(\u001b[39m\"\u001b[39m\u001b[39mProperty\u001b[39m\u001b[39m\"\u001b[39m)\u001b[39m.\u001b[39malias(\u001b[39m\"\u001b[39m\u001b[39mProperty\u001b[39m\u001b[39m\"\u001b[39m),\n\u001b[1;32m      5\u001b[0m     \u001b[39msum\u001b[39m(\u001b[39m\"\u001b[39m\u001b[39mMurder\u001b[39m\u001b[39m\"\u001b[39m)\u001b[39m.\u001b[39malias(\u001b[39m\"\u001b[39m\u001b[39mMurder\u001b[39m\u001b[39m\"\u001b[39m),\n\u001b[1;32m      6\u001b[0m     \u001b[39msum\u001b[39m(\u001b[39m\"\u001b[39m\u001b[39mForcible_Rape\u001b[39m\u001b[39m\"\u001b[39m)\u001b[39m.\u001b[39malias(\u001b[39m\"\u001b[39m\u001b[39mForcible_Rape\u001b[39m\u001b[39m\"\u001b[39m),\n\u001b[1;32m      7\u001b[0m     \u001b[39msum\u001b[39m(\u001b[39m\"\u001b[39m\u001b[39mRobbery\u001b[39m\u001b[39m\"\u001b[39m)\u001b[39m.\u001b[39malias(\u001b[39m\"\u001b[39m\u001b[39mRobbery\u001b[39m\u001b[39m\"\u001b[39m),\n\u001b[1;32m      8\u001b[0m     \u001b[39msum\u001b[39m(\u001b[39m\"\u001b[39m\u001b[39mAggravated_assault\u001b[39m\u001b[39m\"\u001b[39m)\u001b[39m.\u001b[39malias(\u001b[39m\"\u001b[39m\u001b[39mAggravated_assault\u001b[39m\u001b[39m\"\u001b[39m),\n\u001b[1;32m      9\u001b[0m     \u001b[39msum\u001b[39m(\u001b[39m\"\u001b[39m\u001b[39mBurglary\u001b[39m\u001b[39m\"\u001b[39m)\u001b[39m.\u001b[39malias(\u001b[39m\"\u001b[39m\u001b[39mBurglary\u001b[39m\u001b[39m\"\u001b[39m),\n\u001b[1;32m     10\u001b[0m     \u001b[39msum\u001b[39m(\u001b[39m\"\u001b[39m\u001b[39mLarceny_Theft\u001b[39m\u001b[39m\"\u001b[39m)\u001b[39m.\u001b[39malias(\u001b[39m\"\u001b[39m\u001b[39mLarceny_Theft\u001b[39m\u001b[39m\"\u001b[39m),\n\u001b[1;32m     11\u001b[0m     \u001b[39msum\u001b[39m(\u001b[39m\"\u001b[39m\u001b[39mVehicle_Theft\u001b[39m\u001b[39m\"\u001b[39m)\u001b[39m.\u001b[39malias(\u001b[39m\"\u001b[39m\u001b[39mVehicle_Theft\u001b[39m\u001b[39m\"\u001b[39m)\n\u001b[1;32m     12\u001b[0m )\n\u001b[1;32m     14\u001b[0m \u001b[39m# Show the pivoted DataFrame\u001b[39;00m\n\u001b[1;32m     15\u001b[0m pivoted_df\u001b[39m.\u001b[39mshow()\n",
      "File \u001b[0;32m~/.local/lib/python3.10/site-packages/pyspark/sql/group.py:510\u001b[0m, in \u001b[0;36mGroupedData.pivot\u001b[0;34m(self, pivot_col, values)\u001b[0m\n\u001b[1;32m    424\u001b[0m \u001b[39m\u001b[39m\u001b[39m\"\"\"\u001b[39;00m\n\u001b[1;32m    425\u001b[0m \u001b[39mPivots a column of the current :class:`DataFrame` and perform the specified aggregation.\u001b[39;00m\n\u001b[1;32m    426\u001b[0m \u001b[39mThere are two versions of the pivot function: one that requires the caller\u001b[39;00m\n\u001b[0;32m   (...)\u001b[0m\n\u001b[1;32m    507\u001b[0m \u001b[39m+----+-----+------+\u001b[39;00m\n\u001b[1;32m    508\u001b[0m \u001b[39m\"\"\"\u001b[39;00m\n\u001b[1;32m    509\u001b[0m \u001b[39mif\u001b[39;00m values \u001b[39mis\u001b[39;00m \u001b[39mNone\u001b[39;00m:\n\u001b[0;32m--> 510\u001b[0m     jgd \u001b[39m=\u001b[39m \u001b[39mself\u001b[39;49m\u001b[39m.\u001b[39;49m_jgd\u001b[39m.\u001b[39;49mpivot(pivot_col)\n\u001b[1;32m    511\u001b[0m \u001b[39melse\u001b[39;00m:\n\u001b[1;32m    512\u001b[0m     jgd \u001b[39m=\u001b[39m \u001b[39mself\u001b[39m\u001b[39m.\u001b[39m_jgd\u001b[39m.\u001b[39mpivot(pivot_col, values)\n",
      "File \u001b[0;32m~/.local/lib/python3.10/site-packages/py4j/java_gateway.py:1322\u001b[0m, in \u001b[0;36mJavaMember.__call__\u001b[0;34m(self, *args)\u001b[0m\n\u001b[1;32m   1316\u001b[0m command \u001b[39m=\u001b[39m proto\u001b[39m.\u001b[39mCALL_COMMAND_NAME \u001b[39m+\u001b[39m\\\n\u001b[1;32m   1317\u001b[0m     \u001b[39mself\u001b[39m\u001b[39m.\u001b[39mcommand_header \u001b[39m+\u001b[39m\\\n\u001b[1;32m   1318\u001b[0m     args_command \u001b[39m+\u001b[39m\\\n\u001b[1;32m   1319\u001b[0m     proto\u001b[39m.\u001b[39mEND_COMMAND_PART\n\u001b[1;32m   1321\u001b[0m answer \u001b[39m=\u001b[39m \u001b[39mself\u001b[39m\u001b[39m.\u001b[39mgateway_client\u001b[39m.\u001b[39msend_command(command)\n\u001b[0;32m-> 1322\u001b[0m return_value \u001b[39m=\u001b[39m get_return_value(\n\u001b[1;32m   1323\u001b[0m     answer, \u001b[39mself\u001b[39;49m\u001b[39m.\u001b[39;49mgateway_client, \u001b[39mself\u001b[39;49m\u001b[39m.\u001b[39;49mtarget_id, \u001b[39mself\u001b[39;49m\u001b[39m.\u001b[39;49mname)\n\u001b[1;32m   1325\u001b[0m \u001b[39mfor\u001b[39;00m temp_arg \u001b[39min\u001b[39;00m temp_args:\n\u001b[1;32m   1326\u001b[0m     \u001b[39mif\u001b[39;00m \u001b[39mhasattr\u001b[39m(temp_arg, \u001b[39m\"\u001b[39m\u001b[39m_detach\u001b[39m\u001b[39m\"\u001b[39m):\n",
      "File \u001b[0;32m~/.local/lib/python3.10/site-packages/pyspark/errors/exceptions/captured.py:175\u001b[0m, in \u001b[0;36mcapture_sql_exception.<locals>.deco\u001b[0;34m(*a, **kw)\u001b[0m\n\u001b[1;32m    171\u001b[0m converted \u001b[39m=\u001b[39m convert_exception(e\u001b[39m.\u001b[39mjava_exception)\n\u001b[1;32m    172\u001b[0m \u001b[39mif\u001b[39;00m \u001b[39mnot\u001b[39;00m \u001b[39misinstance\u001b[39m(converted, UnknownException):\n\u001b[1;32m    173\u001b[0m     \u001b[39m# Hide where the exception came from that shows a non-Pythonic\u001b[39;00m\n\u001b[1;32m    174\u001b[0m     \u001b[39m# JVM exception message.\u001b[39;00m\n\u001b[0;32m--> 175\u001b[0m     \u001b[39mraise\u001b[39;00m converted \u001b[39mfrom\u001b[39;00m \u001b[39mNone\u001b[39;00m\n\u001b[1;32m    176\u001b[0m \u001b[39melse\u001b[39;00m:\n\u001b[1;32m    177\u001b[0m     \u001b[39mraise\u001b[39;00m\n",
      "\u001b[0;31mAnalysisException\u001b[0m: [UNRESOLVED_COLUMN.WITH_SUGGESTION] A column or function parameter with name `Crime_Type` cannot be resolved. Did you mean one of the following? [`Forcible_Rape`, `Property`, `Robbery`, `Burglary`, `Murder`].;\n'Project ['Crime_Type]\n+- Project [Year#7691, Population#7692, Total#7693, Violent#7694, Property#7695, Murder#7696, Forcible_Rape#7697, Robbery#7698, Aggravated_assault#7699, Burglary#7700, Larceny_Theft#7701, Vehicle_Theft#7702, CumulativePropertySum#8978L]\n   +- Project [Year#7691, Population#7692, Total#7693, Violent#7694, Property#7695, Murder#7696, Forcible_Rape#7697, Robbery#7698, Aggravated_assault#7699, Burglary#7700, Larceny_Theft#7701, Vehicle_Theft#7702, CumulativePropertySum#8978L, CumulativePropertySum#8978L]\n      +- Window [sum(Property#7695) windowspecdefinition(Year#7691, Year#7691 ASC NULLS FIRST, specifiedwindowframe(RangeFrame, unboundedpreceding$(), currentrow$())) AS CumulativePropertySum#8978L], [Year#7691], [Year#7691 ASC NULLS FIRST]\n         +- Project [Year#7691, Population#7692, Total#7693, Violent#7694, Property#7695, Murder#7696, Forcible_Rape#7697, Robbery#7698, Aggravated_assault#7699, Burglary#7700, Larceny_Theft#7701, Vehicle_Theft#7702]\n            +- Relation [Year#7691,Population#7692,Total#7693,Violent#7694,Property#7695,Murder#7696,Forcible_Rape#7697,Robbery#7698,Aggravated_assault#7699,Burglary#7700,Larceny_Theft#7701,Vehicle_Theft#7702] csv\n"
     ]
    }
   ],
   "source": [
    "pivoted_df = US_df.groupBy(\"Year\").pivot(\"Crime_Type\").agg(\n",
    "    sum(\"Total\").alias(\"Total\"),\n",
    "    sum(\"Violent\").alias(\"Violent\"),\n",
    "    sum(\"Property\").alias(\"Property\"),\n",
    "    sum(\"Murder\").alias(\"Murder\"),\n",
    "    sum(\"Forcible_Rape\").alias(\"Forcible_Rape\"),\n",
    "    sum(\"Robbery\").alias(\"Robbery\"),\n",
    "    sum(\"Aggravated_assault\").alias(\"Aggravated_assault\"),\n",
    "    sum(\"Burglary\").alias(\"Burglary\"),\n",
    "    sum(\"Larceny_Theft\").alias(\"Larceny_Theft\"),\n",
    "    sum(\"Vehicle_Theft\").alias(\"Vehicle_Theft\")\n",
    ")\n",
    "\n",
    "# Show the pivoted DataFrame\n",
    "pivoted_df.show()"
   ]
  },
  {
   "cell_type": "code",
   "execution_count": 136,
   "metadata": {},
   "outputs": [
    {
     "name": "stdout",
     "output_type": "stream",
     "text": [
      "root\n",
      " |-- Year: integer (nullable = true)\n",
      " |-- Total_Violent: long (nullable = true)\n",
      " |-- Total_Property: long (nullable = true)\n",
      " |-- Total_Murder: long (nullable = true)\n",
      " |-- Total_Forcible_Rape: long (nullable = true)\n",
      " |-- Total_Robbery: long (nullable = true)\n",
      " |-- Total_Aggravated_assault: long (nullable = true)\n",
      " |-- Total_Burglary: long (nullable = true)\n",
      " |-- Total_Larceny_Theft: long (nullable = true)\n",
      " |-- Total_Vehicle_Theft: long (nullable = true)\n",
      "\n"
     ]
    }
   ],
   "source": [
    "crime_totals.printSchema()"
   ]
  },
  {
   "cell_type": "code",
   "execution_count": null,
   "metadata": {},
   "outputs": [],
   "source": []
  },
  {
   "cell_type": "code",
   "execution_count": null,
   "metadata": {},
   "outputs": [],
   "source": []
  }
 ],
 "metadata": {
  "kernelspec": {
   "display_name": "Python 3",
   "language": "python",
   "name": "python3"
  },
  "language_info": {
   "codemirror_mode": {
    "name": "ipython",
    "version": 3
   },
   "file_extension": ".py",
   "mimetype": "text/x-python",
   "name": "python",
   "nbconvert_exporter": "python",
   "pygments_lexer": "ipython3",
   "version": "3.10.12"
  },
  "orig_nbformat": 4
 },
 "nbformat": 4,
 "nbformat_minor": 2
}
