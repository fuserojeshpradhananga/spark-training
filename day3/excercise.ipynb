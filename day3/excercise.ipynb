{
 "cells": [
  {
   "cell_type": "markdown",
   "metadata": {},
   "source": [
    "## Working with Different Types of Data\n"
   ]
  },
  {
   "cell_type": "markdown",
   "metadata": {},
   "source": [
    "### Step 1: Initialize PySpark Session\n"
   ]
  },
  {
   "cell_type": "code",
   "execution_count": 92,
   "metadata": {},
   "outputs": [],
   "source": [
    "from pyspark.sql import SparkSession\n",
    "from pyspark.sql.functions import col, count, when, lit , avg, coalesce , struct,array , explode, create_map\n",
    "from pyspark.sql.types import StructType, StructField, StringType, IntegerType, FloatType\n",
    "\n",
    "# Create a Spark session\n",
    "spark = SparkSession.builder.appName(\"day3\").getOrCreate()\n"
   ]
  },
  {
   "cell_type": "markdown",
   "metadata": {},
   "source": [
    "### Step 2: Load the Dataset\n"
   ]
  },
  {
   "cell_type": "code",
   "execution_count": 67,
   "metadata": {},
   "outputs": [],
   "source": [
    "# Load the Chipotle dataset into a Spark DataFrame\n",
    "data_path = \"./titanic.csv\"  # Replace with the actual path\n",
    "titanic = spark.read.csv(data_path, header=True, inferSchema=True)\n",
    "\n",
    "data_path = \"./titanic.csv\"  # Replace with the actual path\n",
    "titanic2 = spark.read.csv(data_path, header=True, inferSchema=True)\n",
    "\n",
    "# Load the Chipotle dataset into a Spark DataFrame\n",
    "data_path = './chipotle (1).csv' # Replace with the actual path\n",
    "chipotle= spark.read.csv(data_path, header=True, inferSchema=True)\n",
    "\n",
    "# Load the Chipotle dataset into a Spark DataFrame\n",
    "data_path = './kalimati_tarkari_dataset.csv' # Replace with the actual path\n",
    "kalimati = spark.read.csv(data_path, header=True, inferSchema=True)\n"
   ]
  },
  {
   "cell_type": "code",
   "execution_count": 42,
   "metadata": {},
   "outputs": [
    {
     "name": "stdout",
     "output_type": "stream",
     "text": [
      "root\n",
      " |-- PassengerId: integer (nullable = true)\n",
      " |-- Survived: integer (nullable = true)\n",
      " |-- Pclass: integer (nullable = true)\n",
      " |-- Name: string (nullable = true)\n",
      " |-- Sex: string (nullable = true)\n",
      " |-- Age: double (nullable = true)\n",
      " |-- SibSp: integer (nullable = true)\n",
      " |-- Parch: integer (nullable = true)\n",
      " |-- Ticket: string (nullable = true)\n",
      " |-- Fare: double (nullable = true)\n",
      " |-- Cabin: string (nullable = true)\n",
      " |-- Embarked: string (nullable = true)\n",
      "\n",
      "root\n",
      " |-- _c0: integer (nullable = true)\n",
      " |-- order_id: integer (nullable = true)\n",
      " |-- quantity: integer (nullable = true)\n",
      " |-- item_name: string (nullable = true)\n",
      " |-- choice_description: string (nullable = true)\n",
      " |-- item_price: string (nullable = true)\n",
      "\n",
      "root\n",
      " |-- SN: integer (nullable = true)\n",
      " |-- Commodity: string (nullable = true)\n",
      " |-- Date: date (nullable = true)\n",
      " |-- Unit: string (nullable = true)\n",
      " |-- Minimum: double (nullable = true)\n",
      " |-- Maximum: double (nullable = true)\n",
      " |-- Average: double (nullable = true)\n",
      "\n",
      "None None None\n"
     ]
    }
   ],
   "source": [
    "print(titanic.printSchema(),chipotle.printSchema(),kalimati.printSchema())"
   ]
  },
  {
   "cell_type": "markdown",
   "metadata": {},
   "source": [
    "### Converting to Spark Types:\n",
    "\n",
    "Question: Load the \"titanic\" dataset and convert the \"Fare\" column from double to integer.\n",
    "\n",
    "\n"
   ]
  },
  {
   "cell_type": "code",
   "execution_count": 43,
   "metadata": {},
   "outputs": [
    {
     "name": "stdout",
     "output_type": "stream",
     "text": [
      "root\n",
      " |-- PassengerId: integer (nullable = true)\n",
      " |-- Survived: integer (nullable = true)\n",
      " |-- Pclass: integer (nullable = true)\n",
      " |-- Name: string (nullable = true)\n",
      " |-- Sex: string (nullable = true)\n",
      " |-- Age: double (nullable = true)\n",
      " |-- SibSp: integer (nullable = true)\n",
      " |-- Parch: integer (nullable = true)\n",
      " |-- Ticket: string (nullable = true)\n",
      " |-- Fare: integer (nullable = true)\n",
      " |-- Cabin: string (nullable = true)\n",
      " |-- Embarked: string (nullable = true)\n",
      "\n"
     ]
    }
   ],
   "source": [
    "titanic = titanic.withColumn(\"Fare\", col(\"Fare\").cast(\"integer\"))\n",
    "\n",
    "titanic.printSchema()"
   ]
  },
  {
   "cell_type": "markdown",
   "metadata": {},
   "source": [
    "### Working with Booleans:\n",
    "\n",
    "Question: Load the \"titanic\" dataset and add a new column \"IsAdult\" that indicates whether a passenger is an adult (age >= 18) or not."
   ]
  },
  {
   "cell_type": "code",
   "execution_count": 44,
   "metadata": {},
   "outputs": [
    {
     "name": "stdout",
     "output_type": "stream",
     "text": [
      "+-----------+--------+------+--------------------+------+----+-----+-----+----------------+----+-----+--------+-------+\n",
      "|PassengerId|Survived|Pclass|                Name|   Sex| Age|SibSp|Parch|          Ticket|Fare|Cabin|Embarked|IsAdult|\n",
      "+-----------+--------+------+--------------------+------+----+-----+-----+----------------+----+-----+--------+-------+\n",
      "|          1|       0|     3|Braund, Mr. Owen ...|  male|22.0|    1|    0|       A/5 21171|   7| null|       S|   true|\n",
      "|          2|       1|     1|Cumings, Mrs. Joh...|female|38.0|    1|    0|        PC 17599|  71|  C85|       C|   true|\n",
      "|          3|       1|     3|Heikkinen, Miss. ...|female|26.0|    0|    0|STON/O2. 3101282|   7| null|       S|   true|\n",
      "|          4|       1|     1|Futrelle, Mrs. Ja...|female|35.0|    1|    0|          113803|  53| C123|       S|   true|\n",
      "|          5|       0|     3|Allen, Mr. Willia...|  male|35.0|    0|    0|          373450|   8| null|       S|   true|\n",
      "|          6|       0|     3|    Moran, Mr. James|  male|null|    0|    0|          330877|   8| null|       Q|  false|\n",
      "|          7|       0|     1|McCarthy, Mr. Tim...|  male|54.0|    0|    0|           17463|  51|  E46|       S|   true|\n",
      "|          8|       0|     3|Palsson, Master. ...|  male| 2.0|    3|    1|          349909|  21| null|       S|  false|\n",
      "|          9|       1|     3|Johnson, Mrs. Osc...|female|27.0|    0|    2|          347742|  11| null|       S|   true|\n",
      "|         10|       1|     2|Nasser, Mrs. Nich...|female|14.0|    1|    0|          237736|  30| null|       C|  false|\n",
      "|         11|       1|     3|Sandstrom, Miss. ...|female| 4.0|    1|    1|         PP 9549|  16|   G6|       S|  false|\n",
      "|         12|       1|     1|Bonnell, Miss. El...|female|58.0|    0|    0|          113783|  26| C103|       S|   true|\n",
      "|         13|       0|     3|Saundercock, Mr. ...|  male|20.0|    0|    0|       A/5. 2151|   8| null|       S|   true|\n",
      "|         14|       0|     3|Andersson, Mr. An...|  male|39.0|    1|    5|          347082|  31| null|       S|   true|\n",
      "|         15|       0|     3|Vestrom, Miss. Hu...|female|14.0|    0|    0|          350406|   7| null|       S|  false|\n",
      "|         16|       1|     2|Hewlett, Mrs. (Ma...|female|55.0|    0|    0|          248706|  16| null|       S|   true|\n",
      "|         17|       0|     3|Rice, Master. Eugene|  male| 2.0|    4|    1|          382652|  29| null|       Q|  false|\n",
      "|         18|       1|     2|Williams, Mr. Cha...|  male|null|    0|    0|          244373|  13| null|       S|  false|\n",
      "|         19|       0|     3|Vander Planke, Mr...|female|31.0|    1|    0|          345763|  18| null|       S|   true|\n",
      "|         20|       1|     3|Masselmani, Mrs. ...|female|null|    0|    0|            2649|   7| null|       C|  false|\n",
      "+-----------+--------+------+--------------------+------+----+-----+-----+----------------+----+-----+--------+-------+\n",
      "only showing top 20 rows\n",
      "\n"
     ]
    }
   ],
   "source": [
    "titanic = titanic.withColumn(\"IsAdult\", \n",
    "                             when(col(\"Age\") >= 18, True)\n",
    "                             .otherwise(False))\n",
    "\n",
    "titanic.show()\n"
   ]
  },
  {
   "cell_type": "markdown",
   "metadata": {},
   "source": [
    "### Working with Numbers:\n",
    "\n",
    "Question: Load the \"titanic\" dataset and calculate the average age of male and female passengers separately."
   ]
  },
  {
   "cell_type": "code",
   "execution_count": 45,
   "metadata": {},
   "outputs": [
    {
     "name": "stdout",
     "output_type": "stream",
     "text": [
      "+------+------------------+\n",
      "|   Sex|            AvgAge|\n",
      "+------+------------------+\n",
      "|female|27.915708812260537|\n",
      "|  male| 30.72664459161148|\n",
      "+------+------------------+\n",
      "\n"
     ]
    }
   ],
   "source": [
    "# grouping the dataset by gender and calculating the average age for each Sex.\n",
    "\n",
    "average_age = titanic.groupBy(\"Sex\").agg(avg(\"Age\").alias(\"AvgAge\"))\n",
    "\n",
    "#Showing result\n",
    "average_age.show()\n",
    "\n"
   ]
  },
  {
   "cell_type": "markdown",
   "metadata": {},
   "source": [
    "### Working with Strings:\n",
    "\n",
    "Question: Load the \"chipotle\" dataset and find the item names containing the word \"Chicken.\""
   ]
  },
  {
   "cell_type": "code",
   "execution_count": 46,
   "metadata": {},
   "outputs": [
    {
     "name": "stdout",
     "output_type": "stream",
     "text": [
      "+---+--------+--------+--------------------+--------------------+----------+\n",
      "|_c0|order_id|quantity|           item_name|  choice_description|item_price|\n",
      "+---+--------+--------+--------------------+--------------------+----------+\n",
      "|  4|       2|       2|        Chicken Bowl|[Tomatillo-Red Ch...|   $16.98 |\n",
      "|  5|       3|       1|        Chicken Bowl|[Fresh Tomato Sal...|   $10.98 |\n",
      "| 11|       6|       1|Chicken Crispy Tacos|[Roasted Chili Co...|    $8.75 |\n",
      "| 12|       6|       1|  Chicken Soft Tacos|[Roasted Chili Co...|    $8.75 |\n",
      "| 13|       7|       1|        Chicken Bowl|[Fresh Tomato Sal...|   $11.25 |\n",
      "| 16|       8|       1|     Chicken Burrito|[Tomatillo-Green ...|    $8.49 |\n",
      "| 17|       9|       1|     Chicken Burrito|[Fresh Tomato Sal...|    $8.49 |\n",
      "| 19|      10|       1|        Chicken Bowl|[Tomatillo Red Ch...|    $8.75 |\n",
      "| 23|      12|       1|     Chicken Burrito|[[Tomatillo-Green...|   $10.98 |\n",
      "| 26|      13|       1|        Chicken Bowl|[Roasted Chili Co...|    $8.49 |\n",
      "| 29|      15|       1|     Chicken Burrito|[Tomatillo-Green ...|    $8.49 |\n",
      "| 35|      18|       1|  Chicken Soft Tacos|[Roasted Chili Co...|    $8.75 |\n",
      "| 36|      18|       1|  Chicken Soft Tacos|[Roasted Chili Co...|    $8.75 |\n",
      "| 42|      20|       1|        Chicken Bowl|[Roasted Chili Co...|   $11.25 |\n",
      "| 44|      20|       1|  Chicken Salad Bowl|[Fresh Tomato Sal...|    $8.75 |\n",
      "| 45|      21|       1|     Chicken Burrito|[Tomatillo-Red Ch...|   $10.98 |\n",
      "| 52|      24|       1|     Chicken Burrito|[Roasted Chili Co...|   $10.98 |\n",
      "| 63|      28|       1|     Chicken Burrito|[Fresh Tomato Sal...|    $8.75 |\n",
      "| 68|      30|       1|     Chicken Burrito|[Tomatillo-Red Ch...|   $10.98 |\n",
      "| 73|      33|       1|     Chicken Burrito|[Tomatillo Red Ch...|    $8.75 |\n",
      "+---+--------+--------+--------------------+--------------------+----------+\n",
      "only showing top 20 rows\n",
      "\n"
     ]
    },
    {
     "name": "stderr",
     "output_type": "stream",
     "text": [
      "23/08/31 15:53:39 WARN CSVHeaderChecker: CSV header does not conform to the schema.\n",
      " Header: , order_id, quantity, item_name, choice_description, item_price\n",
      " Schema: _c0, order_id, quantity, item_name, choice_description, item_price\n",
      "Expected: _c0 but found: \n",
      "CSV file: file:///home/rojesh/Documents/spark-training/day3/chipotle%20(1).csv\n"
     ]
    }
   ],
   "source": [
    "#creating new dataframe by filtering item_name having chicken in it\n",
    "\n",
    "chicken_df = chipotle.filter(col(\"item_name\").like(\"%Chicken%\"))\n",
    "\n",
    "#Showing filtered output\n",
    "chicken_df.show()"
   ]
  },
  {
   "cell_type": "markdown",
   "metadata": {},
   "source": [
    "### Regular Expressions:\n",
    "\n",
    "Question: Load the \"chipotle\" dataset and find the items with names that start with \"Ch\" followed by any character.\n",
    "\n"
   ]
  },
  {
   "cell_type": "code",
   "execution_count": 47,
   "metadata": {},
   "outputs": [
    {
     "name": "stdout",
     "output_type": "stream",
     "text": [
      "+---+--------+--------+--------------------+--------------------+----------+\n",
      "|_c0|order_id|quantity|           item_name|  choice_description|item_price|\n",
      "+---+--------+--------+--------------------+--------------------+----------+\n",
      "|  0|       1|       1|Chips and Fresh T...|                null|    $2.39 |\n",
      "|  3|       1|       1|Chips and Tomatil...|                null|    $2.39 |\n",
      "|  4|       2|       2|        Chicken Bowl|[Tomatillo-Red Ch...|   $16.98 |\n",
      "|  5|       3|       1|        Chicken Bowl|[Fresh Tomato Sal...|   $10.98 |\n",
      "| 10|       5|       1| Chips and Guacamole|                null|    $4.45 |\n",
      "| 11|       6|       1|Chicken Crispy Tacos|[Roasted Chili Co...|    $8.75 |\n",
      "| 12|       6|       1|  Chicken Soft Tacos|[Roasted Chili Co...|    $8.75 |\n",
      "| 13|       7|       1|        Chicken Bowl|[Fresh Tomato Sal...|   $11.25 |\n",
      "| 14|       7|       1| Chips and Guacamole|                null|    $4.45 |\n",
      "| 15|       8|       1|Chips and Tomatil...|                null|    $2.39 |\n",
      "| 16|       8|       1|     Chicken Burrito|[Tomatillo-Green ...|    $8.49 |\n",
      "| 17|       9|       1|     Chicken Burrito|[Fresh Tomato Sal...|    $8.49 |\n",
      "| 19|      10|       1|        Chicken Bowl|[Tomatillo Red Ch...|    $8.75 |\n",
      "| 20|      10|       1| Chips and Guacamole|                null|    $4.45 |\n",
      "| 23|      12|       1|     Chicken Burrito|[[Tomatillo-Green...|   $10.98 |\n",
      "| 25|      13|       1|Chips and Fresh T...|                null|    $2.39 |\n",
      "| 26|      13|       1|        Chicken Bowl|[Roasted Chili Co...|    $8.49 |\n",
      "| 29|      15|       1|     Chicken Burrito|[Tomatillo-Green ...|    $8.49 |\n",
      "| 30|      15|       1|Chips and Tomatil...|                null|    $2.39 |\n",
      "| 35|      18|       1|  Chicken Soft Tacos|[Roasted Chili Co...|    $8.75 |\n",
      "+---+--------+--------+--------------------+--------------------+----------+\n",
      "only showing top 20 rows\n",
      "\n"
     ]
    },
    {
     "name": "stderr",
     "output_type": "stream",
     "text": [
      "23/08/31 15:53:41 WARN CSVHeaderChecker: CSV header does not conform to the schema.\n",
      " Header: , order_id, quantity, item_name, choice_description, item_price\n",
      " Schema: _c0, order_id, quantity, item_name, choice_description, item_price\n",
      "Expected: _c0 but found: \n",
      "CSV file: file:///home/rojesh/Documents/spark-training/day3/chipotle%20(1).csv\n"
     ]
    }
   ],
   "source": [
    "#filtering dataframe to include only those with names starting with \"Ch\"\n",
    "\n",
    "chip_df = chipotle.filter(col(\"item_name\").startswith(\"Ch\"))\n",
    "\n",
    "#showing the filtered items\n",
    "chip_df.show()"
   ]
  },
  {
   "cell_type": "markdown",
   "metadata": {},
   "source": [
    "### Working with Nulls in Data:\n",
    "\n",
    "Question: Load the \"titanic\" dataset and count the number of passengers with missing age information.\n",
    "\n"
   ]
  },
  {
   "cell_type": "code",
   "execution_count": 48,
   "metadata": {},
   "outputs": [
    {
     "name": "stdout",
     "output_type": "stream",
     "text": [
      "Number of passengers with missing age : 177\n"
     ]
    }
   ],
   "source": [
    "#counting the number of passengers with null in age\n",
    "\n",
    "missing_age_count = titanic.filter(col(\"Age\").isNull()).count()\n",
    "\n",
    "\n",
    "#printing the result\n",
    "print(\"Number of passengers with missing age :\", missing_age_count)\n"
   ]
  },
  {
   "cell_type": "markdown",
   "metadata": {},
   "source": [
    "### Coalesce\n",
    "Question: Utilizing the Chipotle dataset, use the coalesce function to combine the \"item_name\" and \"choice_description\" columns into a new column named \"OrderDetails.\" Display the first 5 rows of the resulting DataFrame."
   ]
  },
  {
   "cell_type": "code",
   "execution_count": 49,
   "metadata": {},
   "outputs": [
    {
     "name": "stdout",
     "output_type": "stream",
     "text": [
      "+---+--------+--------+--------------------+--------------------+----------+--------------------+\n",
      "|_c0|order_id|quantity|           item_name|  choice_description|item_price|        OrderDetails|\n",
      "+---+--------+--------+--------------------+--------------------+----------+--------------------+\n",
      "|  0|       1|       1|Chips and Fresh T...|                null|    $2.39 |Chips and Fresh T...|\n",
      "|  3|       1|       1|Chips and Tomatil...|                null|    $2.39 |Chips and Tomatil...|\n",
      "|  4|       2|       2|        Chicken Bowl|[Tomatillo-Red Ch...|   $16.98 |        Chicken Bowl|\n",
      "|  5|       3|       1|        Chicken Bowl|[Fresh Tomato Sal...|   $10.98 |        Chicken Bowl|\n",
      "| 10|       5|       1| Chips and Guacamole|                null|    $4.45 | Chips and Guacamole|\n",
      "+---+--------+--------+--------------------+--------------------+----------+--------------------+\n",
      "only showing top 5 rows\n",
      "\n"
     ]
    },
    {
     "name": "stderr",
     "output_type": "stream",
     "text": [
      "23/08/31 15:53:44 WARN CSVHeaderChecker: CSV header does not conform to the schema.\n",
      " Header: , order_id, quantity, item_name, choice_description, item_price\n",
      " Schema: _c0, order_id, quantity, item_name, choice_description, item_price\n",
      "Expected: _c0 but found: \n",
      "CSV file: file:///home/rojesh/Documents/spark-training/day3/chipotle%20(1).csv\n"
     ]
    }
   ],
   "source": [
    "#combining \"item_name\" and \"choice_description\" columns into \"OrderDetails\"\n",
    "\n",
    "chipotle_df = chip_df.withColumn(\"OrderDetails\", coalesce(col(\"item_name\"), col(\"choice_description\")))\n",
    "\n",
    "#displaying the first 5 rows of the result\n",
    "\n",
    "chipotle_df.show(5)\n"
   ]
  },
  {
   "cell_type": "markdown",
   "metadata": {},
   "source": [
    "### ifnull, nullIf, nvl, and nvl2\n",
    "\n",
    "Question: Replace the null values in the \"Age\" column of the Titanic dataset with the average age."
   ]
  },
  {
   "cell_type": "code",
   "execution_count": 64,
   "metadata": {},
   "outputs": [
    {
     "name": "stdout",
     "output_type": "stream",
     "text": [
      "+-----------+--------+------+--------------------+------+-----------------+-----+-----+----------------+----+--------+-------+\n",
      "|PassengerId|Survived|Pclass|                Name|   Sex|              Age|SibSp|Parch|          Ticket|Fare|Embarked|IsAdult|\n",
      "+-----------+--------+------+--------------------+------+-----------------+-----+-----+----------------+----+--------+-------+\n",
      "|          1|       0|     3|Braund, Mr. Owen ...|  male|             22.0|    1|    0|       A/5 21171|   7|       S|   true|\n",
      "|          2|       1|     1|Cumings, Mrs. Joh...|female|             38.0|    1|    0|        PC 17599|  71|       C|   true|\n",
      "|          3|       1|     3|Heikkinen, Miss. ...|female|             26.0|    0|    0|STON/O2. 3101282|   7|       S|   true|\n",
      "|          4|       1|     1|Futrelle, Mrs. Ja...|female|             35.0|    1|    0|          113803|  53|       S|   true|\n",
      "|          5|       0|     3|Allen, Mr. Willia...|  male|             35.0|    0|    0|          373450|   8|       S|   true|\n",
      "|          6|       0|     3|    Moran, Mr. James|  male|29.69911764705882|    0|    0|          330877|   8|       Q|  false|\n",
      "|          7|       0|     1|McCarthy, Mr. Tim...|  male|             54.0|    0|    0|           17463|  51|       S|   true|\n",
      "|          8|       0|     3|Palsson, Master. ...|  male|              2.0|    3|    1|          349909|  21|       S|  false|\n",
      "|          9|       1|     3|Johnson, Mrs. Osc...|female|             27.0|    0|    2|          347742|  11|       S|   true|\n",
      "|         10|       1|     2|Nasser, Mrs. Nich...|female|             14.0|    1|    0|          237736|  30|       C|  false|\n",
      "|         11|       1|     3|Sandstrom, Miss. ...|female|              4.0|    1|    1|         PP 9549|  16|       S|  false|\n",
      "|         12|       1|     1|Bonnell, Miss. El...|female|             58.0|    0|    0|          113783|  26|       S|   true|\n",
      "|         13|       0|     3|Saundercock, Mr. ...|  male|             20.0|    0|    0|       A/5. 2151|   8|       S|   true|\n",
      "|         14|       0|     3|Andersson, Mr. An...|  male|             39.0|    1|    5|          347082|  31|       S|   true|\n",
      "|         15|       0|     3|Vestrom, Miss. Hu...|female|             14.0|    0|    0|          350406|   7|       S|  false|\n",
      "|         16|       1|     2|Hewlett, Mrs. (Ma...|female|             55.0|    0|    0|          248706|  16|       S|   true|\n",
      "|         17|       0|     3|Rice, Master. Eugene|  male|              2.0|    4|    1|          382652|  29|       Q|  false|\n",
      "|         18|       1|     2|Williams, Mr. Cha...|  male|29.69911764705882|    0|    0|          244373|  13|       S|  false|\n",
      "|         19|       0|     3|Vander Planke, Mr...|female|             31.0|    1|    0|          345763|  18|       S|   true|\n",
      "|         20|       1|     3|Masselmani, Mrs. ...|female|29.69911764705882|    0|    0|            2649|   7|       C|  false|\n",
      "+-----------+--------+------+--------------------+------+-----------------+-----+-----+----------------+----+--------+-------+\n",
      "only showing top 20 rows\n",
      "\n"
     ]
    }
   ],
   "source": [
    "#replacing null values in \"Age\" column with the average_age\n",
    "\n",
    "titanic_df = titanic.na.fill(average_age, subset=[\"Age\"])\n",
    "\n",
    "\n",
    "#showing the resulting dataset\n",
    "\n",
    "titanic_df.show()\n",
    "\n"
   ]
  },
  {
   "cell_type": "markdown",
   "metadata": {},
   "source": [
    "### drop\n",
    "\n",
    "Question: Remove the \"Cabin\" column from the Titanic dataset.\n"
   ]
  },
  {
   "cell_type": "code",
   "execution_count": 66,
   "metadata": {},
   "outputs": [
    {
     "name": "stdout",
     "output_type": "stream",
     "text": [
      "+-----------+--------+------+--------------------+------+-----------------+-----+-----+----------------+----+--------+-------+\n",
      "|PassengerId|Survived|Pclass|                Name|   Sex|              Age|SibSp|Parch|          Ticket|Fare|Embarked|IsAdult|\n",
      "+-----------+--------+------+--------------------+------+-----------------+-----+-----+----------------+----+--------+-------+\n",
      "|          1|       0|     3|Braund, Mr. Owen ...|  male|             22.0|    1|    0|       A/5 21171|   7|       S|   true|\n",
      "|          2|       1|     1|Cumings, Mrs. Joh...|female|             38.0|    1|    0|        PC 17599|  71|       C|   true|\n",
      "|          3|       1|     3|Heikkinen, Miss. ...|female|             26.0|    0|    0|STON/O2. 3101282|   7|       S|   true|\n",
      "|          4|       1|     1|Futrelle, Mrs. Ja...|female|             35.0|    1|    0|          113803|  53|       S|   true|\n",
      "|          5|       0|     3|Allen, Mr. Willia...|  male|             35.0|    0|    0|          373450|   8|       S|   true|\n",
      "|          6|       0|     3|    Moran, Mr. James|  male|29.69911764705882|    0|    0|          330877|   8|       Q|  false|\n",
      "|          7|       0|     1|McCarthy, Mr. Tim...|  male|             54.0|    0|    0|           17463|  51|       S|   true|\n",
      "|          8|       0|     3|Palsson, Master. ...|  male|              2.0|    3|    1|          349909|  21|       S|  false|\n",
      "|          9|       1|     3|Johnson, Mrs. Osc...|female|             27.0|    0|    2|          347742|  11|       S|   true|\n",
      "|         10|       1|     2|Nasser, Mrs. Nich...|female|             14.0|    1|    0|          237736|  30|       C|  false|\n",
      "|         11|       1|     3|Sandstrom, Miss. ...|female|              4.0|    1|    1|         PP 9549|  16|       S|  false|\n",
      "|         12|       1|     1|Bonnell, Miss. El...|female|             58.0|    0|    0|          113783|  26|       S|   true|\n",
      "|         13|       0|     3|Saundercock, Mr. ...|  male|             20.0|    0|    0|       A/5. 2151|   8|       S|   true|\n",
      "|         14|       0|     3|Andersson, Mr. An...|  male|             39.0|    1|    5|          347082|  31|       S|   true|\n",
      "|         15|       0|     3|Vestrom, Miss. Hu...|female|             14.0|    0|    0|          350406|   7|       S|  false|\n",
      "|         16|       1|     2|Hewlett, Mrs. (Ma...|female|             55.0|    0|    0|          248706|  16|       S|   true|\n",
      "|         17|       0|     3|Rice, Master. Eugene|  male|              2.0|    4|    1|          382652|  29|       Q|  false|\n",
      "|         18|       1|     2|Williams, Mr. Cha...|  male|29.69911764705882|    0|    0|          244373|  13|       S|  false|\n",
      "|         19|       0|     3|Vander Planke, Mr...|female|             31.0|    1|    0|          345763|  18|       S|   true|\n",
      "|         20|       1|     3|Masselmani, Mrs. ...|female|29.69911764705882|    0|    0|            2649|   7|       C|  false|\n",
      "+-----------+--------+------+--------------------+------+-----------------+-----+-----+----------------+----+--------+-------+\n",
      "only showing top 20 rows\n",
      "\n"
     ]
    }
   ],
   "source": [
    "#dropping Cabin column from titanic dataset\n",
    "titanic = titanic.drop(\"Cabin\")\n",
    "\n",
    "\n",
    "#showing the resulting dataset\n",
    "\n",
    "titanic.show()"
   ]
  },
  {
   "cell_type": "markdown",
   "metadata": {},
   "source": [
    "### fill\n",
    "\n",
    "Question: Fill the null values in the \"Age\" column of the Titanic dataset with a default age of 30."
   ]
  },
  {
   "cell_type": "code",
   "execution_count": 68,
   "metadata": {},
   "outputs": [
    {
     "name": "stdout",
     "output_type": "stream",
     "text": [
      "+-----------+--------+------+--------------------+------+----+-----+-----+----------------+-------+-----+--------+\n",
      "|PassengerId|Survived|Pclass|                Name|   Sex| Age|SibSp|Parch|          Ticket|   Fare|Cabin|Embarked|\n",
      "+-----------+--------+------+--------------------+------+----+-----+-----+----------------+-------+-----+--------+\n",
      "|          1|       0|     3|Braund, Mr. Owen ...|  male|22.0|    1|    0|       A/5 21171|   7.25| null|       S|\n",
      "|          2|       1|     1|Cumings, Mrs. Joh...|female|38.0|    1|    0|        PC 17599|71.2833|  C85|       C|\n",
      "|          3|       1|     3|Heikkinen, Miss. ...|female|26.0|    0|    0|STON/O2. 3101282|  7.925| null|       S|\n",
      "|          4|       1|     1|Futrelle, Mrs. Ja...|female|35.0|    1|    0|          113803|   53.1| C123|       S|\n",
      "|          5|       0|     3|Allen, Mr. Willia...|  male|35.0|    0|    0|          373450|   8.05| null|       S|\n",
      "|          6|       0|     3|    Moran, Mr. James|  male|30.0|    0|    0|          330877| 8.4583| null|       Q|\n",
      "|          7|       0|     1|McCarthy, Mr. Tim...|  male|54.0|    0|    0|           17463|51.8625|  E46|       S|\n",
      "|          8|       0|     3|Palsson, Master. ...|  male| 2.0|    3|    1|          349909| 21.075| null|       S|\n",
      "|          9|       1|     3|Johnson, Mrs. Osc...|female|27.0|    0|    2|          347742|11.1333| null|       S|\n",
      "|         10|       1|     2|Nasser, Mrs. Nich...|female|14.0|    1|    0|          237736|30.0708| null|       C|\n",
      "|         11|       1|     3|Sandstrom, Miss. ...|female| 4.0|    1|    1|         PP 9549|   16.7|   G6|       S|\n",
      "|         12|       1|     1|Bonnell, Miss. El...|female|58.0|    0|    0|          113783|  26.55| C103|       S|\n",
      "|         13|       0|     3|Saundercock, Mr. ...|  male|20.0|    0|    0|       A/5. 2151|   8.05| null|       S|\n",
      "|         14|       0|     3|Andersson, Mr. An...|  male|39.0|    1|    5|          347082| 31.275| null|       S|\n",
      "|         15|       0|     3|Vestrom, Miss. Hu...|female|14.0|    0|    0|          350406| 7.8542| null|       S|\n",
      "|         16|       1|     2|Hewlett, Mrs. (Ma...|female|55.0|    0|    0|          248706|   16.0| null|       S|\n",
      "|         17|       0|     3|Rice, Master. Eugene|  male| 2.0|    4|    1|          382652| 29.125| null|       Q|\n",
      "|         18|       1|     2|Williams, Mr. Cha...|  male|30.0|    0|    0|          244373|   13.0| null|       S|\n",
      "|         19|       0|     3|Vander Planke, Mr...|female|31.0|    1|    0|          345763|   18.0| null|       S|\n",
      "|         20|       1|     3|Masselmani, Mrs. ...|female|30.0|    0|    0|            2649|  7.225| null|       C|\n",
      "+-----------+--------+------+--------------------+------+----+-----+-----+----------------+-------+-----+--------+\n",
      "only showing top 20 rows\n",
      "\n"
     ]
    }
   ],
   "source": [
    "##filling null values in the \"Age\" column with 30\n",
    "\n",
    "titanic_df = titanic2.fillna(30, subset=[\"Age\"])\n",
    "\n",
    "#showing the resulting dataset\n",
    "\n",
    "titanic_df.show()\n",
    "\n"
   ]
  },
  {
   "cell_type": "markdown",
   "metadata": {},
   "source": [
    "###  replace\n",
    "\n",
    "Question: Replace the gender \"male\" with \"M\" and \"female\" with \"F\" in the \"Sex\" column of the Titanic dataset."
   ]
  },
  {
   "cell_type": "code",
   "execution_count": 69,
   "metadata": {},
   "outputs": [
    {
     "name": "stdout",
     "output_type": "stream",
     "text": [
      "+-----------+--------+------+--------------------+---+----+-----+-----+----------------+-------+-----+--------+\n",
      "|PassengerId|Survived|Pclass|                Name|Sex| Age|SibSp|Parch|          Ticket|   Fare|Cabin|Embarked|\n",
      "+-----------+--------+------+--------------------+---+----+-----+-----+----------------+-------+-----+--------+\n",
      "|          1|       0|     3|Braund, Mr. Owen ...|  M|22.0|    1|    0|       A/5 21171|   7.25| null|       S|\n",
      "|          2|       1|     1|Cumings, Mrs. Joh...|  F|38.0|    1|    0|        PC 17599|71.2833|  C85|       C|\n",
      "|          3|       1|     3|Heikkinen, Miss. ...|  F|26.0|    0|    0|STON/O2. 3101282|  7.925| null|       S|\n",
      "|          4|       1|     1|Futrelle, Mrs. Ja...|  F|35.0|    1|    0|          113803|   53.1| C123|       S|\n",
      "|          5|       0|     3|Allen, Mr. Willia...|  M|35.0|    0|    0|          373450|   8.05| null|       S|\n",
      "|          6|       0|     3|    Moran, Mr. James|  M|null|    0|    0|          330877| 8.4583| null|       Q|\n",
      "|          7|       0|     1|McCarthy, Mr. Tim...|  M|54.0|    0|    0|           17463|51.8625|  E46|       S|\n",
      "|          8|       0|     3|Palsson, Master. ...|  M| 2.0|    3|    1|          349909| 21.075| null|       S|\n",
      "|          9|       1|     3|Johnson, Mrs. Osc...|  F|27.0|    0|    2|          347742|11.1333| null|       S|\n",
      "|         10|       1|     2|Nasser, Mrs. Nich...|  F|14.0|    1|    0|          237736|30.0708| null|       C|\n",
      "|         11|       1|     3|Sandstrom, Miss. ...|  F| 4.0|    1|    1|         PP 9549|   16.7|   G6|       S|\n",
      "|         12|       1|     1|Bonnell, Miss. El...|  F|58.0|    0|    0|          113783|  26.55| C103|       S|\n",
      "|         13|       0|     3|Saundercock, Mr. ...|  M|20.0|    0|    0|       A/5. 2151|   8.05| null|       S|\n",
      "|         14|       0|     3|Andersson, Mr. An...|  M|39.0|    1|    5|          347082| 31.275| null|       S|\n",
      "|         15|       0|     3|Vestrom, Miss. Hu...|  F|14.0|    0|    0|          350406| 7.8542| null|       S|\n",
      "|         16|       1|     2|Hewlett, Mrs. (Ma...|  F|55.0|    0|    0|          248706|   16.0| null|       S|\n",
      "|         17|       0|     3|Rice, Master. Eugene|  M| 2.0|    4|    1|          382652| 29.125| null|       Q|\n",
      "|         18|       1|     2|Williams, Mr. Cha...|  M|null|    0|    0|          244373|   13.0| null|       S|\n",
      "|         19|       0|     3|Vander Planke, Mr...|  F|31.0|    1|    0|          345763|   18.0| null|       S|\n",
      "|         20|       1|     3|Masselmani, Mrs. ...|  F|null|    0|    0|            2649|  7.225| null|       C|\n",
      "+-----------+--------+------+--------------------+---+----+-----+-----+----------------+-------+-----+--------+\n",
      "only showing top 20 rows\n",
      "\n"
     ]
    }
   ],
   "source": [
    "#replacing gender values in the Sex column\n",
    "\n",
    "titanic = titanic.withColumn(\"Sex\", when(col(\"Sex\") == \"male\", \"M\").otherwise(\"F\"))\n",
    "\n",
    "\n",
    "#showing the resulting dataset\n",
    "\n",
    "titanic.show()\n",
    "\n"
   ]
  },
  {
   "cell_type": "markdown",
   "metadata": {},
   "source": [
    "### 6. Working with Complex Types: Structs\n",
    "\n",
    "Question: Create a new DataFrame from the Kalimati Tarkari dataset, including a new column \"PriceRange\" that is a struct containing \"Minimum\" and \"Maximum\" prices for each commodity."
   ]
  },
  {
   "cell_type": "code",
   "execution_count": 74,
   "metadata": {},
   "outputs": [
    {
     "name": "stdout",
     "output_type": "stream",
     "text": [
      "+---+--------------------+----------+----+-------+-------+-------+------------+\n",
      "| SN|           Commodity|      Date|Unit|Minimum|Maximum|Average|  PriceRange|\n",
      "+---+--------------------+----------+----+-------+-------+-------+------------+\n",
      "|  0|  Tomato Big(Nepali)|2013-06-16|  Kg|   35.0|   40.0|   37.5|{35.0, 40.0}|\n",
      "|  1| Tomato Small(Local)|2013-06-16|  Kg|   26.0|   32.0|   29.0|{26.0, 32.0}|\n",
      "|  2|          Potato Red|2013-06-16|  Kg|   20.0|   21.0|   20.5|{20.0, 21.0}|\n",
      "|  3|        Potato White|2013-06-16|  Kg|   15.0|   16.0|   15.5|{15.0, 16.0}|\n",
      "|  4|  Onion Dry (Indian)|2013-06-16|  Kg|   28.0|   30.0|   29.0|{28.0, 30.0}|\n",
      "|  5|       Carrot(Local)|2013-06-16|  Kg|   30.0|   35.0|   32.5|{30.0, 35.0}|\n",
      "|  6|      Cabbage(Local)|2013-06-16|  Kg|    6.0|   10.0|    8.0| {6.0, 10.0}|\n",
      "|  7|         Cauli Local|2013-06-16|  Kg|   30.0|   35.0|   32.5|{30.0, 35.0}|\n",
      "|  8|         Raddish Red|2013-06-16|  Kg|   35.0|   40.0|   37.5|{35.0, 40.0}|\n",
      "|  9|Raddish White(Local)|2013-06-16|  Kg|   25.0|   30.0|   27.5|{25.0, 30.0}|\n",
      "| 10|        Brinjal Long|2013-06-16|  Kg|   16.0|   18.0|   17.0|{16.0, 18.0}|\n",
      "| 11|       Brinjal Round|2013-06-16|  Kg|   20.0|   22.0|   21.0|{20.0, 22.0}|\n",
      "| 12|       Cow pea(Long)|2013-06-16|  Kg|   20.0|   25.0|   22.5|{20.0, 25.0}|\n",
      "| 13|          Green Peas|2013-06-16|  Kg|   55.0|   60.0|   57.5|{55.0, 60.0}|\n",
      "| 14|  French Bean(Local)|2013-06-16|  Kg|   25.0|   30.0|   27.5|{25.0, 30.0}|\n",
      "| 15|      Soyabean Green|2013-06-16|  Kg|   60.0|   70.0|   65.0|{60.0, 70.0}|\n",
      "| 16|        Bitter Gourd|2013-06-16|  Kg|   14.0|   16.0|   15.0|{14.0, 16.0}|\n",
      "| 17|        Bottle Gourd|2013-06-16|  Kg|   15.0|   20.0|   17.5|{15.0, 20.0}|\n",
      "| 18|Pointed Gourd(Local)|2013-06-16|  Kg|   30.0|   35.0|   32.5|{30.0, 35.0}|\n",
      "| 19|         Snake Gourd|2013-06-16|  Kg|   25.0|   30.0|   27.5|{25.0, 30.0}|\n",
      "+---+--------------------+----------+----+-------+-------+-------+------------+\n",
      "only showing top 20 rows\n",
      "\n"
     ]
    }
   ],
   "source": [
    "#creatinh a new column PriceRange with a struct containing maximum and minimum prices\n",
    "\n",
    "\n",
    "kalimati_df = kalimati.withColumn(\"PriceRange\", struct(col(\"Minimum\"), col(\"Maximum\")))\n",
    "\n",
    "#showing the resulting dataset\n",
    "\n",
    "kalimati_df.show()\n"
   ]
  },
  {
   "cell_type": "markdown",
   "metadata": {},
   "source": [
    "### Working with Complex Types: Arrays\n",
    "Question: Create a new DataFrame from the Kalimati Tarkari dataset, including a new column \"CommodityList\" that is an array of all the commodities.\n"
   ]
  },
  {
   "cell_type": "code",
   "execution_count": 79,
   "metadata": {},
   "outputs": [
    {
     "name": "stdout",
     "output_type": "stream",
     "text": [
      "+---+--------------------+----------+----+-------+-------+-------+------------+--------------------+\n",
      "| SN|           Commodity|      Date|Unit|Minimum|Maximum|Average|  PriceRange|       CommodityList|\n",
      "+---+--------------------+----------+----+-------+-------+-------+------------+--------------------+\n",
      "|  0|  Tomato Big(Nepali)|2013-06-16|  Kg|   35.0|   40.0|   37.5|{35.0, 40.0}|[Tomato Big(Nepali)]|\n",
      "|  1| Tomato Small(Local)|2013-06-16|  Kg|   26.0|   32.0|   29.0|{26.0, 32.0}|[Tomato Small(Loc...|\n",
      "|  2|          Potato Red|2013-06-16|  Kg|   20.0|   21.0|   20.5|{20.0, 21.0}|        [Potato Red]|\n",
      "|  3|        Potato White|2013-06-16|  Kg|   15.0|   16.0|   15.5|{15.0, 16.0}|      [Potato White]|\n",
      "|  4|  Onion Dry (Indian)|2013-06-16|  Kg|   28.0|   30.0|   29.0|{28.0, 30.0}|[Onion Dry (Indian)]|\n",
      "|  5|       Carrot(Local)|2013-06-16|  Kg|   30.0|   35.0|   32.5|{30.0, 35.0}|     [Carrot(Local)]|\n",
      "|  6|      Cabbage(Local)|2013-06-16|  Kg|    6.0|   10.0|    8.0| {6.0, 10.0}|    [Cabbage(Local)]|\n",
      "|  7|         Cauli Local|2013-06-16|  Kg|   30.0|   35.0|   32.5|{30.0, 35.0}|       [Cauli Local]|\n",
      "|  8|         Raddish Red|2013-06-16|  Kg|   35.0|   40.0|   37.5|{35.0, 40.0}|       [Raddish Red]|\n",
      "|  9|Raddish White(Local)|2013-06-16|  Kg|   25.0|   30.0|   27.5|{25.0, 30.0}|[Raddish White(Lo...|\n",
      "| 10|        Brinjal Long|2013-06-16|  Kg|   16.0|   18.0|   17.0|{16.0, 18.0}|      [Brinjal Long]|\n",
      "| 11|       Brinjal Round|2013-06-16|  Kg|   20.0|   22.0|   21.0|{20.0, 22.0}|     [Brinjal Round]|\n",
      "| 12|       Cow pea(Long)|2013-06-16|  Kg|   20.0|   25.0|   22.5|{20.0, 25.0}|     [Cow pea(Long)]|\n",
      "| 13|          Green Peas|2013-06-16|  Kg|   55.0|   60.0|   57.5|{55.0, 60.0}|        [Green Peas]|\n",
      "| 14|  French Bean(Local)|2013-06-16|  Kg|   25.0|   30.0|   27.5|{25.0, 30.0}|[French Bean(Local)]|\n",
      "| 15|      Soyabean Green|2013-06-16|  Kg|   60.0|   70.0|   65.0|{60.0, 70.0}|    [Soyabean Green]|\n",
      "| 16|        Bitter Gourd|2013-06-16|  Kg|   14.0|   16.0|   15.0|{14.0, 16.0}|      [Bitter Gourd]|\n",
      "| 17|        Bottle Gourd|2013-06-16|  Kg|   15.0|   20.0|   17.5|{15.0, 20.0}|      [Bottle Gourd]|\n",
      "| 18|Pointed Gourd(Local)|2013-06-16|  Kg|   30.0|   35.0|   32.5|{30.0, 35.0}|[Pointed Gourd(Lo...|\n",
      "| 19|         Snake Gourd|2013-06-16|  Kg|   25.0|   30.0|   27.5|{25.0, 30.0}|       [Snake Gourd]|\n",
      "+---+--------------------+----------+----+-------+-------+-------+------------+--------------------+\n",
      "only showing top 20 rows\n",
      "\n"
     ]
    }
   ],
   "source": [
    "#creating a new column commoditylist with an array of all the commodities\n",
    "\n",
    "kalimati_df = kalimati_df.withColumn(\"CommodityList\", array(col(\"Commodity\")))\n",
    "\n",
    "#showing the resulting dataset\n",
    "kalimati_df.show()"
   ]
  },
  {
   "cell_type": "markdown",
   "metadata": {},
   "source": [
    "### Working with Complex Types: explode\n",
    "\n",
    "Question: Explode the \"CommodityList\" array column from the previous step to generate a new row for each commodity in the list."
   ]
  },
  {
   "cell_type": "code",
   "execution_count": 90,
   "metadata": {},
   "outputs": [
    {
     "name": "stdout",
     "output_type": "stream",
     "text": [
      "+---+----------+----+-------+-------+-------+--------------------+\n",
      "| SN|      Date|Unit|Minimum|Maximum|Average|           Commodity|\n",
      "+---+----------+----+-------+-------+-------+--------------------+\n",
      "|  0|2013-06-16|  Kg|   35.0|   40.0|   37.5|  Tomato Big(Nepali)|\n",
      "|  1|2013-06-16|  Kg|   26.0|   32.0|   29.0| Tomato Small(Local)|\n",
      "|  2|2013-06-16|  Kg|   20.0|   21.0|   20.5|          Potato Red|\n",
      "|  3|2013-06-16|  Kg|   15.0|   16.0|   15.5|        Potato White|\n",
      "|  4|2013-06-16|  Kg|   28.0|   30.0|   29.0|  Onion Dry (Indian)|\n",
      "|  5|2013-06-16|  Kg|   30.0|   35.0|   32.5|       Carrot(Local)|\n",
      "|  6|2013-06-16|  Kg|    6.0|   10.0|    8.0|      Cabbage(Local)|\n",
      "|  7|2013-06-16|  Kg|   30.0|   35.0|   32.5|         Cauli Local|\n",
      "|  8|2013-06-16|  Kg|   35.0|   40.0|   37.5|         Raddish Red|\n",
      "|  9|2013-06-16|  Kg|   25.0|   30.0|   27.5|Raddish White(Local)|\n",
      "| 10|2013-06-16|  Kg|   16.0|   18.0|   17.0|        Brinjal Long|\n",
      "| 11|2013-06-16|  Kg|   20.0|   22.0|   21.0|       Brinjal Round|\n",
      "| 12|2013-06-16|  Kg|   20.0|   25.0|   22.5|       Cow pea(Long)|\n",
      "| 13|2013-06-16|  Kg|   55.0|   60.0|   57.5|          Green Peas|\n",
      "| 14|2013-06-16|  Kg|   25.0|   30.0|   27.5|  French Bean(Local)|\n",
      "| 15|2013-06-16|  Kg|   60.0|   70.0|   65.0|      Soyabean Green|\n",
      "| 16|2013-06-16|  Kg|   14.0|   16.0|   15.0|        Bitter Gourd|\n",
      "| 17|2013-06-16|  Kg|   15.0|   20.0|   17.5|        Bottle Gourd|\n",
      "| 18|2013-06-16|  Kg|   30.0|   35.0|   32.5|Pointed Gourd(Local)|\n",
      "| 19|2013-06-16|  Kg|   25.0|   30.0|   27.5|         Snake Gourd|\n",
      "+---+----------+----+-------+-------+-------+--------------------+\n",
      "only showing top 20 rows\n",
      "\n"
     ]
    }
   ],
   "source": [
    "#exploded the \"CommodityList\" column to generate a new row for each commodity\n",
    "\n",
    "exploded_df = kalimati_df.select(col(\"SN\"), col(\"Date\"), col(\"Unit\"), col(\"Minimum\"), col(\"Maximum\"), col(\"Average\"), explode(col(\"CommodityList\")).alias(\"Commodity\"))\n",
    "\n",
    "# Show the first 20 rows of the exploded DataFrame\n",
    "exploded_df.show(20)"
   ]
  },
  {
   "cell_type": "markdown",
   "metadata": {},
   "source": [
    "### Working with Complex Types: Maps\n",
    "\n",
    "Question: Create a new DataFrame from the Kalimati Tarkari dataset, including a new column \"PriceMap\" that is a map with \"Commodity\" as the key and \"Average\" price as the value.\n",
    "Answer:"
   ]
  },
  {
   "cell_type": "code",
   "execution_count": 96,
   "metadata": {},
   "outputs": [
    {
     "name": "stdout",
     "output_type": "stream",
     "text": [
      "+---+--------------------+----------+----+-------+-------+-------+------------------------------+\n",
      "|SN |Commodity           |Date      |Unit|Minimum|Maximum|Average|PriceMap                      |\n",
      "+---+--------------------+----------+----+-------+-------+-------+------------------------------+\n",
      "|0  |Tomato Big(Nepali)  |2013-06-16|Kg  |35.0   |40.0   |37.5   |{Tomato Big(Nepali) -> 37.5}  |\n",
      "|1  |Tomato Small(Local) |2013-06-16|Kg  |26.0   |32.0   |29.0   |{Tomato Small(Local) -> 29.0} |\n",
      "|2  |Potato Red          |2013-06-16|Kg  |20.0   |21.0   |20.5   |{Potato Red -> 20.5}          |\n",
      "|3  |Potato White        |2013-06-16|Kg  |15.0   |16.0   |15.5   |{Potato White -> 15.5}        |\n",
      "|4  |Onion Dry (Indian)  |2013-06-16|Kg  |28.0   |30.0   |29.0   |{Onion Dry (Indian) -> 29.0}  |\n",
      "|5  |Carrot(Local)       |2013-06-16|Kg  |30.0   |35.0   |32.5   |{Carrot(Local) -> 32.5}       |\n",
      "|6  |Cabbage(Local)      |2013-06-16|Kg  |6.0    |10.0   |8.0    |{Cabbage(Local) -> 8.0}       |\n",
      "|7  |Cauli Local         |2013-06-16|Kg  |30.0   |35.0   |32.5   |{Cauli Local -> 32.5}         |\n",
      "|8  |Raddish Red         |2013-06-16|Kg  |35.0   |40.0   |37.5   |{Raddish Red -> 37.5}         |\n",
      "|9  |Raddish White(Local)|2013-06-16|Kg  |25.0   |30.0   |27.5   |{Raddish White(Local) -> 27.5}|\n",
      "|10 |Brinjal Long        |2013-06-16|Kg  |16.0   |18.0   |17.0   |{Brinjal Long -> 17.0}        |\n",
      "|11 |Brinjal Round       |2013-06-16|Kg  |20.0   |22.0   |21.0   |{Brinjal Round -> 21.0}       |\n",
      "|12 |Cow pea(Long)       |2013-06-16|Kg  |20.0   |25.0   |22.5   |{Cow pea(Long) -> 22.5}       |\n",
      "|13 |Green Peas          |2013-06-16|Kg  |55.0   |60.0   |57.5   |{Green Peas -> 57.5}          |\n",
      "|14 |French Bean(Local)  |2013-06-16|Kg  |25.0   |30.0   |27.5   |{French Bean(Local) -> 27.5}  |\n",
      "|15 |Soyabean Green      |2013-06-16|Kg  |60.0   |70.0   |65.0   |{Soyabean Green -> 65.0}      |\n",
      "|16 |Bitter Gourd        |2013-06-16|Kg  |14.0   |16.0   |15.0   |{Bitter Gourd -> 15.0}        |\n",
      "|17 |Bottle Gourd        |2013-06-16|Kg  |15.0   |20.0   |17.5   |{Bottle Gourd -> 17.5}        |\n",
      "|18 |Pointed Gourd(Local)|2013-06-16|Kg  |30.0   |35.0   |32.5   |{Pointed Gourd(Local) -> 32.5}|\n",
      "|19 |Snake Gourd         |2013-06-16|Kg  |25.0   |30.0   |27.5   |{Snake Gourd -> 27.5}         |\n",
      "+---+--------------------+----------+----+-------+-------+-------+------------------------------+\n",
      "only showing top 20 rows\n",
      "\n"
     ]
    }
   ],
   "source": [
    "kalimati_df2 = kalimati.withColumn(\"PriceMap\", create_map(col(\"Commodity\"), col(\"Average\")))\n",
    "\n",
    "\n",
    "kalimati_df2.show(truncate=False)\n"
   ]
  },
  {
   "cell_type": "markdown",
   "metadata": {},
   "source": [
    "### Working with JSON\n",
    "\n",
    "Question: Convert the \"kalimati_df\" DataFrame to JSON format and write it to a JSON file."
   ]
  },
  {
   "cell_type": "code",
   "execution_count": 100,
   "metadata": {},
   "outputs": [],
   "source": [
    "# Define the output JSON file path\n",
    "output_json_path = \"result_kalimati2.json\"\n",
    "\n",
    "# Write the DataFrame to JSON format\n",
    "kalimati_df.write.json(output_json_path)"
   ]
  },
  {
   "cell_type": "code",
   "execution_count": null,
   "metadata": {},
   "outputs": [],
   "source": []
  }
 ],
 "metadata": {
  "kernelspec": {
   "display_name": "Python 3",
   "language": "python",
   "name": "python3"
  },
  "language_info": {
   "codemirror_mode": {
    "name": "ipython",
    "version": 3
   },
   "file_extension": ".py",
   "mimetype": "text/x-python",
   "name": "python",
   "nbconvert_exporter": "python",
   "pygments_lexer": "ipython3",
   "version": "3.10.12"
  },
  "orig_nbformat": 4
 },
 "nbformat": 4,
 "nbformat_minor": 2
}
