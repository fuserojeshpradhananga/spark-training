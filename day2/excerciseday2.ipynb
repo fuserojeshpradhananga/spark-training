{
 "cells": [
  {
   "cell_type": "markdown",
   "metadata": {},
   "source": [
    "## Basic Structured Operations\n"
   ]
  },
  {
   "cell_type": "markdown",
   "metadata": {},
   "source": [
    "### Step 1: Initialize PySpark Session\n"
   ]
  },
  {
   "cell_type": "code",
   "execution_count": 93,
   "metadata": {},
   "outputs": [
    {
     "name": "stderr",
     "output_type": "stream",
     "text": [
      "23/08/30 14:39:44 WARN SparkSession: Using an existing Spark session; only runtime SQL configurations will take effect.\n"
     ]
    }
   ],
   "source": [
    "from pyspark.sql import SparkSession\n",
    "from pyspark.sql.functions import col, count, when, lit , avg\n",
    "from pyspark.sql.types import StructType, StructField, StringType, IntegerType, FloatType\n",
    "\n",
    "\n",
    "\n",
    "# Create a Spark session\n",
    "spark = SparkSession.builder.appName(\"day2\").getOrCreate()\n"
   ]
  },
  {
   "cell_type": "markdown",
   "metadata": {},
   "source": [
    "### Step 2: Load the Dataset\n"
   ]
  },
  {
   "cell_type": "code",
   "execution_count": 72,
   "metadata": {},
   "outputs": [],
   "source": [
    "# Load the Chipotle dataset into a Spark DataFrame\n",
    "data_path = \"./occupation.csv\"  # Replace with the actual path\n",
    "occupation = spark.read.csv(data_path, header=True, inferSchema=True)\n",
    "\n"
   ]
  },
  {
   "cell_type": "code",
   "execution_count": 73,
   "metadata": {},
   "outputs": [
    {
     "name": "stdout",
     "output_type": "stream",
     "text": [
      "root\n",
      " |-- user_id: integer (nullable = true)\n",
      " |-- age: integer (nullable = true)\n",
      " |-- gender: string (nullable = true)\n",
      " |-- occupation: string (nullable = true)\n",
      " |-- zip_code: string (nullable = true)\n",
      "\n"
     ]
    }
   ],
   "source": [
    "occupation.printSchema()"
   ]
  },
  {
   "cell_type": "markdown",
   "metadata": {},
   "source": [
    "### Problem 1: Selecting Specific Columns\n",
    "Problem: Select the \"user_id,\" \"age,\" and \"occupation\" columns from the occupation DataFrame."
   ]
  },
  {
   "cell_type": "code",
   "execution_count": 74,
   "metadata": {},
   "outputs": [
    {
     "name": "stdout",
     "output_type": "stream",
     "text": [
      "+-------+---+-------------+\n",
      "|user_id|age|   occupation|\n",
      "+-------+---+-------------+\n",
      "|      1| 24|   technician|\n",
      "|      2| 53|        other|\n",
      "|      3| 23|       writer|\n",
      "|      4| 24|   technician|\n",
      "|      5| 33|        other|\n",
      "|      6| 42|    executive|\n",
      "|      7| 57|administrator|\n",
      "|      8| 36|administrator|\n",
      "|      9| 29|      student|\n",
      "|     10| 53|       lawyer|\n",
      "|     11| 39|        other|\n",
      "|     12| 28|        other|\n",
      "|     13| 47|     educator|\n",
      "|     14| 45|    scientist|\n",
      "|     15| 49|     educator|\n",
      "|     16| 21|entertainment|\n",
      "|     17| 30|   programmer|\n",
      "|     18| 35|        other|\n",
      "|     19| 40|    librarian|\n",
      "|     20| 42|    homemaker|\n",
      "+-------+---+-------------+\n",
      "only showing top 20 rows\n",
      "\n"
     ]
    }
   ],
   "source": [
    "selected_columns_df = occupation.select(\"user_id\", \"age\", \"occupation\")\n",
    "\n",
    "selected_columns_df.show()\n"
   ]
  },
  {
   "cell_type": "markdown",
   "metadata": {},
   "source": [
    "### Problem 2: Filtering Rows based on Condition\n",
    "Problem: Find the users who are older than 30 years from the occupation DataFrame."
   ]
  },
  {
   "cell_type": "code",
   "execution_count": 75,
   "metadata": {},
   "outputs": [
    {
     "name": "stdout",
     "output_type": "stream",
     "text": [
      "+-------+---+------+-------------+--------+\n",
      "|user_id|age|gender|   occupation|zip_code|\n",
      "+-------+---+------+-------------+--------+\n",
      "|      2| 53|     F|        other|   94043|\n",
      "|      5| 33|     F|        other|   15213|\n",
      "|      6| 42|     M|    executive|   98101|\n",
      "|      7| 57|     M|administrator|   91344|\n",
      "|      8| 36|     M|administrator|   05201|\n",
      "|     10| 53|     M|       lawyer|   90703|\n",
      "|     11| 39|     F|        other|   30329|\n",
      "|     13| 47|     M|     educator|   29206|\n",
      "|     14| 45|     M|    scientist|   55106|\n",
      "|     15| 49|     F|     educator|   97301|\n",
      "|     18| 35|     F|        other|   37212|\n",
      "|     19| 40|     M|    librarian|   02138|\n",
      "|     20| 42|     F|    homemaker|   95660|\n",
      "|     25| 39|     M|     engineer|   55107|\n",
      "|     26| 49|     M|     engineer|   21044|\n",
      "|     27| 40|     F|    librarian|   30030|\n",
      "|     28| 32|     M|       writer|   55369|\n",
      "|     29| 41|     M|   programmer|   94043|\n",
      "|     34| 38|     F|administrator|   42141|\n",
      "|     39| 41|     M|entertainment|   01040|\n",
      "+-------+---+------+-------------+--------+\n",
      "only showing top 20 rows\n",
      "\n"
     ]
    }
   ],
   "source": [
    "filtered_occupation = occupation.filter(occupation.age > 30)\n",
    "\n",
    "filtered_occupation.show()"
   ]
  },
  {
   "cell_type": "markdown",
   "metadata": {},
   "source": [
    "### Problem 3: Counting and Grouping\n",
    "Problem: Count the number of users in each occupation from the occupation DataFrame."
   ]
  },
  {
   "cell_type": "code",
   "execution_count": 76,
   "metadata": {},
   "outputs": [
    {
     "name": "stdout",
     "output_type": "stream",
     "text": [
      "+-------------+----------+\n",
      "|   occupation|user_count|\n",
      "+-------------+----------+\n",
      "|    librarian|        51|\n",
      "|      retired|        14|\n",
      "|       lawyer|        12|\n",
      "|         none|         9|\n",
      "|       writer|        45|\n",
      "|   programmer|        66|\n",
      "|    marketing|        26|\n",
      "|        other|       105|\n",
      "|    executive|        32|\n",
      "|    scientist|        31|\n",
      "|      student|       196|\n",
      "|     salesman|        12|\n",
      "|       artist|        28|\n",
      "|   technician|        27|\n",
      "|administrator|        79|\n",
      "|     engineer|        67|\n",
      "|   healthcare|        16|\n",
      "|     educator|        95|\n",
      "|entertainment|        18|\n",
      "|    homemaker|         7|\n",
      "+-------------+----------+\n",
      "only showing top 20 rows\n",
      "\n"
     ]
    }
   ],
   "source": [
    "occupation_counts = occupation.groupBy(\"occupation\").agg(count(\"*\").alias(\"user_count\"))\n",
    "\n",
    "occupation_counts.show()"
   ]
  },
  {
   "cell_type": "markdown",
   "metadata": {},
   "source": [
    "### Problem 4: Adding a New Column\n",
    "Problem: Add a new column \"age_group\" to the occupation DataFrame based on the age of the users. Divide users into age groups: \"18-25\", \"26-35\", \"36-50\", and \"51+\"."
   ]
  },
  {
   "cell_type": "code",
   "execution_count": 77,
   "metadata": {},
   "outputs": [
    {
     "name": "stdout",
     "output_type": "stream",
     "text": [
      "+-------+---+------+-------------+--------+---------+\n",
      "|user_id|age|gender|   occupation|zip_code|age_group|\n",
      "+-------+---+------+-------------+--------+---------+\n",
      "|      1| 24|     M|   technician|   85711|    18-25|\n",
      "|      2| 53|     F|        other|   94043|      51+|\n",
      "|      3| 23|     M|       writer|   32067|    18-25|\n",
      "|      4| 24|     M|   technician|   43537|    18-25|\n",
      "|      5| 33|     F|        other|   15213|    26-35|\n",
      "|      6| 42|     M|    executive|   98101|    36-50|\n",
      "|      7| 57|     M|administrator|   91344|      51+|\n",
      "|      8| 36|     M|administrator|   05201|    36-50|\n",
      "|      9| 29|     M|      student|   01002|    26-35|\n",
      "|     10| 53|     M|       lawyer|   90703|      51+|\n",
      "|     11| 39|     F|        other|   30329|    36-50|\n",
      "|     12| 28|     F|        other|   06405|    26-35|\n",
      "|     13| 47|     M|     educator|   29206|    36-50|\n",
      "|     14| 45|     M|    scientist|   55106|    36-50|\n",
      "|     15| 49|     F|     educator|   97301|    36-50|\n",
      "|     16| 21|     M|entertainment|   10309|    18-25|\n",
      "|     17| 30|     M|   programmer|   06355|    26-35|\n",
      "|     18| 35|     F|        other|   37212|    26-35|\n",
      "|     19| 40|     M|    librarian|   02138|    36-50|\n",
      "|     20| 42|     F|    homemaker|   95660|    36-50|\n",
      "+-------+---+------+-------------+--------+---------+\n",
      "only showing top 20 rows\n",
      "\n"
     ]
    }
   ],
   "source": [
    "occupation_with_age_group = occupation.withColumn(\n",
    "    \"age_group\",\n",
    "    when(col(\"age\").between(18, 25), \"18-25\")\n",
    "    .when(col(\"age\").between(26, 35), \"26-35\")\n",
    "    .when(col(\"age\").between(36, 50), \"36-50\")\n",
    "    .otherwise(\"51+\")\n",
    ")\n",
    "\n",
    "\n",
    "occupation_with_age_group.show()"
   ]
  },
  {
   "cell_type": "markdown",
   "metadata": {},
   "source": [
    "### Problem 5: Creating DataFrames and Converting to Spark Types\n",
    "Problem: Given the provided code snippet, create a DataFrame df using the given data and schema. The schema includes columns for firstname, middlename, lastname, id, gender, and salary. After creating the DataFrame, print its schema and display its content without truncation."
   ]
  },
  {
   "cell_type": "code",
   "execution_count": 78,
   "metadata": {},
   "outputs": [
    {
     "name": "stdout",
     "output_type": "stream",
     "text": [
      "root\n",
      " |-- firstname: string (nullable = true)\n",
      " |-- middlename: string (nullable = true)\n",
      " |-- lastname: string (nullable = true)\n",
      " |-- id: integer (nullable = true)\n",
      " |-- gender: string (nullable = true)\n",
      " |-- salary: float (nullable = true)\n",
      "\n",
      "+---------+----------+--------+-----+------+------+\n",
      "|firstname|middlename|lastname|id   |gender|salary|\n",
      "+---------+----------+--------+-----+------+------+\n",
      "|James    |null      |Smith   |36636|M     |3000.0|\n",
      "|Michael  |Rose      |null    |40288|M     |4000.0|\n",
      "|Robert   |null      |Williams|42114|M     |4000.0|\n",
      "|Maria    |Anne      |Jones   |39192|F     |4000.0|\n",
      "|Jen      |Mary      |Brown   |null |F     |-1.0  |\n",
      "+---------+----------+--------+-----+------+------+\n",
      "\n"
     ]
    }
   ],
   "source": [
    "#Defining Schema for our dataframe\n",
    "\n",
    "schema = StructType([\n",
    "    StructField(\"firstname\", StringType(), True),\n",
    "    StructField(\"middlename\", StringType(), True),\n",
    "    StructField(\"lastname\", StringType(), True),\n",
    "    StructField(\"id\", IntegerType(), True),\n",
    "    StructField(\"gender\", StringType(), True),\n",
    "    StructField(\"salary\", FloatType(), True)\n",
    "])\n",
    "\n",
    "\n",
    "#Inserting data into the newly made schema\n",
    "\n",
    "data = [\n",
    "    (\"James\", None, \"Smith\", 36636, \"M\", 3000.0),\n",
    "    (\"Michael\", \"Rose\", None, 40288, \"M\", 4000.0),\n",
    "    (\"Robert\", None, \"Williams\", 42114, \"M\", 4000.0),\n",
    "    (\"Maria\", \"Anne\", \"Jones\", 39192, \"F\", 4000.0),\n",
    "    (\"Jen\", \"Mary\", \"Brown\", None, \"F\", -1.0)\n",
    "]\n",
    "\n",
    "# Create a DataFrame using the schema and data\n",
    "\n",
    "df = spark.createDataFrame(data, schema)\n",
    "\n",
    "\n",
    "# Show the schema\n",
    "\n",
    "df.printSchema()\n",
    "\n",
    "# Display the content without truncation\n",
    "\n",
    "df.show(truncate=False)\n",
    "\n"
   ]
  },
  {
   "cell_type": "markdown",
   "metadata": {},
   "source": [
    "### Problem 6: Adding and Renaming Columns\n",
    "Problem: Add a new column \"gender\" to the existing DataFrame and rename the \"Age\" column to \"Years\"."
   ]
  },
  {
   "cell_type": "code",
   "execution_count": 79,
   "metadata": {},
   "outputs": [
    {
     "name": "stdout",
     "output_type": "stream",
     "text": [
      "root\n",
      " |-- user_id: integer (nullable = true)\n",
      " |-- years: integer (nullable = true)\n",
      " |-- gender: string (nullable = false)\n",
      " |-- occupation: string (nullable = true)\n",
      " |-- zip_code: string (nullable = true)\n",
      "\n",
      "+-------+-----+-------+-------------+--------+\n",
      "|user_id|years|gender |occupation   |zip_code|\n",
      "+-------+-----+-------+-------------+--------+\n",
      "|1      |24   |Unknown|technician   |85711   |\n",
      "|2      |53   |Unknown|other        |94043   |\n",
      "|3      |23   |Unknown|writer       |32067   |\n",
      "|4      |24   |Unknown|technician   |43537   |\n",
      "|5      |33   |Unknown|other        |15213   |\n",
      "|6      |42   |Unknown|executive    |98101   |\n",
      "|7      |57   |Unknown|administrator|91344   |\n",
      "|8      |36   |Unknown|administrator|05201   |\n",
      "|9      |29   |Unknown|student      |01002   |\n",
      "|10     |53   |Unknown|lawyer       |90703   |\n",
      "|11     |39   |Unknown|other        |30329   |\n",
      "|12     |28   |Unknown|other        |06405   |\n",
      "|13     |47   |Unknown|educator     |29206   |\n",
      "|14     |45   |Unknown|scientist    |55106   |\n",
      "|15     |49   |Unknown|educator     |97301   |\n",
      "|16     |21   |Unknown|entertainment|10309   |\n",
      "|17     |30   |Unknown|programmer   |06355   |\n",
      "|18     |35   |Unknown|other        |37212   |\n",
      "|19     |40   |Unknown|librarian    |02138   |\n",
      "|20     |42   |Unknown|homemaker    |95660   |\n",
      "+-------+-----+-------+-------------+--------+\n",
      "only showing top 20 rows\n",
      "\n"
     ]
    }
   ],
   "source": [
    "# Add a new column \"gender\" with a constant value\n",
    "occupation_with_gender = occupation.withColumn(\"gender\", lit(\"Unknown\"))\n",
    "\n",
    "# Rename the \"age\" column to \"years\"\n",
    "occupation_final = occupation_with_gender.withColumnRenamed(\"age\", \"years\")\n",
    "\n",
    "# Show the schema and content\n",
    "occupation_final.printSchema()\n",
    "\n",
    "occupation_final.show(truncate=False)"
   ]
  },
  {
   "cell_type": "markdown",
   "metadata": {},
   "source": [
    "### Problem 7: Filtering Rows and Sorting\n",
    "Problem: Filter out users who are younger than 30 years and sort the DataFrame by age in descending order."
   ]
  },
  {
   "cell_type": "code",
   "execution_count": 88,
   "metadata": {},
   "outputs": [
    {
     "name": "stdout",
     "output_type": "stream",
     "text": [
      "+-------+-----+-------+-------------+--------+\n",
      "|user_id|years| gender|   occupation|zip_code|\n",
      "+-------+-----+-------+-------------+--------+\n",
      "|    481|   73|Unknown|      retired|   37771|\n",
      "|    767|   70|Unknown|     engineer|   00000|\n",
      "|    803|   70|Unknown|administrator|   78212|\n",
      "|    860|   70|Unknown|      retired|   48322|\n",
      "|    559|   69|Unknown|    executive|   10022|\n",
      "|    585|   69|Unknown|    librarian|   98501|\n",
      "|    349|   68|Unknown|      retired|   61455|\n",
      "|    573|   68|Unknown|      retired|   48911|\n",
      "|    211|   66|Unknown|     salesman|   32605|\n",
      "|    318|   65|Unknown|      retired|   06518|\n",
      "|    564|   65|Unknown|      retired|   94591|\n",
      "|    651|   65|Unknown|      retired|   02903|\n",
      "|    423|   64|Unknown|        other|   91606|\n",
      "|    845|   64|Unknown|       doctor|   97405|\n",
      "|    364|   63|Unknown|     engineer|   01810|\n",
      "|    777|   63|Unknown|   programmer|   01810|\n",
      "|    858|   63|Unknown|     educator|   09645|\n",
      "|    266|   62|Unknown|administrator|   78756|\n",
      "|    520|   62|Unknown|   healthcare|   12603|\n",
      "|    351|   61|Unknown|     educator|   49938|\n",
      "+-------+-----+-------+-------------+--------+\n",
      "only showing top 20 rows\n",
      "\n"
     ]
    }
   ],
   "source": [
    "# Filter out users younger than 30 years\n",
    "filtered_occupation = occupation_final.filter(occupation.age >= 30)\n",
    "\n",
    "# Sort the DataFrame by age in descending order\n",
    "sorted_occupation = filtered_occupation.orderBy(occupation.age.desc())\n",
    "\n",
    "# Show the resulting DataFrame\n",
    "sorted_occupation.show()"
   ]
  },
  {
   "cell_type": "markdown",
   "metadata": {},
   "source": [
    "### Problem 8: Repartitioning and Collecting Rows\n",
    "Problem: Repartition the DataFrame into 2 partitions without shuffling the data, then collect and display all rows in the driver and print number of partitions"
   ]
  },
  {
   "cell_type": "code",
   "execution_count": 81,
   "metadata": {},
   "outputs": [
    {
     "name": "stderr",
     "output_type": "stream",
     "text": [
      "[Stage 64:>                                                         (0 + 2) / 2]\r"
     ]
    },
    {
     "name": "stdout",
     "output_type": "stream",
     "text": [
      "Row(firstname='James', middlename=None, lastname='Smith', id=36636, gender='M', salary=3000.0)\n",
      "Row(firstname='Michael', middlename='Rose', lastname=None, id=40288, gender='M', salary=4000.0)\n",
      "Row(firstname='Robert', middlename=None, lastname='Williams', id=42114, gender='M', salary=4000.0)\n",
      "Row(firstname='Maria', middlename='Anne', lastname='Jones', id=39192, gender='F', salary=4000.0)\n",
      "Row(firstname='Jen', middlename='Mary', lastname='Brown', id=None, gender='F', salary=-1.0)\n"
     ]
    },
    {
     "name": "stderr",
     "output_type": "stream",
     "text": [
      "                                                                                \r"
     ]
    }
   ],
   "source": [
    "# Repartition the DataFrame into 2 partitions without shuffling\n",
    "repartitioned_df = df.coalesce(2)\n",
    "\n",
    "# Collect and display all rows in the driver\n",
    "all_rows = repartitioned_df.collect()\n",
    "for row in all_rows:\n",
    "    print(row)\n",
    "\n",
    "# Get the number of partitions\n",
    "num_partitions = repartitioned_df.rdd.getNumPartitions()\n"
   ]
  },
  {
   "cell_type": "code",
   "execution_count": 82,
   "metadata": {},
   "outputs": [
    {
     "name": "stdout",
     "output_type": "stream",
     "text": [
      "Number of partitions: 2\n"
     ]
    }
   ],
   "source": [
    "print(\"Number of partitions:\", num_partitions)"
   ]
  },
  {
   "cell_type": "markdown",
   "metadata": {},
   "source": []
  },
  {
   "cell_type": "markdown",
   "metadata": {},
   "source": [
    "#### Filter out rows where the age is greater than 30 and create a new DataFrame. Then, add a new column named \"is_elderly\" with a value of \"True\" for these rows and \"False\" otherwise.Rename the \"gender\" column to \"sex\"."
   ]
  },
  {
   "cell_type": "code",
   "execution_count": 86,
   "metadata": {},
   "outputs": [
    {
     "name": "stdout",
     "output_type": "stream",
     "text": [
      "DataFrame[user_id: int, age: int, gender: string, occupation: string, zip_code: string]\n",
      "+-------+---+---+-------------+--------+----------+\n",
      "|user_id|age|sex|occupation   |zip_code|is_elderly|\n",
      "+-------+---+---+-------------+--------+----------+\n",
      "|2      |53 |F  |other        |94043   |true      |\n",
      "|5      |33 |F  |other        |15213   |true      |\n",
      "|6      |42 |M  |executive    |98101   |true      |\n",
      "|7      |57 |M  |administrator|91344   |true      |\n",
      "|8      |36 |M  |administrator|05201   |true      |\n",
      "|10     |53 |M  |lawyer       |90703   |true      |\n",
      "|11     |39 |F  |other        |30329   |true      |\n",
      "|13     |47 |M  |educator     |29206   |true      |\n",
      "|14     |45 |M  |scientist    |55106   |true      |\n",
      "|15     |49 |F  |educator     |97301   |true      |\n",
      "|18     |35 |F  |other        |37212   |true      |\n",
      "|19     |40 |M  |librarian    |02138   |true      |\n",
      "|20     |42 |F  |homemaker    |95660   |true      |\n",
      "|25     |39 |M  |engineer     |55107   |true      |\n",
      "|26     |49 |M  |engineer     |21044   |true      |\n",
      "|27     |40 |F  |librarian    |30030   |true      |\n",
      "|28     |32 |M  |writer       |55369   |true      |\n",
      "|29     |41 |M  |programmer   |94043   |true      |\n",
      "|34     |38 |F  |administrator|42141   |true      |\n",
      "|39     |41 |M  |entertainment|01040   |true      |\n",
      "|40     |38 |M  |scientist    |27514   |true      |\n",
      "|41     |33 |M  |engineer     |80525   |true      |\n",
      "|47     |53 |M  |marketing    |07102   |true      |\n",
      "|48     |45 |M  |administrator|12550   |true      |\n",
      "|55     |37 |M  |programmer   |01331   |true      |\n",
      "|59     |49 |M  |educator     |08403   |true      |\n",
      "|60     |50 |M  |healthcare   |06472   |true      |\n",
      "|61     |36 |M  |engineer     |30040   |true      |\n",
      "|63     |31 |M  |marketing    |75240   |true      |\n",
      "|64     |32 |M  |educator     |43202   |true      |\n",
      "|65     |51 |F  |educator     |48118   |true      |\n",
      "|71     |39 |M  |scientist    |98034   |true      |\n",
      "|72     |48 |F  |administrator|73034   |true      |\n",
      "|74     |39 |M  |scientist    |T8H1N   |true      |\n",
      "|79     |39 |F  |administrator|03755   |true      |\n",
      "|80     |34 |F  |administrator|52241   |true      |\n",
      "|82     |50 |M  |programmer   |22902   |true      |\n",
      "|83     |40 |M  |other        |44133   |true      |\n",
      "|84     |32 |M  |executive    |55369   |true      |\n",
      "|85     |51 |M  |educator     |20003   |true      |\n",
      "|87     |47 |M  |administrator|89503   |true      |\n",
      "|88     |49 |F  |librarian    |11701   |true      |\n",
      "|89     |43 |F  |administrator|68106   |true      |\n",
      "|90     |60 |M  |educator     |78155   |true      |\n",
      "|91     |55 |M  |marketing    |01913   |true      |\n",
      "|92     |32 |M  |entertainment|80525   |true      |\n",
      "|93     |48 |M  |executive    |23112   |true      |\n",
      "|95     |31 |M  |administrator|10707   |true      |\n",
      "|97     |43 |M  |artist       |98006   |true      |\n",
      "|98     |49 |F  |executive    |90291   |true      |\n",
      "|100    |36 |M  |executive    |90254   |true      |\n",
      "|102    |38 |M  |programmer   |30220   |true      |\n",
      "|106    |61 |M  |retired      |55125   |true      |\n",
      "|107    |39 |M  |scientist    |60466   |true      |\n",
      "|108    |44 |M  |educator     |63130   |true      |\n",
      "|111    |57 |M  |engineer     |90630   |true      |\n",
      "|113    |47 |M  |executive    |95032   |true      |\n",
      "|115    |31 |M  |engineer     |17110   |true      |\n",
      "|116    |40 |M  |healthcare   |97232   |true      |\n",
      "|119    |32 |M  |programmer   |67401   |true      |\n",
      "|120    |47 |F  |other        |06260   |true      |\n",
      "|121    |54 |M  |librarian    |99603   |true      |\n",
      "|122    |32 |F  |writer       |22206   |true      |\n",
      "|123    |48 |F  |artist       |20008   |true      |\n",
      "|124    |34 |M  |student      |60615   |true      |\n",
      "|127    |33 |M  |none         |73439   |true      |\n",
      "|129    |36 |F  |marketing    |07039   |true      |\n",
      "|131    |59 |F  |administrator|15237   |true      |\n",
      "|133    |53 |M  |engineer     |78602   |true      |\n",
      "|134    |31 |M  |programmer   |80236   |true      |\n",
      "|136    |51 |M  |other        |97365   |true      |\n",
      "|137    |50 |M  |educator     |84408   |true      |\n",
      "|138    |46 |M  |doctor       |53211   |true      |\n",
      "|141    |49 |M  |programmer   |36117   |true      |\n",
      "|143    |42 |M  |technician   |08832   |true      |\n",
      "|144    |53 |M  |programmer   |20910   |true      |\n",
      "|145    |31 |M  |entertainment|V3N4P   |true      |\n",
      "|146    |45 |M  |artist       |83814   |true      |\n",
      "|147    |40 |F  |librarian    |02143   |true      |\n",
      "|148    |33 |M  |engineer     |97006   |true      |\n",
      "|149    |35 |F  |marketing    |17325   |true      |\n",
      "|151    |38 |F  |administrator|48103   |true      |\n",
      "|152    |33 |F  |educator     |68767   |true      |\n",
      "|155    |32 |F  |other        |11217   |true      |\n",
      "|157    |57 |M  |engineer     |70808   |true      |\n",
      "|158    |50 |M  |educator     |27606   |true      |\n",
      "|161    |50 |M  |lawyer       |55104   |true      |\n",
      "|163    |49 |M  |administrator|97212   |true      |\n",
      "|164    |47 |M  |healthcare   |80123   |true      |\n",
      "|166    |47 |M  |educator     |55113   |true      |\n",
      "|167    |37 |M  |other        |L9G2B   |true      |\n",
      "|168    |48 |M  |other        |80127   |true      |\n",
      "|169    |52 |F  |other        |53705   |true      |\n",
      "|170    |53 |F  |healthcare   |30067   |true      |\n",
      "|171    |48 |F  |educator     |78750   |true      |\n",
      "|172    |55 |M  |marketing    |22207   |true      |\n",
      "|173    |56 |M  |other        |22306   |true      |\n",
      "|182    |36 |M  |programmer   |33884   |true      |\n",
      "|183    |33 |M  |scientist    |27708   |true      |\n",
      "|184    |37 |M  |librarian    |76013   |true      |\n",
      "+-------+---+---+-------------+--------+----------+\n",
      "only showing top 100 rows\n",
      "\n",
      "+-------+---+---+-------------+--------+----------+\n",
      "|user_id|age|sex|   occupation|zip_code|is_elderly|\n",
      "+-------+---+---+-------------+--------+----------+\n",
      "|      2| 53|  F|        other|   94043|      true|\n",
      "|      5| 33|  F|        other|   15213|      true|\n",
      "|      6| 42|  M|    executive|   98101|      true|\n",
      "|      7| 57|  M|administrator|   91344|      true|\n",
      "|      8| 36|  M|administrator|   05201|      true|\n",
      "|     10| 53|  M|       lawyer|   90703|      true|\n",
      "|     11| 39|  F|        other|   30329|      true|\n",
      "|     13| 47|  M|     educator|   29206|      true|\n",
      "|     14| 45|  M|    scientist|   55106|      true|\n",
      "|     15| 49|  F|     educator|   97301|      true|\n",
      "|     18| 35|  F|        other|   37212|      true|\n",
      "|     19| 40|  M|    librarian|   02138|      true|\n",
      "|     20| 42|  F|    homemaker|   95660|      true|\n",
      "|     25| 39|  M|     engineer|   55107|      true|\n",
      "|     26| 49|  M|     engineer|   21044|      true|\n",
      "|     27| 40|  F|    librarian|   30030|      true|\n",
      "|     28| 32|  M|       writer|   55369|      true|\n",
      "|     29| 41|  M|   programmer|   94043|      true|\n",
      "|     34| 38|  F|administrator|   42141|      true|\n",
      "|     39| 41|  M|entertainment|   01040|      true|\n",
      "+-------+---+---+-------------+--------+----------+\n",
      "only showing top 20 rows\n",
      "\n"
     ]
    }
   ],
   "source": [
    "# Create a temporary view to use Spark SQL\n",
    "sorted_occupation.createOrReplaceTempView(\"occupation_view\")\n",
    "\n",
    "print(sorted_occupation)\n",
    "## Filter out rows where age is greater than 30\n",
    "filtered_rows_sql = spark.sql(\"SELECT user_id, age, gender AS sex, occupation, zip_code FROM occupation_view WHERE age > 30\")\n",
    "\n",
    "# Add a new column \"is_elderly\" with a value of True or False\n",
    "filtered_rows_sql = filtered_rows_sql.withColumn(\"is_elderly\", lit(True))\n",
    "\n",
    "# Show the resulting DataFrame without truncation\n",
    "filtered_rows_sql.show(100, False)\n",
    "\n",
    "\n",
    "# Show the resulting DataFrame\n",
    "filtered_rows_sql.show()"
   ]
  },
  {
   "cell_type": "code",
   "execution_count": 89,
   "metadata": {},
   "outputs": [
    {
     "name": "stdout",
     "output_type": "stream",
     "text": [
      "+-------+-----+-------+-------------+--------+----------+\n",
      "|user_id|years|    sex|   occupation|zip_code|is_elderly|\n",
      "+-------+-----+-------+-------------+--------+----------+\n",
      "|    481|   73|Unknown|      retired|   37771|      true|\n",
      "|    767|   70|Unknown|     engineer|   00000|      true|\n",
      "|    803|   70|Unknown|administrator|   78212|      true|\n",
      "|    860|   70|Unknown|      retired|   48322|      true|\n",
      "|    559|   69|Unknown|    executive|   10022|      true|\n",
      "|    585|   69|Unknown|    librarian|   98501|      true|\n",
      "|    349|   68|Unknown|      retired|   61455|      true|\n",
      "|    573|   68|Unknown|      retired|   48911|      true|\n",
      "|    211|   66|Unknown|     salesman|   32605|      true|\n",
      "|    318|   65|Unknown|      retired|   06518|      true|\n",
      "|    564|   65|Unknown|      retired|   94591|      true|\n",
      "|    651|   65|Unknown|      retired|   02903|      true|\n",
      "|    423|   64|Unknown|        other|   91606|      true|\n",
      "|    845|   64|Unknown|       doctor|   97405|      true|\n",
      "|    364|   63|Unknown|     engineer|   01810|      true|\n",
      "|    777|   63|Unknown|   programmer|   01810|      true|\n",
      "|    858|   63|Unknown|     educator|   09645|      true|\n",
      "|    266|   62|Unknown|administrator|   78756|      true|\n",
      "|    520|   62|Unknown|   healthcare|   12603|      true|\n",
      "|    106|   61|Unknown|      retired|   55125|      true|\n",
      "+-------+-----+-------+-------------+--------+----------+\n",
      "only showing top 20 rows\n",
      "\n"
     ]
    }
   ],
   "source": [
    "\n",
    "# Filter out rows where age is greater than 30\n",
    "filtered_rows = sorted_occupation.filter(col(\"age\") > 30)\n",
    "\n",
    "# Add a new column \"is_elderly\" with a value of True or False\n",
    "filtered_rows = filtered_rows.withColumn(\"is_elderly\", lit(True))\n",
    "\n",
    "# Rename the \"gender\" column to \"sex\"\n",
    "filtered_rows = filtered_rows.withColumnRenamed(\"gender\", \"sex\")\n",
    "\n",
    "# Show the resulting DataFrame\n",
    "filtered_rows.show()"
   ]
  },
  {
   "cell_type": "code",
   "execution_count": 94,
   "metadata": {},
   "outputs": [
    {
     "ename": "AnalysisException",
     "evalue": "[UNRESOLVED_COLUMN.WITH_SUGGESTION] A column or function parameter with name `age` cannot be resolved. Did you mean one of the following? [`years`, `gender`, `user_id`, `zip_code`, `occupation`].;\n'Aggregate [gender#1056], [gender#1056, avg('age) AS avg_age#1392]\n+- Project [user_id#905, years#1062, gender#1056, occupation#908, zip_code#909]\n   +- Sort [age#906 DESC NULLS LAST], true\n      +- Project [user_id#905, years#1062, gender#1056, occupation#908, zip_code#909, age#906]\n         +- Filter (age#906 >= 30)\n            +- Project [user_id#905, age#906 AS years#1062, gender#1056, occupation#908, zip_code#909, age#906]\n               +- Project [user_id#905, age#906, Unknown AS gender#1056, occupation#908, zip_code#909]\n                  +- Relation [user_id#905,age#906,gender#907,occupation#908,zip_code#909] csv\n",
     "output_type": "error",
     "traceback": [
      "\u001b[0;31m---------------------------------------------------------------------------\u001b[0m",
      "\u001b[0;31mAnalysisException\u001b[0m                         Traceback (most recent call last)",
      "Cell \u001b[0;32mIn[94], line 2\u001b[0m\n\u001b[1;32m      1\u001b[0m \u001b[39m# Calculate the average age of male and female users separately\u001b[39;00m\n\u001b[0;32m----> 2\u001b[0m avg_age_per_gender \u001b[39m=\u001b[39m sorted_occupation\u001b[39m.\u001b[39;49mgroupBy(\u001b[39m\"\u001b[39;49m\u001b[39mgender\u001b[39;49m\u001b[39m\"\u001b[39;49m)\u001b[39m.\u001b[39;49magg(avg(\u001b[39m\"\u001b[39;49m\u001b[39mage\u001b[39;49m\u001b[39m\"\u001b[39;49m)\u001b[39m.\u001b[39;49malias(\u001b[39m\"\u001b[39;49m\u001b[39mavg_age\u001b[39;49m\u001b[39m\"\u001b[39;49m))\n\u001b[1;32m      4\u001b[0m \u001b[39m# Show the resulting DataFrame\u001b[39;00m\n\u001b[1;32m      5\u001b[0m avg_age_per_gender\u001b[39m.\u001b[39mshow()\n",
      "File \u001b[0;32m~/.local/lib/python3.10/site-packages/pyspark/sql/group.py:175\u001b[0m, in \u001b[0;36mGroupedData.agg\u001b[0;34m(self, *exprs)\u001b[0m\n\u001b[1;32m    173\u001b[0m     \u001b[39massert\u001b[39;00m \u001b[39mall\u001b[39m(\u001b[39misinstance\u001b[39m(c, Column) \u001b[39mfor\u001b[39;00m c \u001b[39min\u001b[39;00m exprs), \u001b[39m\"\u001b[39m\u001b[39mall exprs should be Column\u001b[39m\u001b[39m\"\u001b[39m\n\u001b[1;32m    174\u001b[0m     exprs \u001b[39m=\u001b[39m cast(Tuple[Column, \u001b[39m.\u001b[39m\u001b[39m.\u001b[39m\u001b[39m.\u001b[39m], exprs)\n\u001b[0;32m--> 175\u001b[0m     jdf \u001b[39m=\u001b[39m \u001b[39mself\u001b[39;49m\u001b[39m.\u001b[39;49m_jgd\u001b[39m.\u001b[39;49magg(exprs[\u001b[39m0\u001b[39;49m]\u001b[39m.\u001b[39;49m_jc, _to_seq(\u001b[39mself\u001b[39;49m\u001b[39m.\u001b[39;49msession\u001b[39m.\u001b[39;49m_sc, [c\u001b[39m.\u001b[39;49m_jc \u001b[39mfor\u001b[39;49;00m c \u001b[39min\u001b[39;49;00m exprs[\u001b[39m1\u001b[39;49m:]]))\n\u001b[1;32m    176\u001b[0m \u001b[39mreturn\u001b[39;00m DataFrame(jdf, \u001b[39mself\u001b[39m\u001b[39m.\u001b[39msession)\n",
      "File \u001b[0;32m~/.local/lib/python3.10/site-packages/py4j/java_gateway.py:1322\u001b[0m, in \u001b[0;36mJavaMember.__call__\u001b[0;34m(self, *args)\u001b[0m\n\u001b[1;32m   1316\u001b[0m command \u001b[39m=\u001b[39m proto\u001b[39m.\u001b[39mCALL_COMMAND_NAME \u001b[39m+\u001b[39m\\\n\u001b[1;32m   1317\u001b[0m     \u001b[39mself\u001b[39m\u001b[39m.\u001b[39mcommand_header \u001b[39m+\u001b[39m\\\n\u001b[1;32m   1318\u001b[0m     args_command \u001b[39m+\u001b[39m\\\n\u001b[1;32m   1319\u001b[0m     proto\u001b[39m.\u001b[39mEND_COMMAND_PART\n\u001b[1;32m   1321\u001b[0m answer \u001b[39m=\u001b[39m \u001b[39mself\u001b[39m\u001b[39m.\u001b[39mgateway_client\u001b[39m.\u001b[39msend_command(command)\n\u001b[0;32m-> 1322\u001b[0m return_value \u001b[39m=\u001b[39m get_return_value(\n\u001b[1;32m   1323\u001b[0m     answer, \u001b[39mself\u001b[39;49m\u001b[39m.\u001b[39;49mgateway_client, \u001b[39mself\u001b[39;49m\u001b[39m.\u001b[39;49mtarget_id, \u001b[39mself\u001b[39;49m\u001b[39m.\u001b[39;49mname)\n\u001b[1;32m   1325\u001b[0m \u001b[39mfor\u001b[39;00m temp_arg \u001b[39min\u001b[39;00m temp_args:\n\u001b[1;32m   1326\u001b[0m     \u001b[39mif\u001b[39;00m \u001b[39mhasattr\u001b[39m(temp_arg, \u001b[39m\"\u001b[39m\u001b[39m_detach\u001b[39m\u001b[39m\"\u001b[39m):\n",
      "File \u001b[0;32m~/.local/lib/python3.10/site-packages/pyspark/errors/exceptions/captured.py:175\u001b[0m, in \u001b[0;36mcapture_sql_exception.<locals>.deco\u001b[0;34m(*a, **kw)\u001b[0m\n\u001b[1;32m    171\u001b[0m converted \u001b[39m=\u001b[39m convert_exception(e\u001b[39m.\u001b[39mjava_exception)\n\u001b[1;32m    172\u001b[0m \u001b[39mif\u001b[39;00m \u001b[39mnot\u001b[39;00m \u001b[39misinstance\u001b[39m(converted, UnknownException):\n\u001b[1;32m    173\u001b[0m     \u001b[39m# Hide where the exception came from that shows a non-Pythonic\u001b[39;00m\n\u001b[1;32m    174\u001b[0m     \u001b[39m# JVM exception message.\u001b[39;00m\n\u001b[0;32m--> 175\u001b[0m     \u001b[39mraise\u001b[39;00m converted \u001b[39mfrom\u001b[39;00m \u001b[39mNone\u001b[39;00m\n\u001b[1;32m    176\u001b[0m \u001b[39melse\u001b[39;00m:\n\u001b[1;32m    177\u001b[0m     \u001b[39mraise\u001b[39;00m\n",
      "\u001b[0;31mAnalysisException\u001b[0m: [UNRESOLVED_COLUMN.WITH_SUGGESTION] A column or function parameter with name `age` cannot be resolved. Did you mean one of the following? [`years`, `gender`, `user_id`, `zip_code`, `occupation`].;\n'Aggregate [gender#1056], [gender#1056, avg('age) AS avg_age#1392]\n+- Project [user_id#905, years#1062, gender#1056, occupation#908, zip_code#909]\n   +- Sort [age#906 DESC NULLS LAST], true\n      +- Project [user_id#905, years#1062, gender#1056, occupation#908, zip_code#909, age#906]\n         +- Filter (age#906 >= 30)\n            +- Project [user_id#905, age#906 AS years#1062, gender#1056, occupation#908, zip_code#909, age#906]\n               +- Project [user_id#905, age#906, Unknown AS gender#1056, occupation#908, zip_code#909]\n                  +- Relation [user_id#905,age#906,gender#907,occupation#908,zip_code#909] csv\n"
     ]
    }
   ],
   "source": [
    "# Filter out rows with unknown gender\n",
    "filtered_occupation = sorted_occupation.filter(col(\"gender\") != \"Unknown\")\n",
    "\n",
    "# Calculate the average age of male and female users separately\n",
    "avg_age_per_gender = filtered_occupation.groupBy(\"gender\").agg(avg(\"age\").alias(\"avg_age\"))\n",
    "\n",
    "# Show the resulting DataFrame\n",
    "avg_age_per_gender.show()"
   ]
  },
  {
   "cell_type": "code",
   "execution_count": null,
   "metadata": {},
   "outputs": [],
   "source": []
  }
 ],
 "metadata": {
  "kernelspec": {
   "display_name": "Python 3",
   "language": "python",
   "name": "python3"
  },
  "language_info": {
   "codemirror_mode": {
    "name": "ipython",
    "version": 3
   },
   "file_extension": ".py",
   "mimetype": "text/x-python",
   "name": "python",
   "nbconvert_exporter": "python",
   "pygments_lexer": "ipython3",
   "version": "3.10.12"
  },
  "orig_nbformat": 4
 },
 "nbformat": 4,
 "nbformat_minor": 2
}
