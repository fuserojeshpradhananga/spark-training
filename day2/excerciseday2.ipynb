{
 "cells": [
  {
   "cell_type": "markdown",
   "metadata": {},
   "source": [
    "## Basic Structured Operations\n"
   ]
  },
  {
   "cell_type": "markdown",
   "metadata": {},
   "source": [
    "### Step 1: Initialize PySpark Session\n"
   ]
  },
  {
   "cell_type": "code",
   "execution_count": 124,
   "metadata": {},
   "outputs": [],
   "source": [
    "from pyspark.sql import SparkSession\n",
    "from pyspark.sql.functions import col, count, when, lit , avg\n",
    "from pyspark.sql.types import StructType, StructField, StringType, IntegerType, FloatType\n",
    "\n",
    "\n",
    "\n",
    "# Create a Spark session\n",
    "spark = SparkSession.builder.appName(\"day2\").getOrCreate()\n"
   ]
  },
  {
   "cell_type": "markdown",
   "metadata": {},
   "source": [
    "### Step 2: Load the Dataset\n"
   ]
  },
  {
   "cell_type": "code",
   "execution_count": 125,
   "metadata": {},
   "outputs": [],
   "source": [
    "# Load the Chipotle dataset into a Spark DataFrame\n",
    "data_path = \"./occupation.csv\"  # Replace with the actual path\n",
    "occupation = spark.read.csv(data_path, header=True, inferSchema=True)\n",
    "\n"
   ]
  },
  {
   "cell_type": "code",
   "execution_count": 126,
   "metadata": {},
   "outputs": [
    {
     "name": "stdout",
     "output_type": "stream",
     "text": [
      "root\n",
      " |-- user_id: integer (nullable = true)\n",
      " |-- age: integer (nullable = true)\n",
      " |-- gender: string (nullable = true)\n",
      " |-- occupation: string (nullable = true)\n",
      " |-- zip_code: string (nullable = true)\n",
      "\n"
     ]
    }
   ],
   "source": [
    "occupation.printSchema()"
   ]
  },
  {
   "cell_type": "markdown",
   "metadata": {},
   "source": [
    "### Problem 1: Selecting Specific Columns\n",
    "Problem: Select the \"user_id,\" \"age,\" and \"occupation\" columns from the occupation DataFrame."
   ]
  },
  {
   "cell_type": "code",
   "execution_count": 127,
   "metadata": {},
   "outputs": [
    {
     "name": "stdout",
     "output_type": "stream",
     "text": [
      "+-------+---+-------------+\n",
      "|user_id|age|   occupation|\n",
      "+-------+---+-------------+\n",
      "|      1| 24|   technician|\n",
      "|      2| 53|        other|\n",
      "|      3| 23|       writer|\n",
      "|      4| 24|   technician|\n",
      "|      5| 33|        other|\n",
      "|      6| 42|    executive|\n",
      "|      7| 57|administrator|\n",
      "|      8| 36|administrator|\n",
      "|      9| 29|      student|\n",
      "|     10| 53|       lawyer|\n",
      "|     11| 39|        other|\n",
      "|     12| 28|        other|\n",
      "|     13| 47|     educator|\n",
      "|     14| 45|    scientist|\n",
      "|     15| 49|     educator|\n",
      "|     16| 21|entertainment|\n",
      "|     17| 30|   programmer|\n",
      "|     18| 35|        other|\n",
      "|     19| 40|    librarian|\n",
      "|     20| 42|    homemaker|\n",
      "+-------+---+-------------+\n",
      "only showing top 20 rows\n",
      "\n"
     ]
    }
   ],
   "source": [
    "selected_columns_df = occupation.select(\"user_id\", \"age\", \"occupation\")\n",
    "\n",
    "selected_columns_df.show()\n"
   ]
  },
  {
   "cell_type": "markdown",
   "metadata": {},
   "source": [
    "### Problem 2: Filtering Rows based on Condition\n",
    "Problem: Find the users who are older than 30 years from the occupation DataFrame."
   ]
  },
  {
   "cell_type": "code",
   "execution_count": 128,
   "metadata": {},
   "outputs": [
    {
     "name": "stdout",
     "output_type": "stream",
     "text": [
      "+-------+---+------+-------------+--------+\n",
      "|user_id|age|gender|   occupation|zip_code|\n",
      "+-------+---+------+-------------+--------+\n",
      "|      2| 53|     F|        other|   94043|\n",
      "|      5| 33|     F|        other|   15213|\n",
      "|      6| 42|     M|    executive|   98101|\n",
      "|      7| 57|     M|administrator|   91344|\n",
      "|      8| 36|     M|administrator|   05201|\n",
      "|     10| 53|     M|       lawyer|   90703|\n",
      "|     11| 39|     F|        other|   30329|\n",
      "|     13| 47|     M|     educator|   29206|\n",
      "|     14| 45|     M|    scientist|   55106|\n",
      "|     15| 49|     F|     educator|   97301|\n",
      "|     18| 35|     F|        other|   37212|\n",
      "|     19| 40|     M|    librarian|   02138|\n",
      "|     20| 42|     F|    homemaker|   95660|\n",
      "|     25| 39|     M|     engineer|   55107|\n",
      "|     26| 49|     M|     engineer|   21044|\n",
      "|     27| 40|     F|    librarian|   30030|\n",
      "|     28| 32|     M|       writer|   55369|\n",
      "|     29| 41|     M|   programmer|   94043|\n",
      "|     34| 38|     F|administrator|   42141|\n",
      "|     39| 41|     M|entertainment|   01040|\n",
      "+-------+---+------+-------------+--------+\n",
      "only showing top 20 rows\n",
      "\n"
     ]
    }
   ],
   "source": [
    "filtered_occupation = occupation.filter(occupation.age > 30)\n",
    "\n",
    "filtered_occupation.show()"
   ]
  },
  {
   "cell_type": "markdown",
   "metadata": {},
   "source": [
    "### Problem 3: Counting and Grouping\n",
    "Problem: Count the number of users in each occupation from the occupation DataFrame."
   ]
  },
  {
   "cell_type": "code",
   "execution_count": 129,
   "metadata": {},
   "outputs": [
    {
     "name": "stdout",
     "output_type": "stream",
     "text": [
      "+-------------+----------+\n",
      "|   occupation|user_count|\n",
      "+-------------+----------+\n",
      "|    librarian|        51|\n",
      "|      retired|        14|\n",
      "|       lawyer|        12|\n",
      "|         none|         9|\n",
      "|       writer|        45|\n",
      "|   programmer|        66|\n",
      "|    marketing|        26|\n",
      "|        other|       105|\n",
      "|    executive|        32|\n",
      "|    scientist|        31|\n",
      "|      student|       196|\n",
      "|     salesman|        12|\n",
      "|       artist|        28|\n",
      "|   technician|        27|\n",
      "|administrator|        79|\n",
      "|     engineer|        67|\n",
      "|   healthcare|        16|\n",
      "|     educator|        95|\n",
      "|entertainment|        18|\n",
      "|    homemaker|         7|\n",
      "+-------------+----------+\n",
      "only showing top 20 rows\n",
      "\n"
     ]
    }
   ],
   "source": [
    "occupation_counts = occupation.groupBy(\"occupation\").agg(count(\"*\").alias(\"user_count\"))\n",
    "\n",
    "occupation_counts.show()"
   ]
  },
  {
   "cell_type": "markdown",
   "metadata": {},
   "source": [
    "### Problem 4: Adding a New Column\n",
    "Problem: Add a new column \"age_group\" to the occupation DataFrame based on the age of the users. Divide users into age groups: \"18-25\", \"26-35\", \"36-50\", and \"51+\"."
   ]
  },
  {
   "cell_type": "code",
   "execution_count": 130,
   "metadata": {},
   "outputs": [
    {
     "name": "stdout",
     "output_type": "stream",
     "text": [
      "+-------+---+------+-------------+--------+---------+\n",
      "|user_id|age|gender|   occupation|zip_code|age_group|\n",
      "+-------+---+------+-------------+--------+---------+\n",
      "|      1| 24|     M|   technician|   85711|    18-25|\n",
      "|      2| 53|     F|        other|   94043|      51+|\n",
      "|      3| 23|     M|       writer|   32067|    18-25|\n",
      "|      4| 24|     M|   technician|   43537|    18-25|\n",
      "|      5| 33|     F|        other|   15213|    26-35|\n",
      "|      6| 42|     M|    executive|   98101|    36-50|\n",
      "|      7| 57|     M|administrator|   91344|      51+|\n",
      "|      8| 36|     M|administrator|   05201|    36-50|\n",
      "|      9| 29|     M|      student|   01002|    26-35|\n",
      "|     10| 53|     M|       lawyer|   90703|      51+|\n",
      "|     11| 39|     F|        other|   30329|    36-50|\n",
      "|     12| 28|     F|        other|   06405|    26-35|\n",
      "|     13| 47|     M|     educator|   29206|    36-50|\n",
      "|     14| 45|     M|    scientist|   55106|    36-50|\n",
      "|     15| 49|     F|     educator|   97301|    36-50|\n",
      "|     16| 21|     M|entertainment|   10309|    18-25|\n",
      "|     17| 30|     M|   programmer|   06355|    26-35|\n",
      "|     18| 35|     F|        other|   37212|    26-35|\n",
      "|     19| 40|     M|    librarian|   02138|    36-50|\n",
      "|     20| 42|     F|    homemaker|   95660|    36-50|\n",
      "+-------+---+------+-------------+--------+---------+\n",
      "only showing top 20 rows\n",
      "\n"
     ]
    }
   ],
   "source": [
    "occupation_with_age_group = occupation.withColumn(\n",
    "    \"age_group\",\n",
    "    when(col(\"age\").between(18, 25), \"18-25\")\n",
    "    .when(col(\"age\").between(26, 35), \"26-35\")\n",
    "    .when(col(\"age\").between(36, 50), \"36-50\")\n",
    "    .otherwise(\"51+\")\n",
    ")\n",
    "\n",
    "\n",
    "occupation_with_age_group.show()"
   ]
  },
  {
   "cell_type": "markdown",
   "metadata": {},
   "source": [
    "### Problem 5: Creating DataFrames and Converting to Spark Types\n",
    "Problem: Given the provided code snippet, create a DataFrame df using the given data and schema. The schema includes columns for firstname, middlename, lastname, id, gender, and salary. After creating the DataFrame, print its schema and display its content without truncation."
   ]
  },
  {
   "cell_type": "code",
   "execution_count": 131,
   "metadata": {},
   "outputs": [
    {
     "name": "stdout",
     "output_type": "stream",
     "text": [
      "root\n",
      " |-- firstname: string (nullable = true)\n",
      " |-- middlename: string (nullable = true)\n",
      " |-- lastname: string (nullable = true)\n",
      " |-- id: integer (nullable = true)\n",
      " |-- gender: string (nullable = true)\n",
      " |-- salary: float (nullable = true)\n",
      "\n",
      "+---------+----------+--------+-----+------+------+\n",
      "|firstname|middlename|lastname|id   |gender|salary|\n",
      "+---------+----------+--------+-----+------+------+\n",
      "|James    |null      |Smith   |36636|M     |3000.0|\n",
      "|Michael  |Rose      |null    |40288|M     |4000.0|\n",
      "|Robert   |null      |Williams|42114|M     |4000.0|\n",
      "|Maria    |Anne      |Jones   |39192|F     |4000.0|\n",
      "|Jen      |Mary      |Brown   |null |F     |-1.0  |\n",
      "+---------+----------+--------+-----+------+------+\n",
      "\n"
     ]
    }
   ],
   "source": [
    "#Defining Schema for our dataframe\n",
    "\n",
    "schema = StructType([\n",
    "    StructField(\"firstname\", StringType(), True),\n",
    "    StructField(\"middlename\", StringType(), True),\n",
    "    StructField(\"lastname\", StringType(), True),\n",
    "    StructField(\"id\", IntegerType(), True),\n",
    "    StructField(\"gender\", StringType(), True),\n",
    "    StructField(\"salary\", FloatType(), True)\n",
    "])\n",
    "\n",
    "\n",
    "#Inserting data into the newly made schema\n",
    "\n",
    "data = [\n",
    "    (\"James\", None, \"Smith\", 36636, \"M\", 3000.0),\n",
    "    (\"Michael\", \"Rose\", None, 40288, \"M\", 4000.0),\n",
    "    (\"Robert\", None, \"Williams\", 42114, \"M\", 4000.0),\n",
    "    (\"Maria\", \"Anne\", \"Jones\", 39192, \"F\", 4000.0),\n",
    "    (\"Jen\", \"Mary\", \"Brown\", None, \"F\", -1.0)\n",
    "]\n",
    "\n",
    "# Create a DataFrame using the schema and data\n",
    "\n",
    "df = spark.createDataFrame(data, schema)\n",
    "\n",
    "\n",
    "# Show the schema\n",
    "\n",
    "df.printSchema()\n",
    "\n",
    "# Display the content without truncation\n",
    "\n",
    "df.show(truncate=False)\n",
    "\n"
   ]
  },
  {
   "cell_type": "markdown",
   "metadata": {},
   "source": [
    "### Problem 6: Adding and Renaming Columns\n",
    "Problem: Add a new column \"gender\" to the existing DataFrame and rename the \"Age\" column to \"Years\"."
   ]
  },
  {
   "cell_type": "code",
   "execution_count": 132,
   "metadata": {},
   "outputs": [
    {
     "name": "stdout",
     "output_type": "stream",
     "text": [
      "root\n",
      " |-- user_id: integer (nullable = true)\n",
      " |-- years: integer (nullable = true)\n",
      " |-- gender: string (nullable = false)\n",
      " |-- occupation: string (nullable = true)\n",
      " |-- zip_code: string (nullable = true)\n",
      "\n",
      "+-------+-----+-------+-------------+--------+\n",
      "|user_id|years|gender |occupation   |zip_code|\n",
      "+-------+-----+-------+-------------+--------+\n",
      "|1      |24   |Unknown|technician   |85711   |\n",
      "|2      |53   |Unknown|other        |94043   |\n",
      "|3      |23   |Unknown|writer       |32067   |\n",
      "|4      |24   |Unknown|technician   |43537   |\n",
      "|5      |33   |Unknown|other        |15213   |\n",
      "|6      |42   |Unknown|executive    |98101   |\n",
      "|7      |57   |Unknown|administrator|91344   |\n",
      "|8      |36   |Unknown|administrator|05201   |\n",
      "|9      |29   |Unknown|student      |01002   |\n",
      "|10     |53   |Unknown|lawyer       |90703   |\n",
      "|11     |39   |Unknown|other        |30329   |\n",
      "|12     |28   |Unknown|other        |06405   |\n",
      "|13     |47   |Unknown|educator     |29206   |\n",
      "|14     |45   |Unknown|scientist    |55106   |\n",
      "|15     |49   |Unknown|educator     |97301   |\n",
      "|16     |21   |Unknown|entertainment|10309   |\n",
      "|17     |30   |Unknown|programmer   |06355   |\n",
      "|18     |35   |Unknown|other        |37212   |\n",
      "|19     |40   |Unknown|librarian    |02138   |\n",
      "|20     |42   |Unknown|homemaker    |95660   |\n",
      "+-------+-----+-------+-------------+--------+\n",
      "only showing top 20 rows\n",
      "\n"
     ]
    }
   ],
   "source": [
    "# Add a new column \"gender\" with a constant value\n",
    "occupation_with_gender = occupation.withColumn(\"gender\", lit(\"Unknown\"))\n",
    "\n",
    "# Rename the \"age\" column to \"years\"\n",
    "occupation_final = occupation_with_gender.withColumnRenamed(\"age\", \"years\")\n",
    "\n",
    "# Show the schema and content\n",
    "occupation_final.printSchema()\n",
    "\n",
    "occupation_final.show(truncate=False)"
   ]
  },
  {
   "cell_type": "markdown",
   "metadata": {},
   "source": [
    "### Problem 7: Filtering Rows and Sorting\n",
    "Problem: Filter out users who are younger than 30 years and sort the DataFrame by age in descending order."
   ]
  },
  {
   "cell_type": "code",
   "execution_count": 144,
   "metadata": {},
   "outputs": [
    {
     "name": "stdout",
     "output_type": "stream",
     "text": [
      "+-------+-----+-------+-------------+--------+\n",
      "|user_id|years| gender|   occupation|zip_code|\n",
      "+-------+-----+-------+-------------+--------+\n",
      "|    481|   73|Unknown|      retired|   37771|\n",
      "|    767|   70|Unknown|     engineer|   00000|\n",
      "|    803|   70|Unknown|administrator|   78212|\n",
      "|    860|   70|Unknown|      retired|   48322|\n",
      "|    559|   69|Unknown|    executive|   10022|\n",
      "|    585|   69|Unknown|    librarian|   98501|\n",
      "|    349|   68|Unknown|      retired|   61455|\n",
      "|    573|   68|Unknown|      retired|   48911|\n",
      "|    211|   66|Unknown|     salesman|   32605|\n",
      "|    318|   65|Unknown|      retired|   06518|\n",
      "|    564|   65|Unknown|      retired|   94591|\n",
      "|    651|   65|Unknown|      retired|   02903|\n",
      "|    423|   64|Unknown|        other|   91606|\n",
      "|    845|   64|Unknown|       doctor|   97405|\n",
      "|    364|   63|Unknown|     engineer|   01810|\n",
      "|    777|   63|Unknown|   programmer|   01810|\n",
      "|    858|   63|Unknown|     educator|   09645|\n",
      "|    266|   62|Unknown|administrator|   78756|\n",
      "|    520|   62|Unknown|   healthcare|   12603|\n",
      "|    351|   61|Unknown|     educator|   49938|\n",
      "+-------+-----+-------+-------------+--------+\n",
      "only showing top 20 rows\n",
      "\n"
     ]
    }
   ],
   "source": [
    "# Filter out users younger than 30 years\n",
    "filtered_occupation = occupation_final.filter(occupation.age >= 30)\n",
    "\n",
    "# Sort the DataFrame by age in descending order\n",
    "sorted_occupation = filtered_occupation.orderBy(occupation.age.desc())\n",
    "\n",
    "# Show the resulting DataFrame\n",
    "sorted_occupation.show()"
   ]
  },
  {
   "cell_type": "markdown",
   "metadata": {},
   "source": [
    "### Problem 8: Repartitioning and Collecting Rows\n",
    "Problem: Repartition the DataFrame into 2 partitions without shuffling the data, then collect and display all rows in the driver and print number of partitions"
   ]
  },
  {
   "cell_type": "code",
   "execution_count": 148,
   "metadata": {},
   "outputs": [
    {
     "name": "stdout",
     "output_type": "stream",
     "text": [
      "Row(firstname='James', middlename=None, lastname='Smith', id=36636, gender='M', salary=3000.0)\n",
      "Row(firstname='Michael', middlename='Rose', lastname=None, id=40288, gender='M', salary=4000.0)\n",
      "Row(firstname='Robert', middlename=None, lastname='Williams', id=42114, gender='M', salary=4000.0)\n",
      "Row(firstname='Maria', middlename='Anne', lastname='Jones', id=39192, gender='F', salary=4000.0)\n",
      "Row(firstname='Jen', middlename='Mary', lastname='Brown', id=None, gender='F', salary=-1.0)\n"
     ]
    }
   ],
   "source": [
    "# Repartition the DataFrame into 2 partitions without shuffling\n",
    "repartitioned_df = df.coalesce(2)\n",
    "\n",
    "# Collect and display all rows in the driver\n",
    "all_rows = repartitioned_df.collect()\n",
    "for row in all_rows:\n",
    "    print(row)\n",
    "\n",
    "# Get the number of partitions\n",
    "num_partitions = repartitioned_df.rdd.getNumPartitions()\n"
   ]
  },
  {
   "cell_type": "code",
   "execution_count": 142,
   "metadata": {},
   "outputs": [
    {
     "name": "stdout",
     "output_type": "stream",
     "text": [
      "Number of partitions: 2\n"
     ]
    }
   ],
   "source": [
    "print(\"Number of partitions:\", num_partitions)"
   ]
  },
  {
   "cell_type": "markdown",
   "metadata": {},
   "source": []
  }
 ],
 "metadata": {
  "kernelspec": {
   "display_name": "Python 3",
   "language": "python",
   "name": "python3"
  },
  "language_info": {
   "codemirror_mode": {
    "name": "ipython",
    "version": 3
   },
   "file_extension": ".py",
   "mimetype": "text/x-python",
   "name": "python",
   "nbconvert_exporter": "python",
   "pygments_lexer": "ipython3",
   "version": "3.10.12"
  },
  "orig_nbformat": 4
 },
 "nbformat": 4,
 "nbformat_minor": 2
}
