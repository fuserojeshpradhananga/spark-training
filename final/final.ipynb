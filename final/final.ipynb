{
 "cells": [
  {
   "cell_type": "code",
   "execution_count": 5,
   "metadata": {},
   "outputs": [],
   "source": [
    "from pyspark.sql import SparkSession\n",
    "from pyspark.sql import functions as F\n",
    "import calendar\n",
    "from pyspark.sql.window import Window\n",
    "from pyspark.sql.types import StructType, StructField, StringType, IntegerType, FloatType\n",
    "# Initialize SparkSession\n",
    "spark = SparkSession.builder.appName(\"CSVToPostgreSQL\").getOrCreate()\n",
    "\n",
    "\n",
    "from dotenv import load_dotenv\n",
    "import os\n",
    "\n",
    "load_dotenv()\n",
    "\n",
    "pg_user = os.getenv(\"PG_USER\")\n",
    "pg_password = os.getenv(\"PG_PW\")\n",
    "\n",
    "\n"
   ]
  },
  {
   "cell_type": "markdown",
   "metadata": {},
   "source": [
    "### Load CSV then Data Cleaning"
   ]
  },
  {
   "cell_type": "code",
   "execution_count": 6,
   "metadata": {},
   "outputs": [],
   "source": [
    "df1 = spark.read.csv(\"../final/Fuel_Station_Information.csv\", header=True, inferSchema=True)\n",
    "df2 = spark.read.csv(\"../final/Hourly_Gasoline_Prices.csv\", header=True, inferSchema=True)\n",
    "\n",
    "joined_df = df1.join(df2, \"Id\", \"inner\")\n",
    "\n",
    "cleaned_df = joined_df.dropna()\n",
    "\n",
    "# Data Cleaning:Removing rows where the \"Type\" column has the value \"autostradle\"\n",
    "cleaned_df = cleaned_df.filter(F.col(\"Type\") != \"Autostradle\")"
   ]
  },
  {
   "cell_type": "markdown",
   "metadata": {},
   "source": [
    "### Saving the cleaned file as parquet file"
   ]
  },
  {
   "cell_type": "code",
   "execution_count": 7,
   "metadata": {},
   "outputs": [
    {
     "name": "stderr",
     "output_type": "stream",
     "text": [
      "                                                                                \r"
     ]
    }
   ],
   "source": [
    "parquet_path = \"../trying/parquet\"\n",
    "cleaned_df.coalesce(6).write.parquet(parquet_path, mode=\"overwrite\")"
   ]
  },
  {
   "cell_type": "markdown",
   "metadata": {},
   "source": [
    "### Connecting Spark to Dbeaver and writing the cleaned csv into the Postgres"
   ]
  },
  {
   "cell_type": "code",
   "execution_count": 8,
   "metadata": {},
   "outputs": [
    {
     "name": "stderr",
     "output_type": "stream",
     "text": [
      "                                                                                \r"
     ]
    }
   ],
   "source": [
    "\n",
    "jdbc_url = \"jdbc:postgresql://localhost:5432/postgres\"\n",
    "properties = {\n",
    "    \"user\": pg_user,\n",
    "    \"password\": pg_password,\n",
    "    \"driver\": \"org.postgresql.Driver\"\n",
    "}\n",
    "\n",
    "table_name = \"newtable\"\n",
    "\n",
    "\n",
    "\n",
    "cleaned_df.write.jdbc(url=jdbc_url, table=table_name, mode=\"overwrite\", properties=properties)"
   ]
  },
  {
   "cell_type": "markdown",
   "metadata": {},
   "source": [
    "### Reading the file from Postgres and Working in it for our queries"
   ]
  },
  {
   "cell_type": "code",
   "execution_count": 9,
   "metadata": {},
   "outputs": [
    {
     "name": "stdout",
     "output_type": "stream",
     "text": [
      "Number of rows read: 10000\n",
      "+-----+--------------------+--------------+--------+--------------------+--------------------+------------------+------------------+------+-----+-------------------+\n",
      "|   Id|Fuel_station_manager|Petrol_company|    Type|        Station_name|                City|          Latitude|       Longitudine|isSelf|Price|               Date|\n",
      "+-----+--------------------+--------------+--------+--------------------+--------------------+------------------+------------------+------+-----+-------------------+\n",
      "|51785|          BECOJL SRL|      Kerotris|Stradale|KEROTRIS-BASILICA...|               PARMA|44.710256529091005|10.399971220986318|     1|1.858|2022-05-13 16:59:39|\n",
      "|29040|     QUADRELLI LUIGI|        Api-Ip|Stradale| IMPIANTO MARCHIO IP|               PAVIA| 45.17679176827163|  9.20578122138977|     0|2.044|2022-05-13 16:59:52|\n",
      "|29040|     QUADRELLI LUIGI|        Api-Ip|Stradale| IMPIANTO MARCHIO IP|               PAVIA| 45.17679176827163|  9.20578122138977|     1|1.834|2022-05-13 16:59:52|\n",
      "|14384|  CIS NORD LAROTONDA|           Ego|Stradale|  CIS NORD LAROTONDA|              MODENA| 44.62200914971388| 10.92717468738556|     1|1.839|2022-05-13 17:00:01|\n",
      "|18355|CONSORZIO IMPREND...| Pompe Bianche|Stradale|               CIPER| CAZZANO DI TRAMIGNA| 45.46357108347312|11.205821335315704|     1|1.813|2022-05-13 17:00:04|\n",
      "|14429|  VIA_FRATELLI_CERVI|           Ego|Stradale|  VIA_FRATELLI_CERVI|  REGGIO NELL'EMILIA| 44.70586017120754|10.610432624816896|     1|1.829|2022-05-13 17:00:05|\n",
      "|46096|      EUROPAM S.R.L.|       Europam|Stradale|EUROPAM - CHIUSA ...|     CHIUSA DI PESIO| 44.32852008973817| 7.669884574224284|     1|1.797|2022-05-13 17:00:05|\n",
      "|46340|      EUROPAM S.R.L.|       Europam|Stradale|  EUROPAM - MONFORTE|     MONFORTE D'ALBA| 44.58572248602273| 7.961842955703446|     1|1.807|2022-05-13 17:00:06|\n",
      "| 9132|        ponte pietra|        Tamoil|Stradale|        ponte pietra|              CESENA| 44.14053194543282|12.280327677726746|     0|1.858|2022-05-13 17:00:08|\n",
      "|27209|Innocenti Moreno ...|        Api-Ip|Stradale|Innocenti Moreno ...|         PIETRASANTA| 43.91160341394626|10.211723654370076|     0|2.062|2022-05-13 17:00:09|\n",
      "|27209|Innocenti Moreno ...|        Api-Ip|Stradale|Innocenti Moreno ...|         PIETRASANTA| 43.91160341394626|10.211723654370076|     1|1.834|2022-05-13 17:00:09|\n",
      "|14442|               GATTA|           Ego|Stradale|               GATTA|CASTELNOVO NE' MONTI|  44.4105577066164| 10.46295404434204|     1|1.834|2022-05-13 17:00:09|\n",
      "|32200|        B.go Podgora|            Q8|Stradale|        B.go Podgora|              LATINA| 41.50937058510577|12.856117486953735|     1|1.799|2022-05-13 17:00:09|\n",
      "|52151|      ECONOMY S.R.L.|        Repsol|Stradale|Economy - Novara ...|              NOVARA| 45.45539441115191|  8.61797372580591|     1|1.798|2022-05-13 17:00:10|\n",
      "|14438|VIA_FRATELLI_BAND...|           Ego|Stradale|VIA_FRATELLI_BAND...|  REGGIO NELL'EMILIA| 44.70505951136235|10.593620538711548|     1|1.809|2022-05-13 17:00:13|\n",
      "|14446|  BAGNOLO_VIA_EUROPA|           Ego|Stradale|  BAGNOLO_VIA_EUROPA|    BAGNOLO IN PIANO| 44.77070780318123|10.666574235195869|     1|1.807|2022-05-13 17:00:14|\n",
      "|14449|             GAVASSA|           Ego|Stradale|             GAVASSA|  REGGIO NELL'EMILIA| 44.70843364570548|10.684595704078674|     1|1.839|2022-05-13 17:00:16|\n",
      "| 7654|           GO S.R.L.|            GO|Stradale|           GO CANDIA|     CANDIA CANAVESE|45.322748842880046|7.8789754087363235|     1|1.821|2022-05-13 17:00:19|\n",
      "|22970|           DINAZZANO|           Ego|Stradale|           DINAZZANO|         CASALGRANDE|44.577749001875794|10.743931531906128|     1|1.849|2022-05-13 17:00:19|\n",
      "|40149|SANT'ANTONINO - C...|           Ego|Stradale|SANT'ANTONINO - C...|         CASALGRANDE|  44.5602020303066|10.753577274421788|     1|1.839|2022-05-13 17:00:20|\n",
      "+-----+--------------------+--------------+--------+--------------------+--------------------+------------------+------------------+------+-----+-------------------+\n",
      "only showing top 20 rows\n",
      "\n"
     ]
    }
   ],
   "source": [
    "\n",
    "\n",
    "# Define the JDBC connection properties\n",
    "jdbc_url = \"jdbc:postgresql://localhost:5432/postgres\"\n",
    "properties = {\n",
    "    \"user\": pg_user,\n",
    "    \"password\": pg_password,\n",
    "    \"driver\": \"org.postgresql.Driver\"\n",
    "}\n",
    "\n",
    "table_name = \"newtable\"\n",
    "\n",
    "#filteringtable\n",
    "filter_condition = \"1=1 LIMIT 10000\"\n",
    "\n",
    "df3 = spark.read \\\n",
    "    .format(\"jdbc\") \\\n",
    "    .option(\"url\", jdbc_url) \\\n",
    "    .option(\"dbtable\", f\"(SELECT * FROM {table_name} WHERE {filter_condition}) AS filtered_table\") \\\n",
    "    .options(**properties) \\\n",
    "    .load()\n",
    "\n",
    "\n",
    "row_count = df3.count()\n",
    "print(f\"Number of rows read: {row_count}\") \n",
    "\n",
    "\n",
    "df3.show()"
   ]
  },
  {
   "cell_type": "markdown",
   "metadata": {},
   "source": [
    "### Calculate the average seasonal prices for a dataset containing date and price information, while also assigning each date a season label based on the month then writing the final table into Postgres"
   ]
  },
  {
   "cell_type": "code",
   "execution_count": 11,
   "metadata": {},
   "outputs": [
    {
     "name": "stdout",
     "output_type": "stream",
     "text": [
      "+------+----------------------+\n",
      "|Season|Average Seasonal Price|\n",
      "+------+----------------------+\n",
      "|Summer|    1.9878632610939173|\n",
      "|Spring|    1.8628108614232208|\n",
      "|Autumn|    1.8136273425499252|\n",
      "|Winter|    1.7541149382253833|\n",
      "+------+----------------------+\n",
      "\n"
     ]
    }
   ],
   "source": [
    "df = df3.withColumn('month', F.month('date')) \\\n",
    "        .withColumn('Season', F.when(F.col('month').between(3, 5), 'Spring')\n",
    "                               .when(F.col('month').between(6, 8), 'Summer')\n",
    "                               .when(F.col('month').between(9, 11), 'Autumn')\n",
    "                               .otherwise('Winter'))\n",
    "\n",
    "window_spec = Window.partitionBy('Season')\n",
    "\n",
    "seasonal_avg_prices = df.withColumn('Average Seasonal Price',\n",
    "                                    F.avg('Price').over(window_spec))\n",
    "\n",
    "seasonal_avg_prices = seasonal_avg_prices.dropDuplicates(['Season'])\n",
    "\n",
    "seasonal_avg_prices = seasonal_avg_prices.orderBy(F.col(\"Average Seasonal Price\").desc())\n",
    "\n",
    "seasonal_avg_prices.select(\"Season\", \"Average Seasonal Price\").show()\n",
    "\n",
    "\n",
    "jdbc_url = \"jdbc:postgresql://localhost:5432/postgres\"\n",
    "properties = {\n",
    "    \"user\": pg_user,\n",
    "    \"password\": pg_password,\n",
    "    \"driver\": \"org.postgresql.Driver\"\n",
    "}\n",
    "\n",
    "table_name = \"Seasontable\"\n",
    "\n",
    "columns_to_insert = (\"Season\",\"Average Seasonal Price\")\n",
    "\n",
    "seasonal_avg_prices.select(*columns_to_insert).write.jdbc(url=jdbc_url, table=table_name, mode=\"Overwrite\", properties=properties)\n",
    "\n"
   ]
  },
  {
   "cell_type": "markdown",
   "metadata": {},
   "source": [
    "###  Find the distance between the locations with the minimum and maximum prices in a dataset then Writing thr resulting table into Postgres"
   ]
  },
  {
   "cell_type": "code",
   "execution_count": 12,
   "metadata": {},
   "outputs": [
    {
     "name": "stdout",
     "output_type": "stream",
     "text": [
      "Row(Id='43099', Fuel_station_manager='GERACE GUSTAVO', Petrol_company='Agip Eni', Type='Stradale', Station_name='ENI', City=\"REGGIO NELL'EMILIA\", Latitude='44.69244033453445', Longitudine='10.648039201132178', isSelf=0, Price=1.209, Date=datetime.datetime(2022, 4, 28, 17, 27, 15))\n",
      "Row(Id='52927', Fuel_station_manager='ENERGY', Petrol_company='Pompe Bianche', Type='Stradale', Station_name='ENERGY', City='SAN DEMETRIO CORONE', Latitude='39.57206659091401', Longitudine='16.365120283739316', isSelf=1, Price=4.0, Date=datetime.datetime(2022, 10, 24, 10, 13, 52))\n",
      "+-----------------+\n",
      "|      Distance_km|\n",
      "+-----------------+\n",
      "|738.8053589909481|\n",
      "+-----------------+\n",
      "\n"
     ]
    }
   ],
   "source": [
    "min_price_row = df3.orderBy(F.col(\"Price\")).first()\n",
    "max_price_row = df3.orderBy(F.col(\"Price\").desc()).first()\n",
    "\n",
    "print(min_price_row)\n",
    "print(max_price_row)\n",
    "\n",
    "#checking if min_price_row and max_price_row are not None\n",
    "if min_price_row is not None and max_price_row is not None:\n",
    "    min_latitude = float(min_price_row[\"Latitude\"])\n",
    "    min_longitude = float(min_price_row[\"Longitudine\"])\n",
    "    max_latitude = float(max_price_row[\"Latitude\"])\n",
    "    max_longitude = float(max_price_row[\"Longitudine\"])\n",
    "\n",
    "    min_latitude_rad = F.radians(F.lit(min_latitude)).cast(\"double\")\n",
    "    min_longitude_rad = F.radians(F.lit(min_longitude)).cast(\"double\")\n",
    "    max_latitude_rad = F.radians(F.lit(max_latitude)).cast(\"double\")\n",
    "    max_longitude_rad = F.radians(F.lit(max_longitude)).cast(\"double\")\n",
    "\n",
    "    distance_km = F.acos(\n",
    "    F.sin(min_latitude_rad) * F.sin(max_latitude_rad) +\n",
    "    F.cos(min_latitude_rad) * F.cos(max_latitude_rad) *\n",
    "    F.cos(max_longitude_rad - min_longitude_rad)\n",
    "    ).cast(\"double\") * 6371.0\n",
    "\n",
    "    df_with_distance = df3.withColumn(\"Distance_km\", distance_km)\n",
    "    df_with_distance.select(\"Distance_km\").distinct().show()\n",
    "else:\n",
    "    print(\"No data found to calculate minimum and maximum prices.\")\n",
    "\n",
    "jdbc_url = \"jdbc:postgresql://localhost:5432/postgres\"\n",
    "properties = {\n",
    "    \"user\":pg_user,\n",
    "    \"password\": pg_password,\n",
    "    \"driver\": \"org.postgresql.Driver\"\n",
    "}\n",
    "\n",
    "table_name = \"Distance\"\n",
    "\n",
    "\n",
    "\n",
    "df_with_distance.write.jdbc(url=jdbc_url, table=table_name, mode=\"append\", properties=properties)\n",
    "\n",
    "\n"
   ]
  },
  {
   "cell_type": "markdown",
   "metadata": {},
   "source": [
    "### Calculate the average prices for each day of the month then presents the results in a pivot table then Writing the resulting table into Postgres\n"
   ]
  },
  {
   "cell_type": "code",
   "execution_count": 95,
   "metadata": {},
   "outputs": [
    {
     "name": "stdout",
     "output_type": "stream",
     "text": [
      "+------------+------------------+------------------+------------------+------------------+------------------+------------------+------------------+------------------+------------------+------------------+\n",
      "|day_of_month|           January|          February|             April|               May|              June|            August|         September|           October|          November|          December|\n",
      "+------------+------------------+------------------+------------------+------------------+------------------+------------------+------------------+------------------+------------------+------------------+\n",
      "|          31|               0.0|               0.0|               0.0|               0.0|               0.0|               0.0|               0.0|               0.0|               0.0|1.6961600719424508|\n",
      "|          28|               0.0|               0.0|1.8422384105960277|               0.0|2.1061851851851823|               0.0|               0.0|               0.0|1.6804042553191492|               0.0|\n",
      "|          12|               0.0|1.7942195945945962|               0.0|               0.0|               0.0|               0.0|1.7773640661938541|               0.0|               0.0|               0.0|\n",
      "|          22|               0.0|               0.0|               0.0|               0.0|               0.0|               0.0|               0.0|               0.0|               0.0|             1.598|\n",
      "|          13|               0.0|               0.0|               0.0|               0.0|               0.0|               0.0|               0.0|1.7679227799227766|               0.0|1.7227822966507176|\n",
      "|           6|               0.0|               0.0|               0.0|               0.0|               0.0|               0.0|               0.0|               0.0| 2.109975903614456|               0.0|\n",
      "|           5|               0.0|               0.0|               0.0|               0.0|1.8714037656903755|               0.0|               0.0|               0.0|               0.0|               0.0|\n",
      "|          19|               0.0|               0.0|               0.0|               0.0|               0.0|               0.0|               0.0|               0.0|1.7247537437603966|               0.0|\n",
      "|          17|               0.0|               0.0|               0.0|               0.0|2.1347403598971706|               0.0|               0.0|               0.0|               0.0|               0.0|\n",
      "|           4|1.7937563025210062|               0.0|1.8594004424778765|               0.0|               0.0|1.8577222222222234|               0.0|               0.0|               0.0|               0.0|\n",
      "|          23|               0.0|               0.0|               0.0| 1.939681917211331|               0.0|               0.0|               0.0|               0.0|               0.0|               0.0|\n",
      "|          24|               0.0|               0.0|               0.0|               0.0|               0.0|               0.0|               0.0|1.7059389978213506|               0.0|               0.0|\n",
      "|          21|               0.0|               0.0|               0.0|               0.0|               0.0|               0.0|               0.0|               0.0|               0.0| 1.713459154929576|\n",
      "|          14|               0.0|               0.0|               0.0|1.9009875776397531|               0.0|               0.0|               0.0|               0.0|               0.0|               0.0|\n",
      "|          18|               0.0|               0.0|1.8225202593192877|               0.0|               0.0|               0.0|               0.0|               0.0|               0.0|               0.0|\n",
      "+------------+------------------+------------------+------------------+------------------+------------------+------------------+------------------+------------------+------------------+------------------+\n",
      "\n"
     ]
    }
   ],
   "source": [
    "df = df3.withColumn(\"day_of_month\", F.dayofmonth(\"Date\"))\n",
    "df = df.withColumn(\"month\", F.month(\"Date\"))\n",
    "\n",
    "\n",
    "day_pivot_table = df.groupBy(\"day_of_month\").pivot(\"month\").agg(F.avg(\"Price\"))\n",
    "\n",
    "# Define a list of month names\n",
    "month_names = [\n",
    "    \"January\", \"February\", \"March\", \"April\", \"May\", \"June\",\n",
    "    \"July\", \"August\", \"September\", \"October\", \"November\", \"December\"\n",
    "]\n",
    "\n",
    "\n",
    "for i in range(1, 13):\n",
    "    month_name = month_names[i - 1]\n",
    "    day_pivot_table = day_pivot_table.withColumnRenamed(str(i), month_name)\n",
    "\n",
    "\n",
    "day_pivot_table = day_pivot_table.fillna(0)\n",
    "\n",
    "day_pivot_table.show()\n",
    "\n",
    "jdbc_url = \"jdbc:postgresql://localhost:5432/postgres\"\n",
    "properties = {\n",
    "    \"user\": pg_user,\n",
    "    \"password\": pg_password,\n",
    "    \"driver\": \"org.postgresql.Driver\"\n",
    "}\n",
    "\n",
    "table_name = \"question3\"\n",
    "\n",
    "\n",
    "day_pivot_table.write.jdbc(url=jdbc_url, table=table_name, mode=\"append\", properties=properties)"
   ]
  },
  {
   "cell_type": "code",
   "execution_count": null,
   "metadata": {},
   "outputs": [],
   "source": []
  }
 ],
 "metadata": {
  "kernelspec": {
   "display_name": "Python 3",
   "language": "python",
   "name": "python3"
  },
  "language_info": {
   "codemirror_mode": {
    "name": "ipython",
    "version": 3
   },
   "file_extension": ".py",
   "mimetype": "text/x-python",
   "name": "python",
   "nbconvert_exporter": "python",
   "pygments_lexer": "ipython3",
   "version": "3.10.12"
  },
  "orig_nbformat": 4
 },
 "nbformat": 4,
 "nbformat_minor": 2
}
